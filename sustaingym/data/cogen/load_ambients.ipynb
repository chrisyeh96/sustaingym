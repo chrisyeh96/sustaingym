{
 "cells": [
  {
   "cell_type": "code",
   "execution_count": 1,
   "metadata": {},
   "outputs": [],
   "source": [
    "import numpy as np\n",
    "import pandas as pd"
   ]
  },
  {
   "cell_type": "code",
   "execution_count": 93,
   "metadata": {},
   "outputs": [],
   "source": [
    "save_dir = 'ambients_data/'\n",
    "\n",
    "# load the ambients dataset\n",
    "df = pd.read_excel(save_dir + 'operating_data.xlsx',\n",
    "                header=3)\n",
    "df = df.iloc[:, [0, 1, 2, 7, 8, 9]]\n",
    "df['Date'] = df.apply(lambda row: row.Timestamp.date(), axis=1)\n",
    "dates = df.Date.unique()\n",
    "# # drop the first and last days so each day has 96 datapoints\n",
    "# dfs = [df[df['Date'] == val] for val in dates][1:-1]\n",
    "# # exclude any day that has more or fewer than 96 intervals\n",
    "# # since this means the row is corrupted (fix this later TODO)\n",
    "# dfs = [val for val in dfs if len(val) == 96]\n",
    "\n",
    "# load the electricity price datasets\n",
    "sheet_to_df_map_2021 = pd.read_excel(save_dir + 'rpt.00013060.0000000000000000.DAMLZHBSPP_2021.xlsx', sheet_name=None)\n",
    "sheet_to_df_map_2022 = pd.read_excel(save_dir + 'rpt.00013060.0000000000000000.DAMLZHBSPP_2022.xlsx', sheet_name=None)\n",
    "energy_df = pd.concat([df[df['Settlement Point'] == 'HB_HOUSTON'] for df in sheet_to_df_map_2021.values()]\n",
    "                        + [df[df['Settlement Point'] == 'HB_HOUSTON'] for df in sheet_to_df_map_2022.values()])\n",
    "\n",
    "# # modify the hour ending column to be hour beginning\n",
    "energy_df['Hour Ending'] = energy_df['Hour Ending'].apply(lambda x: int(x[:2])-1)\n",
    "energy_df.rename(columns={'Hour Ending': 'Hour Beginning'}, inplace=True)\n",
    "\n",
    "# convert the date and hour beginning columns to a single datetime\n",
    "energy_df['Delivery Date'] = pd.to_datetime(energy_df['Delivery Date'])\n",
    "energy_df['Hour Beginning'] = energy_df.apply(lambda row: row['Delivery Date'] + pd.Timedelta(hours=row['Hour Beginning']), axis=1)\n",
    "energy_df.drop(columns=['Delivery Date'], inplace=True)\n",
    "\n",
    "# get days in energy_df with more or fewer than 24 hours (due to daylight savings)\n",
    "idxs = energy_df['Hour Beginning'].apply(lambda x: x.date()).value_counts()\n",
    "idxs = idxs[idxs != 24].index\n",
    "\n",
    "# remove the days from energy_df in idxs\n",
    "energy_df = energy_df[~energy_df['Hour Beginning'].apply(lambda x: x.date()).isin(idxs)]\n",
    "\n",
    "# subsample every 15 minutes\n",
    "energy_df.set_index('Hour Beginning', inplace=True)\n",
    "energy_df_15min = energy_df.resample('15min').ffill()\n",
    "\n",
    "# load the gas spot price dataset\n",
    "gas_df = pd.read_csv(save_dir + 'Henry_Hub_Natural_Gas_Spot_Price.csv',\n",
    "                    sep=',', header=4)\n",
    "gas_df['Day'] = pd.to_datetime(gas_df['Day'])\n",
    "\n",
    "# add the column \"Settlement Point Price\" from energy_df_15min to df only\n",
    "# if df has the date and time in its Timestamp column\n",
    "df['Energy Price'] = df.apply(lambda row: energy_df_15min.loc[row.Timestamp]['Settlement Point Price'], axis=1)\n",
    "\n",
    "# add days to gas_df that are missing\n",
    "gas_df = gas_df.set_index('Day')\n",
    "gas_df = gas_df.reindex(pd.date_range(start=gas_df.index.min(), end=gas_df.index.max(), freq='D'))\n",
    "\n",
    "# fill in NaNs with the previous day's price\n",
    "gas_df = gas_df.fillna(method='ffill')\n",
    "\n",
    "# subsample gas_df every 15 minutes\n",
    "gas_df_15min = gas_df.resample('15min').ffill()\n",
    "\n",
    "# add the column \"Henry Hub Natural Gas Spot Price Dollars per Million Btu\" from gas_df_15min to df only\n",
    "# if df has the date and time in its Timestamp column\n",
    "df['Gas Price'] = df.apply(lambda row: gas_df_15min.loc[row.Timestamp]['Henry Hub Natural Gas Spot Price Dollars per Million Btu'], axis=1)\n"
   ]
  },
  {
   "cell_type": "code",
   "execution_count": 90,
   "metadata": {},
   "outputs": [],
   "source": []
  },
  {
   "cell_type": "code",
   "execution_count": 109,
   "metadata": {},
   "outputs": [
    {
     "data": {
      "text/plain": [
       "96"
      ]
     },
     "execution_count": 109,
     "metadata": {},
     "output_type": "execute_result"
    }
   ],
   "source": [
    "len(dfs[0])"
   ]
  },
  {
   "cell_type": "code",
   "execution_count": 106,
   "metadata": {},
   "outputs": [
    {
     "data": {
      "text/plain": [
       "[2.86, 2.86, 2.86, 2.86, 2.86, 2.86, 2.86, 2.86, 2.86, 2.86]"
      ]
     },
     "execution_count": 106,
     "metadata": {},
     "output_type": "execute_result"
    }
   ],
   "source": [
    "df['Gas Price'].iloc[0:10].to_list()"
   ]
  }
 ],
 "metadata": {
  "kernelspec": {
   "display_name": "Python 3",
   "language": "python",
   "name": "python3"
  },
  "language_info": {
   "codemirror_mode": {
    "name": "ipython",
    "version": 3
   },
   "file_extension": ".py",
   "mimetype": "text/x-python",
   "name": "python",
   "nbconvert_exporter": "python",
   "pygments_lexer": "ipython3",
   "version": "3.9.10"
  },
  "orig_nbformat": 4
 },
 "nbformat": 4,
 "nbformat_minor": 2
}
