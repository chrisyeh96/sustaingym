{
 "cells": [
  {
   "cell_type": "code",
   "execution_count": 1,
   "metadata": {},
   "outputs": [
    {
     "name": "stdout",
     "output_type": "stream",
     "text": [
      "/home/ubuntu/sustaingym\n"
     ]
    }
   ],
   "source": [
    "%load_ext autoreload\n",
    "%autoreload 2\n",
    "%matplotlib inline\n",
    "%cd .."
   ]
  },
  {
   "cell_type": "code",
   "execution_count": 2,
   "metadata": {},
   "outputs": [],
   "source": [
    "from datetime import datetime\n",
    "import numpy as np\n",
    "import pandas as pd\n",
    "import pytz\n",
    "\n",
    "import matplotlib.pyplot as plt\n",
    "import seaborn as sns\n",
    "\n",
    "sns.set_style(\"darkgrid\", {\"grid.color\": \".6\", \"grid.linestyle\": \":\"})\n",
    "\n",
    "la_tz = pytz.timezone('America/Los_Angeles')\n",
    "format = '%Y-%m-%d'\n",
    "\n",
    "from sustaingym.envs.evcharging import utils, train_gmm_model"
   ]
  },
  {
   "cell_type": "code",
   "execution_count": 3,
   "metadata": {},
   "outputs": [
    {
     "ename": "TypeError",
     "evalue": "load_gmm_model() missing 2 required positional arguments: 'end' and 'n_components'",
     "output_type": "error",
     "traceback": [
      "\u001b[0;31m---------------------------------------------------------------------------\u001b[0m",
      "\u001b[0;31mTypeError\u001b[0m                                 Traceback (most recent call last)",
      "Cell \u001b[0;32mIn [3], line 19\u001b[0m\n\u001b[1;32m     10\u001b[0m dfs \u001b[39m=\u001b[39m [utils\u001b[39m.\u001b[39mget_real_events(period[\u001b[39m0\u001b[39m], period[\u001b[39m1\u001b[39m], \u001b[39m'\u001b[39m\u001b[39mcaltech\u001b[39m\u001b[39m'\u001b[39m) \u001b[39mfor\u001b[39;00m period \u001b[39min\u001b[39;00m periods]\n\u001b[1;32m     12\u001b[0m dates \u001b[39m=\u001b[39m [\n\u001b[1;32m     13\u001b[0m     \u001b[39m'\u001b[39m\u001b[39m2019-05-01 2019-08-31 30/\u001b[39m\u001b[39m'\u001b[39m,\n\u001b[1;32m     14\u001b[0m     \u001b[39m'\u001b[39m\u001b[39m2019-09-01 2019-12-31 30/\u001b[39m\u001b[39m'\u001b[39m,\n\u001b[1;32m     15\u001b[0m     \u001b[39m'\u001b[39m\u001b[39m2020-02-01 2020-05-31 30/\u001b[39m\u001b[39m'\u001b[39m,\n\u001b[1;32m     16\u001b[0m     \u001b[39m'\u001b[39m\u001b[39m2021-05-01 2021-08-31 30/\u001b[39m\u001b[39m'\u001b[39m,\n\u001b[1;32m     17\u001b[0m ]\n\u001b[0;32m---> 19\u001b[0m gmms \u001b[39m=\u001b[39m [utils\u001b[39m.\u001b[39mload_gmm_model(\u001b[39m'\u001b[39m\u001b[39mcaltech\u001b[39m\u001b[39m'\u001b[39m, \u001b[39m'\u001b[39m\u001b[39m'\u001b[39m)[\u001b[39m'\u001b[39m\u001b[39mgmm\u001b[39m\u001b[39m'\u001b[39m] \u001b[39mfor\u001b[39;00m date \u001b[39min\u001b[39;00m dates]\n",
      "Cell \u001b[0;32mIn [3], line 19\u001b[0m, in \u001b[0;36m<listcomp>\u001b[0;34m(.0)\u001b[0m\n\u001b[1;32m     10\u001b[0m dfs \u001b[39m=\u001b[39m [utils\u001b[39m.\u001b[39mget_real_events(period[\u001b[39m0\u001b[39m], period[\u001b[39m1\u001b[39m], \u001b[39m'\u001b[39m\u001b[39mcaltech\u001b[39m\u001b[39m'\u001b[39m) \u001b[39mfor\u001b[39;00m period \u001b[39min\u001b[39;00m periods]\n\u001b[1;32m     12\u001b[0m dates \u001b[39m=\u001b[39m [\n\u001b[1;32m     13\u001b[0m     \u001b[39m'\u001b[39m\u001b[39m2019-05-01 2019-08-31 30/\u001b[39m\u001b[39m'\u001b[39m,\n\u001b[1;32m     14\u001b[0m     \u001b[39m'\u001b[39m\u001b[39m2019-09-01 2019-12-31 30/\u001b[39m\u001b[39m'\u001b[39m,\n\u001b[1;32m     15\u001b[0m     \u001b[39m'\u001b[39m\u001b[39m2020-02-01 2020-05-31 30/\u001b[39m\u001b[39m'\u001b[39m,\n\u001b[1;32m     16\u001b[0m     \u001b[39m'\u001b[39m\u001b[39m2021-05-01 2021-08-31 30/\u001b[39m\u001b[39m'\u001b[39m,\n\u001b[1;32m     17\u001b[0m ]\n\u001b[0;32m---> 19\u001b[0m gmms \u001b[39m=\u001b[39m [utils\u001b[39m.\u001b[39;49mload_gmm_model(\u001b[39m'\u001b[39;49m\u001b[39mcaltech\u001b[39;49m\u001b[39m'\u001b[39;49m, \u001b[39m'\u001b[39;49m\u001b[39m'\u001b[39;49m)[\u001b[39m'\u001b[39m\u001b[39mgmm\u001b[39m\u001b[39m'\u001b[39m] \u001b[39mfor\u001b[39;00m date \u001b[39min\u001b[39;00m dates]\n",
      "\u001b[0;31mTypeError\u001b[0m: load_gmm_model() missing 2 required positional arguments: 'end' and 'n_components'"
     ]
    }
   ],
   "source": [
    "dir = 'sustaingym/sustaingym/data/evcharging/gmms_ev_charging/caltech'\n",
    "\n",
    "seasons = ['Summer 2019', 'Fall 2019', 'Spring 2020', 'Summer 2021']\n",
    "\n",
    "periods = [\n",
    "    (datetime.strptime(utils.DEFAULT_PERIOD_TO_RANGE[season][0], format).replace(tzinfo=la_tz),\n",
    "     datetime.strptime(utils.DEFAULT_PERIOD_TO_RANGE[season][1], format).replace(tzinfo=la_tz))\n",
    "    for season in seasons]\n",
    "\n",
    "dfs = [utils.get_real_events(period[0], period[1], 'caltech') for period in periods]\n",
    "\n",
    "dates = [\n",
    "    '2019-05-01 2019-08-31 30/',\n",
    "    '2019-09-01 2019-12-31 30/',\n",
    "    '2020-02-01 2020-05-31 30/',\n",
    "    '2021-05-01 2021-08-31 30/',\n",
    "]\n",
    "\n",
    "gmms = [utils.load_gmm_model('caltech', '')['gmm'] for date in dates]"
   ]
  },
  {
   "cell_type": "code",
   "execution_count": 16,
   "metadata": {},
   "outputs": [
    {
     "name": "stdout",
     "output_type": "stream",
     "text": [
      "Summer 2019\n",
      "Fall 2019\n",
      "Spring 2020\n",
      "Summer 2021\n"
     ]
    },
    {
     "data": {
      "text/plain": [
       "{'Summer 2019': array([9.17143886, 9.30229362, 9.35300421, 9.54950373, 9.46140103,\n",
       "        9.47825028, 9.49120051, 9.53449704, 9.43583472]),\n",
       " 'Fall 2019': array([8.96557019, 9.30266438, 9.57068015, 9.61921853, 9.62856752,\n",
       "        9.63388095, 9.61387757, 9.53899689, 9.49583835]),\n",
       " 'Spring 2020': array([9.02450071, 9.47751126, 9.54893825, 9.5403094 , 9.25865291,\n",
       "        9.13104618, 8.89856517, 8.32966463, 7.83967563]),\n",
       " 'Summer 2021': array([ 9.39231444,  8.8955127 ,  9.86685043,  9.95498644, 10.15161606,\n",
       "        10.02444361, 10.09654295,  9.28471906,  9.30004197])}"
      ]
     },
     "execution_count": 16,
     "metadata": {},
     "output_type": "execute_result"
    }
   ],
   "source": [
    "from sklearn.mixture import GaussianMixture\n",
    "from sklearn.model_selection import KFold\n",
    "\n",
    "components = [5, 10, 20, 30, 40, 50, 60, 75, 100]\n",
    "\n",
    "def fit_scores(df, components=components):\n",
    "    dff = train_gmm_model.preprocess(df, filter=True)\n",
    "    folds = KFold(n_splits=5, shuffle=True, random_state=42)\n",
    "\n",
    "    oof_scores = []\n",
    "    for n_c in components:\n",
    "        gmm = GaussianMixture(n_components=n_c)\n",
    "\n",
    "        scores = []\n",
    "        for train_idx, test_idx in folds.split(dff):\n",
    "            train = dff.iloc[train_idx]\n",
    "            test = dff.iloc[test_idx]\n",
    "\n",
    "            gmm.fit(train)\n",
    "            score = gmm.score(test)\n",
    "            scores.append(score)\n",
    "        scores = np.mean(scores)\n",
    "        oof_scores.append(score)\n",
    "    return np.array(oof_scores)\n",
    "\n",
    "scores = {}\n",
    "for i, season in enumerate(seasons):\n",
    "    print(season)\n",
    "    scores[season] = fit_scores(dfs[i])\n",
    "scores"
   ]
  },
  {
   "cell_type": "code",
   "execution_count": 19,
   "metadata": {},
   "outputs": [
    {
     "name": "stdout",
     "output_type": "stream",
     "text": [
      "Summer 2019 best number of components: 30\n",
      "Fall 2019 best number of components: 50\n",
      "Spring 2020 best number of components: 20\n",
      "Summer 2021 best number of components: 40\n",
      "overall best number of components: 30\n"
     ]
    }
   ],
   "source": [
    "for season in seasons:\n",
    "    print(f'{season} best number of components: {components[scores[season].argmax()]}')\n",
    "\n",
    "scores_sum = scores['Summer 2019'] + scores['Fall 2019'] + scores['Spring 2020'] + scores['Summer 2021']\n",
    "print(f'overall best number of components: {components[scores_sum.argmax()]}')"
   ]
  },
  {
   "cell_type": "code",
   "execution_count": 9,
   "metadata": {},
   "outputs": [
    {
     "data": {
      "text/plain": [
       "(3527, 3177, 1269, 1829)"
      ]
     },
     "execution_count": 9,
     "metadata": {},
     "output_type": "execute_result"
    }
   ],
   "source": [
    "len(dfs[0]), len(dfs[1]), len(dfs[2]), len(dfs[3])"
   ]
  },
  {
   "cell_type": "code",
   "execution_count": 23,
   "metadata": {},
   "outputs": [],
   "source": [
    "def get_fit_score(i, j):\n",
    "    # gmm trained on i, tested on j\n",
    "    # w/o cars staying overnight\n",
    "    df1 = train_gmm_model.preprocess(dfs[j], filter=True)\n",
    "    # w/ cars staying overnight\n",
    "    df2 = train_gmm_model.preprocess(dfs[j], filter=False)\n",
    "\n",
    "    return gmms[i].score(df1), gmms[i].score(df2)"
   ]
  },
  {
   "cell_type": "code",
   "execution_count": 24,
   "metadata": {},
   "outputs": [
    {
     "name": "stdout",
     "output_type": "stream",
     "text": [
      "{'Summer 2019': [4.234415527056902, 3.2997746318259993, 3.044439373016871, 0.40390034217252213], 'Fall 2019': [-0.2779908212927961, -0.034438724574192926, -0.3517987519811351, -1.3159958196776536], 'Spring 2020': [-1.3325409711033553, -1.310843508182816, -1.3755261161614591, -2.5104645414823814], 'Summer 2021': [-6.512073734829902, -6.511509813960804, -6.706554609644226, -6.428982824240368]}\n"
     ]
    }
   ],
   "source": [
    "# x-axis: train years, # y-axis: test year\n",
    "\n",
    "train_cols = {season: [] for season in seasons}\n",
    "\n",
    "for i, train_season in enumerate(seasons):\n",
    "    for j, test_season in enumerate(seasons):\n",
    "        train_cols[train_season].append(get_fit_score(i, j)[0])\n",
    "\n",
    "print(train_cols)"
   ]
  },
  {
   "cell_type": "code",
   "execution_count": 26,
   "metadata": {},
   "outputs": [
    {
     "data": {
      "text/plain": [
       "Text(33.0, 0.5, 'GMM testing period')"
      ]
     },
     "execution_count": 26,
     "metadata": {},
     "output_type": "execute_result"
    },
    {
     "data": {
      "image/png": "[encoded data removed]",
      "text/plain": [
       "<Figure size 432x288 with 2 Axes>"
      ]
     },
     "metadata": {},
     "output_type": "display_data"
    }
   ],
   "source": [
    "cross_scores = pd.DataFrame(train_cols, index=seasons)\n",
    "\n",
    "ax = sns.heatmap(cross_scores, cmap='viridis', annot=True, fmt='.3g')\n",
    "plt.title('30-component GMM Average Log-Likelihood Scores')\n",
    "plt.xlabel('GMM trained period')\n",
    "plt.ylabel('GMM testing period')\n"
   ]
  },
  {
   "cell_type": "code",
   "execution_count": null,
   "metadata": {},
   "outputs": [],
   "source": []
  }
 ],
 "metadata": {
  "kernelspec": {
   "display_name": "Python 3.9.13 ('sustaingym')",
   "language": "python",
   "name": "python3"
  },
  "language_info": {
   "codemirror_mode": {
    "name": "ipython",
    "version": 3
   },
   "file_extension": ".py",
   "mimetype": "text/x-python",
   "name": "python",
   "nbconvert_exporter": "python",
   "pygments_lexer": "ipython3",
   "version": "3.9.13"
  },
  "orig_nbformat": 4,
  "vscode": {
   "interpreter": {
    "hash": "c910351b0c3a4aade2cf03b555240fe9951314ae7b50b4f56bc279231ceafe8d"
   }
  }
 },
 "nbformat": 4,
 "nbformat_minor": 2
}
