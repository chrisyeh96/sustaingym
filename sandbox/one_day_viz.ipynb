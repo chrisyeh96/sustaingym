{
 "cells": [
  {
   "cell_type": "code",
   "execution_count": 1,
   "metadata": {},
   "outputs": [
    {
     "name": "stdout",
     "output_type": "stream",
     "text": [
      "/home/ubuntu/sustaingym\n"
     ]
    }
   ],
   "source": [
    "%load_ext autoreload\n",
    "%autoreload 2\n",
    "%matplotlib inline\n",
    "%cd .."
   ]
  },
  {
   "cell_type": "code",
   "execution_count": 2,
   "metadata": {},
   "outputs": [],
   "source": [
    "import matplotlib.pyplot as plt\n",
    "import seaborn as sns\n",
    "sns.set_style('whitegrid')\n",
    "\n",
    "from sustaingym.envs.evcharging import EVChargingEnv, RealTraceGenerator, \\\n",
    "    GMMsTraceGenerator, DiscreteActionWrapper, MultiAgentEVChargingEnv\n",
    "from sustaingym.algorithms.evcharging.baselines import \\\n",
    "    RLLibAlgorithm, GreedyAlgorithm, RandomAlgorithm, MPC, OfflineOptimal\n",
    "from sustaingym.envs.evcharging.event_generation import AbstractTraceGenerator\n",
    "from sustaingym.envs.evcharging.utils import DATE_FORMAT, DEFAULT_PERIOD_TO_RANGE, SiteStr\n",
    "\n",
    "day = '2021-07-06'\n",
    "dg = RealTraceGenerator('caltech', (day, day))\n",
    "# '2021-07-05', '2021-07-18'\n",
    "env = EVChargingEnv(dg, vectorize_obs=False)"
   ]
  },
  {
   "cell_type": "code",
   "execution_count": 3,
   "metadata": {},
   "outputs": [
    {
     "name": "stdout",
     "output_type": "stream",
     "text": [
      "ga\n",
      "[1]\n"
     ]
    },
    {
     "name": "stderr",
     "output_type": "stream",
     "text": [
      "100%|██████████| 1/1 [00:07<00:00,  7.23s/it]\n"
     ]
    },
    {
     "name": "stdout",
     "output_type": "stream",
     "text": [
      "ra\n",
      "[1]\n"
     ]
    },
    {
     "name": "stderr",
     "output_type": "stream",
     "text": [
      "100%|██████████| 1/1 [00:07<00:00,  7.25s/it]\n"
     ]
    },
    {
     "name": "stdout",
     "output_type": "stream",
     "text": [
      "mpc\n",
      "[1]\n"
     ]
    },
    {
     "name": "stderr",
     "output_type": "stream",
     "text": [
      "100%|██████████| 1/1 [00:14<00:00, 14.13s/it]\n"
     ]
    },
    {
     "name": "stdout",
     "output_type": "stream",
     "text": [
      "oo\n",
      "[1]\n"
     ]
    },
    {
     "name": "stderr",
     "output_type": "stream",
     "text": [
      "  0%|          | 0/1 [00:00<?, ?it/s]"
     ]
    },
    {
     "ename": "",
     "evalue": "",
     "output_type": "error",
     "traceback": [
      "\u001b[1;31mCanceled future for execute_request message before replies were done"
     ]
    },
    {
     "ename": "",
     "evalue": "",
     "output_type": "error",
     "traceback": [
      "\u001b[1;31mThe Kernel crashed while executing code in the the current cell or a previous cell. Please review the code in the cell(s) to identify a possible cause of the failure. Click <a href='https://aka.ms/vscodeJupyterKernelCrash'>here</a> for more info. View Jupyter <a href='command:jupyter.viewOutput'>log</a> for further details."
     ]
    }
   ],
   "source": [
    "ga = GreedyAlgorithm(env)\n",
    "ra = RandomAlgorithm(env)\n",
    "mpc = MPC(env)\n",
    "oo = OfflineOptimal(env)\n",
    "\n",
    "name2algo = {\n",
    "    'ga': ga,\n",
    "    'ra': ra,\n",
    "    'mpc': mpc,\n",
    "    'oo': oo\n",
    "}\n",
    "\n",
    "name2action = {}\n",
    "name2res = {}\n",
    "\n",
    "for name in name2algo:\n",
    "    print(name)\n",
    "    res, action = name2algo[name].run([1], return_pilot_signals=True)\n",
    "    name2action[name] = action\n",
    "    name2res[name] = res"
   ]
  },
  {
   "cell_type": "code",
   "execution_count": null,
   "metadata": {},
   "outputs": [],
   "source": [
    "plt.title('Sum of pilot signals on timestep')\n",
    "plt.xlabel('timestep')\n",
    "plt.ylabel('Pilot signal (A?)')\n",
    "for name in name2algo:\n",
    "    action = name2action[name].sum(axis=1)\n",
    "    plt.plot(action, label=name)\n",
    "plt.legend()\n",
    "plt.show()"
   ]
  },
  {
   "cell_type": "code",
   "execution_count": 2,
   "metadata": {},
   "outputs": [
    {
     "name": "stderr",
     "output_type": "stream",
     "text": [
      "2023-05-12 18:06:33,529\tINFO worker.py:1625 -- Started a local Ray instance.\n",
      "\u001b[2m\u001b[36m(RolloutWorker pid=698560)\u001b[0m 2023-05-12 18:06:42,541\tWARNING env.py:155 -- Your env doesn't have a .spec.max_episode_steps attribute. Your horizon will default to infinity, and your environment will not be reset.\n",
      "2023-05-12 18:06:42,813\tINFO trainable.py:172 -- Trainable.setup took 11.236 seconds. If your trainable is slow to initialize, consider setting reuse_actors=True to reduce actor creation overheads.\n"
     ]
    },
    {
     "ename": "ValueError",
     "evalue": "Could not recover from checkpoint as it does not exist on local disk and was not available on cloud storage or another Ray node. Got checkpoint path: ~/ray_results/A2C_evcharging_2023-04-17_17-13-21ow8xsowy/checkpoint_000025 and IP None",
     "output_type": "error",
     "traceback": [
      "\u001b[0;31m---------------------------------------------------------------------------\u001b[0m",
      "\u001b[0;31mValueError\u001b[0m                                Traceback (most recent call last)",
      "Cell \u001b[0;32mIn[2], line 16\u001b[0m\n\u001b[1;32m      5\u001b[0m config \u001b[39m=\u001b[39m {\n\u001b[1;32m      6\u001b[0m     \u001b[39m\"\u001b[39m\u001b[39malgo\u001b[39m\u001b[39m\"\u001b[39m: \u001b[39m\"\u001b[39m\u001b[39ma2c\u001b[39m\u001b[39m\"\u001b[39m,\n\u001b[1;32m      7\u001b[0m     \u001b[39m\"\u001b[39m\u001b[39mdp\u001b[39m\u001b[39m\"\u001b[39m: \u001b[39m\"\u001b[39m\u001b[39mSummer 2021\u001b[39m\u001b[39m\"\u001b[39m,  \u001b[39m# train date period\u001b[39;00m\n\u001b[0;32m   (...)\u001b[0m\n\u001b[1;32m     12\u001b[0m     \u001b[39m\"\u001b[39m\u001b[39mseed\u001b[39m\u001b[39m\"\u001b[39m: \u001b[39m123\u001b[39m\n\u001b[1;32m     13\u001b[0m }\n\u001b[1;32m     15\u001b[0m _, algo \u001b[39m=\u001b[39m get_algo(config)\n\u001b[0;32m---> 16\u001b[0m algo\u001b[39m.\u001b[39;49mrestore(\u001b[39m\"\u001b[39;49m\u001b[39m~/ray_results/A2C_evcharging_2023-04-17_17-13-21ow8xsowy/checkpoint_000025\u001b[39;49m\u001b[39m\"\u001b[39;49m)\n",
      "File \u001b[0;32m~/.conda/envs/rllib/lib/python3.9/site-packages/ray/tune/trainable/trainable.py:871\u001b[0m, in \u001b[0;36mTrainable.restore\u001b[0;34m(self, checkpoint_path, checkpoint_node_ip, fallback_to_latest)\u001b[0m\n\u001b[1;32m    868\u001b[0m             \u001b[39mreturn\u001b[39;00m \u001b[39mself\u001b[39m\u001b[39m.\u001b[39mrestore(checkpoint_path, fallback_to_latest\u001b[39m=\u001b[39m\u001b[39mFalse\u001b[39;00m)\n\u001b[1;32m    870\u001b[0m     \u001b[39m# Else, raise\u001b[39;00m\n\u001b[0;32m--> 871\u001b[0m     \u001b[39mraise\u001b[39;00m \u001b[39mValueError\u001b[39;00m(\n\u001b[1;32m    872\u001b[0m         \u001b[39mf\u001b[39m\u001b[39m\"\u001b[39m\u001b[39mCould not recover from checkpoint as it does not exist on local \u001b[39m\u001b[39m\"\u001b[39m\n\u001b[1;32m    873\u001b[0m         \u001b[39mf\u001b[39m\u001b[39m\"\u001b[39m\u001b[39mdisk and was not available on cloud storage or another Ray node. \u001b[39m\u001b[39m\"\u001b[39m\n\u001b[1;32m    874\u001b[0m         \u001b[39mf\u001b[39m\u001b[39m\"\u001b[39m\u001b[39mGot checkpoint path: \u001b[39m\u001b[39m{\u001b[39;00mcheckpoint_path\u001b[39m}\u001b[39;00m\u001b[39m and IP \u001b[39m\u001b[39m{\u001b[39;00mcheckpoint_node_ip\u001b[39m}\u001b[39;00m\u001b[39m\"\u001b[39m\n\u001b[1;32m    875\u001b[0m     )\n\u001b[1;32m    877\u001b[0m checkpoint_dir \u001b[39m=\u001b[39m TrainableUtil\u001b[39m.\u001b[39mfind_checkpoint_dir(checkpoint_path)\n\u001b[1;32m    878\u001b[0m metadata \u001b[39m=\u001b[39m TrainableUtil\u001b[39m.\u001b[39mload_metadata(checkpoint_dir)\n",
      "\u001b[0;31mValueError\u001b[0m: Could not recover from checkpoint as it does not exist on local disk and was not available on cloud storage or another Ray node. Got checkpoint path: ~/ray_results/A2C_evcharging_2023-04-17_17-13-21ow8xsowy/checkpoint_000025 and IP None"
     ]
    }
   ],
   "source": [
    "from sustaingym.scripts.evcharging.train_rllib import get_algo\n",
    "\n",
    "from ray import rllib\n",
    "\n",
    "config = {\n",
    "    \"algo\": \"a2c\",\n",
    "    \"dp\": \"Summer 2021\",  # train date period\n",
    "    \"site\": 'caltech',\n",
    "    \"discrete\": False,\n",
    "    \"multiagent\": False,\n",
    "    \"periods_delay\": 0,\n",
    "    \"seed\": 123\n",
    "}\n",
    "\n",
    "_, algo = get_algo(config)\n",
    "algo.restore(\"~/ray_results/A2C_evcharging_2023-04-17_17-13-21ow8xsowy/checkpoint_000025\")"
   ]
  },
  {
   "cell_type": "code",
   "execution_count": null,
   "metadata": {},
   "outputs": [],
   "source": []
  }
 ],
 "metadata": {
  "kernelspec": {
   "display_name": "rllib",
   "language": "python",
   "name": "python3"
  },
  "language_info": {
   "codemirror_mode": {
    "name": "ipython",
    "version": 3
   },
   "file_extension": ".py",
   "mimetype": "text/x-python",
   "name": "python",
   "nbconvert_exporter": "python",
   "pygments_lexer": "ipython3",
   "version": "3.9.16"
  },
  "orig_nbformat": 4
 },
 "nbformat": 4,
 "nbformat_minor": 2
}
