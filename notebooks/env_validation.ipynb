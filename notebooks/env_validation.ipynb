{
 "cells": [
  {
   "cell_type": "code",
   "execution_count": 1,
   "metadata": {},
   "outputs": [
    {
     "name": "stdout",
     "output_type": "stream",
     "text": [
      "/home/ubuntu/sustaingym\n"
     ]
    }
   ],
   "source": [
    "%load_ext autoreload\n",
    "%autoreload 2\n",
    "%matplotlib inline\n",
    "%cd .."
   ]
  },
  {
   "cell_type": "code",
   "execution_count": 2,
   "metadata": {},
   "outputs": [],
   "source": [
    "from datetime import datetime, timedelta\n",
    "import os\n",
    "import pytz\n",
    "\n",
    "import matplotlib.pyplot as plt\n",
    "import numpy as np\n",
    "import pandas as pd\n",
    "import seaborn as sns\n",
    "sns.set_style(\"darkgrid\")\n",
    "\n",
    "from sustaingym.data.load_moer import load_monthly_moer\n",
    "from sustaingym.envs.evcharging import EVChargingEnv, RealTraceGenerator, GMMsTraceGenerator\n",
    "\n",
    "test_ranges = (\n",
    "    ('2019-05-01', '2019-08-31'),\n",
    "    ('2019-09-01', '2019-12-31'),\n",
    "    ('2020-02-01', '2020-05-31'),\n",
    "    ('2021-05-01', '2021-08-31'),\n",
    ")\n"
   ]
  },
  {
   "cell_type": "code",
   "execution_count": 3,
   "metadata": {},
   "outputs": [
    {
     "name": "stdout",
     "output_type": "stream",
     "text": [
      "testing:  caltech ('2019-05-01', '2019-08-31')\n",
      "RealTracesGenerator from the Caltech site from 2019-05-01 to 2019-08-31. Current day 2019-08-31. \n",
      "testing:  caltech ('2019-09-01', '2019-12-31')\n",
      "RealTracesGenerator from the Caltech site from 2019-09-01 to 2019-12-31. Current day 2019-09-01. \n",
      "testing:  caltech ('2020-02-01', '2020-05-31')\n",
      "RealTracesGenerator from the Caltech site from 2020-02-01 to 2020-05-31. Current day 2020-02-02. \n",
      "testing:  caltech ('2021-05-01', '2021-08-31')\n",
      "RealTracesGenerator from the Caltech site from 2021-05-01 to 2021-08-31. Current day 2021-08-31. \n",
      "testing:  jpl ('2019-05-01', '2019-08-31')\n",
      "RealTracesGenerator from the Jpl site from 2019-05-01 to 2019-08-31. Current day 2019-08-31. \n",
      "testing:  jpl ('2019-09-01', '2019-12-31')\n",
      "RealTracesGenerator from the Jpl site from 2019-09-01 to 2019-12-31. Current day 2019-09-01. \n",
      "testing:  jpl ('2020-02-01', '2020-05-31')\n",
      "RealTracesGenerator from the Jpl site from 2020-02-01 to 2020-05-31. Current day 2020-02-02. \n",
      "testing:  jpl ('2021-05-01', '2021-08-31')\n",
      "RealTracesGenerator from the Jpl site from 2021-05-01 to 2021-08-31. Current day 2021-08-31. \n"
     ]
    }
   ],
   "source": [
    "for site in ['caltech', 'jpl']:\n",
    "    for test_range in test_ranges:\n",
    "        print('testing: ', site, test_range)\n",
    "        rtg = RealTraceGenerator(site, test_range)\n",
    "        for _ in range(123):  # 4 months -> 123 days maximum\n",
    "            _, _, num_plug_events = rtg.get_event_queue()\n",
    "        print(rtg)"
   ]
  },
  {
   "cell_type": "code",
   "execution_count": 4,
   "metadata": {},
   "outputs": [
    {
     "name": "stdout",
     "output_type": "stream",
     "text": [
      "testing:  caltech ('2019-05-01', '2019-08-31')\n",
      "GMMsTracesGenerator from the Caltech site from 2019-05-01 to 2019-08-31. Sampler is GMM with 30 components. \n",
      "testing:  caltech ('2019-09-01', '2019-12-31')\n",
      "GMMsTracesGenerator from the Caltech site from 2019-09-01 to 2019-12-31. Sampler is GMM with 30 components. \n",
      "testing:  caltech ('2020-02-01', '2020-05-31')\n",
      "GMMsTracesGenerator from the Caltech site from 2020-02-01 to 2020-05-31. Sampler is GMM with 30 components. \n",
      "testing:  caltech ('2021-05-01', '2021-08-31')\n",
      "GMMsTracesGenerator from the Caltech site from 2021-05-01 to 2021-08-31. Sampler is GMM with 30 components. \n",
      "testing:  jpl ('2019-05-01', '2019-08-31')\n",
      "GMMsTracesGenerator from the Jpl site from 2019-05-01 to 2019-08-31. Sampler is GMM with 30 components. \n",
      "testing:  jpl ('2019-09-01', '2019-12-31')\n",
      "GMMsTracesGenerator from the Jpl site from 2019-09-01 to 2019-12-31. Sampler is GMM with 30 components. \n",
      "testing:  jpl ('2020-02-01', '2020-05-31')\n",
      "GMMsTracesGenerator from the Jpl site from 2020-02-01 to 2020-05-31. Sampler is GMM with 30 components. \n",
      "testing:  jpl ('2021-05-01', '2021-08-31')\n",
      "GMMsTracesGenerator from the Jpl site from 2021-05-01 to 2021-08-31. Sampler is GMM with 30 components. \n"
     ]
    }
   ],
   "source": [
    "for site in ['caltech', 'jpl']:\n",
    "    for test_range in test_ranges:\n",
    "        print('testing: ', site, test_range)\n",
    "        gmmg = GMMsTraceGenerator(site, test_range)\n",
    "        for _ in range(123):  # 4 months -> 123 days maximum\n",
    "            _, _, num_plug_events = gmmg.get_event_queue()\n",
    "        print(gmmg)"
   ]
  },
  {
   "cell_type": "code",
   "execution_count": null,
   "metadata": {},
   "outputs": [],
   "source": []
  }
 ],
 "metadata": {
  "kernelspec": {
   "display_name": "Python 3.9.13 ('sustaingym')",
   "language": "python",
   "name": "python3"
  },
  "language_info": {
   "codemirror_mode": {
    "name": "ipython",
    "version": 3
   },
   "file_extension": ".py",
   "mimetype": "text/x-python",
   "name": "python",
   "nbconvert_exporter": "python",
   "pygments_lexer": "ipython3",
   "version": "3.9.13"
  },
  "orig_nbformat": 4,
  "vscode": {
   "interpreter": {
    "hash": "c910351b0c3a4aade2cf03b555240fe9951314ae7b50b4f56bc279231ceafe8d"
   }
  }
 },
 "nbformat": 4,
 "nbformat_minor": 2
}
