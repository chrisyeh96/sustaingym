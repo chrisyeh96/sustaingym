{
 "cells": [
  {
   "cell_type": "code",
   "execution_count": null,
   "metadata": {},
   "outputs": [],
   "source": [
    "%load_ext autoreload\n",
    "%autoreload 2\n",
    "%matplotlib inline\n",
    "%cd .."
   ]
  },
  {
   "cell_type": "code",
   "execution_count": null,
   "metadata": {},
   "outputs": [],
   "source": [
    "from datetime import datetime, timedelta\n",
    "import os\n",
    "import pytz\n",
    "\n",
    "import matplotlib.pyplot as plt\n",
    "import numpy as np\n",
    "import pandas as pd\n",
    "import seaborn as sns\n",
    "sns.set_style(\"darkgrid\")\n",
    "\n",
    "from sustaingym.data.load_moer import load_monthly_moer\n"
   ]
  },
  {
   "cell_type": "code",
   "execution_count": null,
   "metadata": {},
   "outputs": [],
   "source": [
    "# moer_data_dir = 'sustaingym/data/moer_data'\n",
    "moer_data_dir = 'sustaingym/data/moer_data/'\n",
    "cnt = 0\n",
    "\n",
    "minr, minf = 100., 100.\n",
    "maxr, maxf = -100., 100.\n",
    "\n",
    "for file in os.listdir(moer_data_dir):\n",
    "    print(file)\n",
    "    cnt += 1\n",
    "\n",
    "    file_path = os.path.join(moer_data_dir, file)\n",
    "    df = pd.read_csv(file_path,\n",
    "                    compression='gzip',\n",
    "                    index_col='time')\n",
    "    df.index = pd.to_datetime(pd.DatetimeIndex(df.index))\n",
    "\n",
    "    # check if any null values exist\n",
    "    if len(df[df.isnull().any(axis=1)]) > 0:\n",
    "        print(\"Null value\")\n",
    "        display(df[df.isnull().any(axis=1)])\n",
    "    \n",
    "    # check sorting order\n",
    "    if df.index[0] < df.index[1]:\n",
    "        print(\"Not sorted descending\")\n",
    "        display(df.head())\n",
    "\n",
    "    minr = min(minr, np.min(df.min()))\n",
    "    maxr = max(minr, np.max(df.max()['moer']))\n",
    "\n",
    "print('mins: ', minr)\n",
    "print('maxs: ', maxr)\n",
    "print(\"total count: \", cnt)\n",
    "# show example\n",
    "display(df)"
   ]
  },
  {
   "cell_type": "code",
   "execution_count": null,
   "metadata": {},
   "outputs": [],
   "source": [
    "AM_LA = pytz.timezone('America/Los_Angeles')\n",
    "\n",
    "def plot_moer(day: datetime, ba: str, save_dir: str, forecast_freq=36):\n",
    "    df = load_monthly_moer(day.year, day.month, ba, save_dir)\n",
    "    df = df[(day <= df.index) & (df.index <= day + timedelta(days=1, seconds=600))]\n",
    "    df.sort_index(inplace=True)\n",
    "\n",
    "    # every so often, plot emissions forecast\n",
    "    for i in range(0, len(df['moer']), forecast_freq):\n",
    "        forecasts = df.iloc[i].drop('moer').values\n",
    "        indices = df.iloc[i+1:i+1+len(forecasts)].index\n",
    "        if i + len(forecasts) + 1> len(df['moer']):\n",
    "            continue\n",
    "        \n",
    "        if i == 0:\n",
    "            plt.plot(indices, forecasts, color='red', alpha=0.3, label='forecasts')\n",
    "        else:\n",
    "            plt.plot(indices, forecasts, color='red', alpha=0.3)\n",
    "\n",
    "    dt_str = day.strftime('%Y-%m-%d')\n",
    "    plt.title(f'MOER vs. Forecasted MOER: {dt_str}')\n",
    "    plt.plot(df['moer'], linewidth=2, label='actual')\n",
    "    plt.xlabel('time (UTC)')\n",
    "    plt.ylabel('MOER (kg CO2 / kWh)')\n",
    "    plt.xticks(rotation=30)\n",
    "    plt.legend()\n",
    "\n",
    "plot_moer(datetime(2021, 6, 3, tzinfo=AM_LA), 'SGIP_CAISO_SCE', moer_data_dir)"
   ]
  },
  {
   "cell_type": "code",
   "execution_count": null,
   "metadata": {},
   "outputs": [],
   "source": [
    "plot_moer(datetime(2019, 6, 15, tzinfo=AM_LA), 'SGIP_CAISO_SCE', moer_data_dir)"
   ]
  }
 ],
 "metadata": {
  "kernelspec": {
   "display_name": "Python 3.9.13 ('base')",
   "language": "python",
   "name": "python3"
  },
  "language_info": {
   "codemirror_mode": {
    "name": "ipython",
    "version": 3
   },
   "file_extension": ".py",
   "mimetype": "text/x-python",
   "name": "python",
   "nbconvert_exporter": "python",
   "pygments_lexer": "ipython3",
   "version": "3.9.13"
  },
  "orig_nbformat": 4,
  "vscode": {
   "interpreter": {
    "hash": "40d3a090f54c6569ab1632332b64b2c03c39dcf918b08424e98f38b5ae0af88f"
   }
  }
 },
 "nbformat": 4,
 "nbformat_minor": 2
}
