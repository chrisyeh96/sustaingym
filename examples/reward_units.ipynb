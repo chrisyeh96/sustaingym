{
 "cells": [
  {
   "cell_type": "code",
   "execution_count": 1,
   "metadata": {},
   "outputs": [
    {
     "name": "stdout",
     "output_type": "stream",
     "text": [
      "/home/ubuntu/sustaingym\n"
     ]
    }
   ],
   "source": [
    "%load_ext autoreload\n",
    "%autoreload 2\n",
    "%matplotlib inline\n",
    "%cd .."
   ]
  },
  {
   "cell_type": "code",
   "execution_count": 2,
   "metadata": {},
   "outputs": [],
   "source": [
    "from acnportal.acnsim.events import Event, EventQueue, PluginEvent, UnplugEvent, RecomputeEvent\n",
    "from acnportal.acnsim.interface import Interface\n",
    "from acnportal.acnsim.models import EV, Battery, EVSE\n",
    "from acnportal.acnsim.network.sites import caltech_acn, jpl_acn\n",
    "from acnportal.acnsim.simulator import Simulator\n",
    "import gym\n",
    "import numpy as np\n",
    "\n",
    "from sustaingym.envs.evcharging.actions import get_action_space, to_schedule\n",
    "from sustaingym.envs.evcharging.ev_charging import EVChargingEnv\n",
    "from sustaingym.envs.evcharging.event_generation import AbstractTraceGenerator\n",
    "from sustaingym.envs.evcharging.observations import get_observation_space, get_observation\n",
    "from sustaingym.envs.evcharging.rewards import get_rewards\n",
    "from sustaingym.envs.evcharging.utils import MINS_IN_DAY, DATE_FORMAT\n"
   ]
  },
  {
   "cell_type": "code",
   "execution_count": 3,
   "metadata": {},
   "outputs": [
    {
     "data": {
      "text/plain": [
       "['CA-308', 'CA-508', 'CA-303', 'CA-513', 'CA-310', 'CA-506', 'CA-316']"
      ]
     },
     "execution_count": 3,
     "metadata": {},
     "output_type": "execute_result"
    }
   ],
   "source": [
    "acn = caltech_acn()\n",
    "acn.station_ids[:7]"
   ]
  },
  {
   "cell_type": "code",
   "execution_count": 28,
   "metadata": {},
   "outputs": [],
   "source": [
    "class TestGenerator(AbstractTraceGenerator):\n",
    "    def __init__(self,\n",
    "                 site: str = \"\",\n",
    "                 period: int = 5,\n",
    "                 recompute_freq: int = 2,\n",
    "                 date_range = None,\n",
    "                 requested_energy_cap: float = 100):\n",
    "\n",
    "        super().__init__(site, period, recompute_freq, date_range, requested_energy_cap)\n",
    "    \n",
    "    def update_day(self):\n",
    "        return\n",
    "    \n",
    "    def get_event_queue(self):\n",
    "        events = []\n",
    "        for a, d, s in zip([10, 10, 30], [30, 30, 35], ['CA-508', 'CA-303', 'CA-513']):\n",
    "            req_energy = 30.0\n",
    "            battery = Battery(capacity=100, init_charge=max(0, 100-req_energy), max_power=100)\n",
    "            ev = EV(arrival=a, departure=d, requested_energy=req_energy, station_id=s, session_id=str(a), battery=battery, estimated_departure=a+50)\n",
    "\n",
    "            events.append(PluginEvent(a, ev))\n",
    "        events.append(RecomputeEvent(0))\n",
    "        eq = EventQueue(events)\n",
    "        return eq, 3"
   ]
  },
  {
   "cell_type": "code",
   "execution_count": 38,
   "metadata": {},
   "outputs": [],
   "source": [
    "tg = TestGenerator(site='caltech', date_range=['2018-11-07', '2018-11-13'])\n",
    "eq, _ = tg.get_event_queue()"
   ]
  },
  {
   "cell_type": "code",
   "execution_count": 39,
   "metadata": {},
   "outputs": [
    {
     "data": {
      "text/plain": [
       "[acnportal.acnsim.events.event.RecomputeEvent(timestamp=0, event_type=<str object at 0x7f558b640030>, precedence=20),\n",
       " acnportal.acnsim.events.event.PluginEvent(timestamp=10, event_type=<str object at 0x7f558b640230>, precedence=10, ev=<acnportal.acnsim.models.ev.EV object at 0x7f558d32e0a0>),\n",
       " acnportal.acnsim.events.event.PluginEvent(timestamp=10, event_type=<str object at 0x7f558b640230>, precedence=10, ev=<acnportal.acnsim.models.ev.EV object at 0x7f558d32e6d0>),\n",
       " acnportal.acnsim.events.event.PluginEvent(timestamp=30, event_type=<str object at 0x7f558b640230>, precedence=10, ev=<acnportal.acnsim.models.ev.EV object at 0x7f556b5aa610>)]"
      ]
     },
     "execution_count": 39,
     "metadata": {},
     "output_type": "execute_result"
    }
   ],
   "source": [
    "eq.get_current_events(30)"
   ]
  },
  {
   "cell_type": "code",
   "execution_count": 31,
   "metadata": {},
   "outputs": [
    {
     "data": {
      "text/plain": [
       "array([ 80.        ,  80.        , 416.66666667, 416.66666667,\n",
       "       416.66666667, 180.50541516, 180.50541516, 180.50541516])"
      ]
     },
     "execution_count": 31,
     "metadata": {},
     "output_type": "execute_result"
    }
   ],
   "source": [
    "acn = caltech_acn()\n",
    "acn.magnitudes"
   ]
  },
  {
   "cell_type": "code",
   "execution_count": 32,
   "metadata": {},
   "outputs": [
    {
     "data": {
      "text/plain": [
       "array([48., 48.,  0.,  0.,  0.,  0.,  0.,  0.])"
      ]
     },
     "execution_count": 32,
     "metadata": {},
     "output_type": "execute_result"
    }
   ],
   "source": [
    "np.maximum(np.abs(acn.constraint_current(np.ones(shape=(54,), ) * 16, linear=True)) - acn.magnitudes, 0)"
   ]
  },
  {
   "cell_type": "code",
   "execution_count": 33,
   "metadata": {},
   "outputs": [
    {
     "data": {
      "text/plain": [
       "array([ 128.,  128.,  192., -192.,    0.,   48.,  -96.,   48.])"
      ]
     },
     "execution_count": 33,
     "metadata": {},
     "output_type": "execute_result"
    }
   ],
   "source": [
    "(acn.constraint_matrix @ np.ones(shape=(54,), ) * 16)"
   ]
  },
  {
   "cell_type": "code",
   "execution_count": 34,
   "metadata": {},
   "outputs": [
    {
     "name": "stdout",
     "output_type": "stream",
     "text": [
      "Simulating 3 plug in events. \n"
     ]
    }
   ],
   "source": [
    "tg = TestGenerator(site='caltech', date_range=['2018-11-07', '2018-11-13'])\n",
    "env = EVChargingEnv(tg, action_type='discrete', verbose=2)\n",
    "observation = env.reset()\n"
   ]
  },
  {
   "cell_type": "code",
   "execution_count": 35,
   "metadata": {},
   "outputs": [
    {
     "name": "stdout",
     "output_type": "stream",
     "text": [
      "8653.846153846154\n",
      "8653.846153846154\n",
      "8653.846153846154\n"
     ]
    }
   ],
   "source": [
    "print(env.interface._convert_to_amp_periods(30.0, 'CA-508') * 5)\n",
    "print(env.interface._convert_to_amp_periods(30.0, 'CA-303') * 5)\n",
    "print(env.interface._convert_to_amp_periods(30.0, 'CA-513') * 5)"
   ]
  },
  {
   "cell_type": "code",
   "execution_count": 36,
   "metadata": {},
   "outputs": [
    {
     "name": "stdout",
     "output_type": "stream",
     "text": [
      "Simulating 3 plug in events. \n",
      "0\n",
      "0\n",
      "-8653.846153846154\n",
      "-8653.846153846154\n",
      "\n",
      "\n",
      "total iterations:  4\n",
      "environment reward:  -17307.69230769231\n"
     ]
    }
   ],
   "source": [
    "from collections import defaultdict\n",
    "\n",
    "tg = TestGenerator(site='caltech', date_range=['2018-11-07', '2018-11-13'])\n",
    "env = EVChargingEnv(tg, action_type='discrete', verbose=2)\n",
    "for _ in range(1):\n",
    "    observation = env.reset()\n",
    "    rewards = 0.\n",
    "    done = False\n",
    "    i = 0\n",
    "    action = np.zeros(shape=(54,), )\n",
    "    # d = defaultdict(list)\n",
    "    while not done:\n",
    "        observation, reward, done, info = env.step(action)\n",
    "        rewards += reward\n",
    "        i += 1\n",
    "\n",
    "    print()\n",
    "    print()\n",
    "    print(\"total iterations: \", i)\n",
    "    print(\"environment reward: \", rewards)\n"
   ]
  },
  {
   "cell_type": "code",
   "execution_count": 81,
   "metadata": {},
   "outputs": [
    {
     "data": {
      "text/plain": [
       "[]"
      ]
     },
     "execution_count": 81,
     "metadata": {},
     "output_type": "execute_result"
    }
   ],
   "source": [
    "#-7853.846153846154\n",
    "#-7053.846153846153"
   ]
  },
  {
   "cell_type": "code",
   "execution_count": 185,
   "metadata": {},
   "outputs": [
    {
     "data": {
      "text/plain": [
       "11200"
      ]
     },
     "execution_count": 185,
     "metadata": {},
     "output_type": "execute_result"
    }
   ],
   "source": [
    "# 0  50 11920.0  12000\n",
    "# 0 100 13769.23 16000\n",
    "# 0 150 13769.23 20000\n",
    "# 0 200 13769.23 24000\n",
    "\n",
    "11200"
   ]
  },
  {
   "cell_type": "code",
   "execution_count": null,
   "metadata": {},
   "outputs": [],
   "source": []
  }
 ],
 "metadata": {
  "kernelspec": {
   "display_name": "Python 3.9.13 ('sustaingym')",
   "language": "python",
   "name": "python3"
  },
  "language_info": {
   "codemirror_mode": {
    "name": "ipython",
    "version": 3
   },
   "file_extension": ".py",
   "mimetype": "text/x-python",
   "name": "python",
   "nbconvert_exporter": "python",
   "pygments_lexer": "ipython3",
   "version": "3.9.13"
  },
  "orig_nbformat": 4,
  "vscode": {
   "interpreter": {
    "hash": "c910351b0c3a4aade2cf03b555240fe9951314ae7b50b4f56bc279231ceafe8d"
   }
  }
 },
 "nbformat": 4,
 "nbformat_minor": 2
}
