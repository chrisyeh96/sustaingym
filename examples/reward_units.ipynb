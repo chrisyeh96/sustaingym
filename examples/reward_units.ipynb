{
 "cells": [
  {
   "cell_type": "code",
   "execution_count": 1,
   "metadata": {},
   "outputs": [
    {
     "name": "stdout",
     "output_type": "stream",
     "text": [
      "/home/ubuntu/sustaingym\n"
     ]
    }
   ],
   "source": [
    "%load_ext autoreload\n",
    "%autoreload 2\n",
    "%matplotlib inline\n",
    "%cd .."
   ]
  },
  {
   "cell_type": "code",
   "execution_count": 23,
   "metadata": {},
   "outputs": [],
   "source": [
    "from acnportal.acnsim.events import Event, EventQueue, PluginEvent, UnplugEvent, RecomputeEvent\n",
    "from acnportal.acnsim.interface import Interface\n",
    "from acnportal.acnsim.models import EV, Battery, EVSE\n",
    "from acnportal.acnsim.network.sites import caltech_acn, jpl_acn\n",
    "from acnportal.acnsim.simulator import Simulator\n",
    "import gym\n",
    "import numpy as np\n",
    "\n",
    "from sustaingym.envs.evcharging.actions import get_action_space, to_schedule\n",
    "from sustaingym.envs.evcharging.ev_charging import EVChargingEnv\n",
    "from sustaingym.envs.evcharging.event_generation import AbstractTraceGenerator\n",
    "from sustaingym.envs.evcharging.observations import get_observation_space, get_observation\n",
    "from sustaingym.envs.evcharging.rewards import get_rewards\n",
    "from sustaingym.envs.evcharging.utils import MINS_IN_DAY, DATE_FORMAT\n"
   ]
  },
  {
   "cell_type": "code",
   "execution_count": 7,
   "metadata": {},
   "outputs": [
    {
     "data": {
      "text/plain": [
       "['CA-308', 'CA-508', 'CA-303', 'CA-513', 'CA-310', 'CA-506', 'CA-316']"
      ]
     },
     "execution_count": 7,
     "metadata": {},
     "output_type": "execute_result"
    }
   ],
   "source": [
    "acn = caltech_acn()\n",
    "acn.station_ids[:7]"
   ]
  },
  {
   "cell_type": "code",
   "execution_count": 186,
   "metadata": {},
   "outputs": [],
   "source": [
    "class TestGenerator(AbstractTraceGenerator):\n",
    "    def __init__(self,\n",
    "                 site: str = \"\",\n",
    "                 period: int = 5,\n",
    "                 recompute_freq: int = 2,\n",
    "                 date_range = None,\n",
    "                 requested_energy_cap: float = 100):\n",
    "\n",
    "        super().__init__(site, period, recompute_freq, date_range, requested_energy_cap)\n",
    "    \n",
    "    def update_day(self):\n",
    "        return\n",
    "    \n",
    "    def get_event_queue(self):\n",
    "        events = []\n",
    "        for a, d, s in zip([0, 100, 100], [10, 150, 150], ['CA-508', 'CA-308', 'CA-303']):\n",
    "            req_energy = 20.0\n",
    "            battery = Battery(capacity=100, init_charge=max(0, 100-req_energy), max_power=100)\n",
    "            ev = EV(arrival=a, departure=d, requested_energy=req_energy, station_id=s, session_id=str(a), battery=battery, estimated_departure=a+50)\n",
    "            \n",
    "            events.append(PluginEvent(a, ev))\n",
    "        # events.append(RecomputeEvent(110))\n",
    "        eq = EventQueue(events)\n",
    "        return eq, 3"
   ]
  },
  {
   "cell_type": "code",
   "execution_count": 187,
   "metadata": {},
   "outputs": [],
   "source": [
    "tg = TestGenerator(site='caltech', date_range=['2018-11-07', '2018-11-13'])\n",
    "eq, _ = tg.get_event_queue()"
   ]
  },
  {
   "cell_type": "code",
   "execution_count": 188,
   "metadata": {},
   "outputs": [
    {
     "data": {
      "text/plain": [
       "[(0,\n",
       "  acnportal.acnsim.events.event.PluginEvent(timestamp=0, event_type=<str object at 0x7f9d5c7a0e70>, precedence=10, ev=<acnportal.acnsim.models.ev.EV object at 0x7f9d3c036d60>)),\n",
       " (100,\n",
       "  acnportal.acnsim.events.event.PluginEvent(timestamp=100, event_type=<str object at 0x7f9d5c7a0e70>, precedence=10, ev=<acnportal.acnsim.models.ev.EV object at 0x7f9d3c036100>)),\n",
       " (100,\n",
       "  acnportal.acnsim.events.event.PluginEvent(timestamp=100, event_type=<str object at 0x7f9d5c7a0e70>, precedence=10, ev=<acnportal.acnsim.models.ev.EV object at 0x7f9d3c036fd0>))]"
      ]
     },
     "execution_count": 188,
     "metadata": {},
     "output_type": "execute_result"
    }
   ],
   "source": [
    "eq.queue"
   ]
  },
  {
   "cell_type": "code",
   "execution_count": 189,
   "metadata": {},
   "outputs": [
    {
     "data": {
      "text/plain": [
       "[acnportal.acnsim.events.event.PluginEvent(timestamp=0, event_type=<str object at 0x7f9d5c7a0e70>, precedence=10, ev=<acnportal.acnsim.models.ev.EV object at 0x7f9d3c036d60>)]"
      ]
     },
     "execution_count": 189,
     "metadata": {},
     "output_type": "execute_result"
    }
   ],
   "source": [
    "eq.get_current_events(45)"
   ]
  },
  {
   "cell_type": "code",
   "execution_count": null,
   "metadata": {},
   "outputs": [],
   "source": []
  },
  {
   "cell_type": "code",
   "execution_count": 190,
   "metadata": {},
   "outputs": [
    {
     "name": "stdout",
     "output_type": "stream",
     "text": [
      "\n",
      "\n",
      "total iterations:  4\n",
      "environment reward:  -1244160.0\n",
      "offline reward calc:  8800.0\n"
     ]
    }
   ],
   "source": [
    "from collections import defaultdict\n",
    "\n",
    "# send 16 A in\n",
    "\n",
    "tg = TestGenerator(site='caltech', date_range=['2018-11-07', '2018-11-13'])\n",
    "env = EVChargingEnv(tg, action_type='discrete')\n",
    "for _ in range(1):\n",
    "    observation = env.reset()\n",
    "\n",
    "    offline_reward_calc = 0.\n",
    "    for event in env.events.queue:\n",
    "        if isinstance(event[1], PluginEvent):\n",
    "            offline_reward_calc += (event[1].ev.departure - event[1].ev.arrival) * env.period * 16\n",
    "\n",
    "    rewards = 0.\n",
    "    done = False\n",
    "    i = 0\n",
    "    action = np.ones(shape=(54,), ) * 2\n",
    "    d = defaultdict(list)\n",
    "    while not done:\n",
    "        observation, reward, done, info = env.step(action)\n",
    "        rewards += reward\n",
    "        i += 1\n",
    "\n",
    "    print()\n",
    "    print()\n",
    "    print(\"total iterations: \", i)\n",
    "    print(\"environment reward: \", rewards)\n",
    "    print(\"offline reward calc: \", offline_reward_calc)"
   ]
  },
  {
   "cell_type": "code",
   "execution_count": 185,
   "metadata": {},
   "outputs": [
    {
     "data": {
      "text/plain": [
       "11200"
      ]
     },
     "execution_count": 185,
     "metadata": {},
     "output_type": "execute_result"
    }
   ],
   "source": [
    "# 0  50 11920.0  12000\n",
    "# 0 100 13769.23 16000\n",
    "# 0 150 13769.23 20000\n",
    "# 0 200 13769.23 24000\n",
    "\n",
    "11200"
   ]
  },
  {
   "cell_type": "code",
   "execution_count": null,
   "metadata": {},
   "outputs": [],
   "source": []
  }
 ],
 "metadata": {
  "kernelspec": {
   "display_name": "Python 3.9.13 ('sustaingym')",
   "language": "python",
   "name": "python3"
  },
  "language_info": {
   "codemirror_mode": {
    "name": "ipython",
    "version": 3
   },
   "file_extension": ".py",
   "mimetype": "text/x-python",
   "name": "python",
   "nbconvert_exporter": "python",
   "pygments_lexer": "ipython3",
   "version": "3.9.13"
  },
  "orig_nbformat": 4,
  "vscode": {
   "interpreter": {
    "hash": "c910351b0c3a4aade2cf03b555240fe9951314ae7b50b4f56bc279231ceafe8d"
   }
  }
 },
 "nbformat": 4,
 "nbformat_minor": 2
}
