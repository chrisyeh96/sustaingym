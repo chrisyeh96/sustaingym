{
 "cells": [
  {
   "cell_type": "code",
   "execution_count": 2,
   "metadata": {},
   "outputs": [
    {
     "name": "stdout",
     "output_type": "stream",
     "text": [
      "/home/ubuntu/sustaingym\n"
     ]
    }
   ],
   "source": [
    "%load_ext autoreload\n",
    "%autoreload 2\n",
    "%matplotlib inline\n",
    "%cd .."
   ]
  },
  {
   "cell_type": "code",
   "execution_count": 3,
   "metadata": {},
   "outputs": [],
   "source": [
    "import cvxpy as cp\n",
    "import gym\n",
    "import numpy as np\n",
    "\n",
    "from stable_baselines3 import PPO\n",
    "from stable_baselines3.common.vec_env import DummyVecEnv, SubprocVecEnv\n",
    "from stable_baselines3.common.env_util import make_vec_env\n",
    "from stable_baselines3.common.utils import set_random_seed\n",
    "\n",
    "from sustaingym.envs.evcharging.ev_charging import EVChargingEnv"
   ]
  },
  {
   "cell_type": "code",
   "execution_count": 3,
   "metadata": {},
   "outputs": [],
   "source": [
    "env = EVChargingEnv(gmm_folder=\"first10days\")\n",
    "eval_env = EVChargingEnv(real_traces=True, sequential=True)"
   ]
  },
  {
   "cell_type": "code",
   "execution_count": 4,
   "metadata": {},
   "outputs": [
    {
     "name": "stdout",
     "output_type": "stream",
     "text": [
      "Using cuda device\n",
      "Wrapping the env with a `Monitor` wrapper\n",
      "Wrapping the env in a DummyVecEnv.\n"
     ]
    }
   ],
   "source": [
    "model = PPO('MultiInputPolicy', env, verbose=1)"
   ]
  },
  {
   "cell_type": "code",
   "execution_count": 5,
   "metadata": {},
   "outputs": [
    {
     "name": "stdout",
     "output_type": "stream",
     "text": [
      "[  8.   8.  12. -12.   0.   3.  -6.   3.]\n",
      "[0. 0. 0. 0. 0. 0. 0. 0. 0. 0. 1. 1. 1. 1. 1. 1. 1. 1. 1. 1. 1. 1. 1. 1.\n",
      " 1. 1. 0. 0. 0. 0. 0. 0. 0. 0. 0. 0. 0. 0. 0. 0. 0. 0. 0. 0. 0. 0. 0. 0.\n",
      " 0. 0. 0. 0. 0. 0.]\n"
     ]
    }
   ],
   "source": [
    "from acnportal.acnsim.network.sites import caltech_acn\n",
    "\n",
    "print(caltech_acn().constraint_matrix.sum(axis=1))\n",
    "print(caltech_acn().constraint_matrix.sum(axis=0))\n"
   ]
  },
  {
   "cell_type": "code",
   "execution_count": 6,
   "metadata": {},
   "outputs": [
    {
     "data": {
      "image/png": "[encoded data removed]",
      "text/plain": [
       "<Figure size 1152x170.667 with 2 Axes>"
      ]
     },
     "metadata": {
      "needs_background": "light"
     },
     "output_type": "display_data"
    }
   ],
   "source": [
    "import matplotlib.pyplot as plt\n",
    "\n",
    "plt.matshow(caltech_acn().constraint_matrix);\n",
    "plt.colorbar()\n",
    "plt.show()"
   ]
  },
  {
   "cell_type": "code",
   "execution_count": 7,
   "metadata": {},
   "outputs": [
    {
     "data": {
      "text/plain": [
       "array([ 80.        ,  80.        , 416.66666667, 416.66666667,\n",
       "       416.66666667, 180.50541516, 180.50541516, 180.50541516])"
      ]
     },
     "execution_count": 7,
     "metadata": {},
     "output_type": "execute_result"
    }
   ],
   "source": [
    "caltech_acn().magnitudes"
   ]
  },
  {
   "cell_type": "code",
   "execution_count": 8,
   "metadata": {},
   "outputs": [],
   "source": [
    "def eval(n_episodes=10):\n",
    "    all_rewards = []\n",
    "    for _ in range(n_episodes):\n",
    "        avg_rewards = []\n",
    "        obs = eval_env.reset()\n",
    "        dones = False\n",
    "        while not dones:\n",
    "            action, _states = model.predict(obs)\n",
    "            obs, rewards, dones, info = eval_env.step(action)\n",
    "            avg_rewards.append(rewards)\n",
    "        avg_rewards = np.mean(avg_rewards)\n",
    "        all_rewards.append(avg_rewards)\n",
    "    return np.array(all_rewards)"
   ]
  },
  {
   "cell_type": "code",
   "execution_count": 9,
   "metadata": {},
   "outputs": [
    {
     "data": {
      "text/plain": [
       "array([  7.40448612,   5.28494828, -15.8152697 , -12.7191406 ,\n",
       "        17.41733059,  17.3446337 ,  14.82541379,  19.76574415,\n",
       "        16.89049361,  -9.1601601 ])"
      ]
     },
     "execution_count": 9,
     "metadata": {},
     "output_type": "execute_result"
    }
   ],
   "source": [
    "all_rewards = eval()\n",
    "all_rewards"
   ]
  },
  {
   "cell_type": "code",
   "execution_count": 10,
   "metadata": {},
   "outputs": [
    {
     "name": "stdout",
     "output_type": "stream",
     "text": [
      "Wrapping the env with a `Monitor` wrapper\n",
      "Wrapping the env in a DummyVecEnv.\n",
      "---------------------------------\n",
      "| rollout/           |          |\n",
      "|    ep_len_mean     | 187      |\n",
      "|    ep_rew_mean     | 4.68e+03 |\n",
      "| time/              |          |\n",
      "|    fps             | 37       |\n",
      "|    iterations      | 1        |\n",
      "|    time_elapsed    | 54       |\n",
      "|    total_timesteps | 2048     |\n",
      "---------------------------------\n",
      "-----------------------------------------\n",
      "| rollout/                |             |\n",
      "|    ep_len_mean          | 186         |\n",
      "|    ep_rew_mean          | 4.86e+03    |\n",
      "| time/                   |             |\n",
      "|    fps                  | 34          |\n",
      "|    iterations           | 2           |\n",
      "|    time_elapsed         | 119         |\n",
      "|    total_timesteps      | 4096        |\n",
      "| train/                  |             |\n",
      "|    approx_kl            | 0.019045487 |\n",
      "|    clip_fraction        | 0.198       |\n",
      "|    clip_range           | 0.2         |\n",
      "|    entropy_loss         | -86.9       |\n",
      "|    explained_variance   | 7.39e-05    |\n",
      "|    learning_rate        | 0.0003      |\n",
      "|    loss                 | 4.13e+05    |\n",
      "|    n_updates            | 10          |\n",
      "|    policy_gradient_loss | -0.0826     |\n",
      "|    value_loss           | 6.31e+05    |\n",
      "-----------------------------------------\n",
      "-----------------------------------------\n",
      "| rollout/                |             |\n",
      "|    ep_len_mean          | 186         |\n",
      "|    ep_rew_mean          | 4.87e+03    |\n",
      "| time/                   |             |\n",
      "|    fps                  | 33          |\n",
      "|    iterations           | 3           |\n",
      "|    time_elapsed         | 185         |\n",
      "|    total_timesteps      | 6144        |\n",
      "| train/                  |             |\n",
      "|    approx_kl            | 0.022833128 |\n",
      "|    clip_fraction        | 0.269       |\n",
      "|    clip_range           | 0.2         |\n",
      "|    entropy_loss         | -86.9       |\n",
      "|    explained_variance   | 0.00927     |\n",
      "|    learning_rate        | 0.0003      |\n",
      "|    loss                 | 3.62e+05    |\n",
      "|    n_updates            | 20          |\n",
      "|    policy_gradient_loss | -0.0905     |\n",
      "|    value_loss           | 7.01e+05    |\n",
      "-----------------------------------------\n",
      "-----------------------------------------\n",
      "| rollout/                |             |\n",
      "|    ep_len_mean          | 185         |\n",
      "|    ep_rew_mean          | 4.82e+03    |\n",
      "| time/                   |             |\n",
      "|    fps                  | 32          |\n",
      "|    iterations           | 4           |\n",
      "|    time_elapsed         | 250         |\n",
      "|    total_timesteps      | 8192        |\n",
      "| train/                  |             |\n",
      "|    approx_kl            | 0.021203134 |\n",
      "|    clip_fraction        | 0.212       |\n",
      "|    clip_range           | 0.2         |\n",
      "|    entropy_loss         | -86.9       |\n",
      "|    explained_variance   | 0.0186      |\n",
      "|    learning_rate        | 0.0003      |\n",
      "|    loss                 | 4.1e+05     |\n",
      "|    n_updates            | 30          |\n",
      "|    policy_gradient_loss | -0.0847     |\n",
      "|    value_loss           | 6.59e+05    |\n",
      "-----------------------------------------\n",
      "-----------------------------------------\n",
      "| rollout/                |             |\n",
      "|    ep_len_mean          | 185         |\n",
      "|    ep_rew_mean          | 4.86e+03    |\n",
      "| time/                   |             |\n",
      "|    fps                  | 32          |\n",
      "|    iterations           | 5           |\n",
      "|    time_elapsed         | 316         |\n",
      "|    total_timesteps      | 10240       |\n",
      "| train/                  |             |\n",
      "|    approx_kl            | 0.019439127 |\n",
      "|    clip_fraction        | 0.197       |\n",
      "|    clip_range           | 0.2         |\n",
      "|    entropy_loss         | -86.9       |\n",
      "|    explained_variance   | 0.0364      |\n",
      "|    learning_rate        | 0.0003      |\n",
      "|    loss                 | 3.87e+05    |\n",
      "|    n_updates            | 40          |\n",
      "|    policy_gradient_loss | -0.0795     |\n",
      "|    value_loss           | 6.35e+05    |\n",
      "-----------------------------------------\n",
      "-----------------------------------------\n",
      "| rollout/                |             |\n",
      "|    ep_len_mean          | 185         |\n",
      "|    ep_rew_mean          | 4.83e+03    |\n",
      "| time/                   |             |\n",
      "|    fps                  | 32          |\n",
      "|    iterations           | 6           |\n",
      "|    time_elapsed         | 382         |\n",
      "|    total_timesteps      | 12288       |\n",
      "| train/                  |             |\n",
      "|    approx_kl            | 0.017172137 |\n",
      "|    clip_fraction        | 0.177       |\n",
      "|    clip_range           | 0.2         |\n",
      "|    entropy_loss         | -86.9       |\n",
      "|    explained_variance   | 0.0434      |\n",
      "|    learning_rate        | 0.0003      |\n",
      "|    loss                 | 2.54e+05    |\n",
      "|    n_updates            | 50          |\n",
      "|    policy_gradient_loss | -0.0765     |\n",
      "|    value_loss           | 6.72e+05    |\n",
      "-----------------------------------------\n",
      "-----------------------------------------\n",
      "| rollout/                |             |\n",
      "|    ep_len_mean          | 185         |\n",
      "|    ep_rew_mean          | 4.83e+03    |\n",
      "| time/                   |             |\n",
      "|    fps                  | 31          |\n",
      "|    iterations           | 7           |\n",
      "|    time_elapsed         | 449         |\n",
      "|    total_timesteps      | 14336       |\n",
      "| train/                  |             |\n",
      "|    approx_kl            | 0.016368903 |\n",
      "|    clip_fraction        | 0.15        |\n",
      "|    clip_range           | 0.2         |\n",
      "|    entropy_loss         | -86.9       |\n",
      "|    explained_variance   | 0.0453      |\n",
      "|    learning_rate        | 0.0003      |\n",
      "|    loss                 | 2.63e+05    |\n",
      "|    n_updates            | 60          |\n",
      "|    policy_gradient_loss | -0.0715     |\n",
      "|    value_loss           | 5.76e+05    |\n",
      "-----------------------------------------\n",
      "-----------------------------------------\n",
      "| rollout/                |             |\n",
      "|    ep_len_mean          | 185         |\n",
      "|    ep_rew_mean          | 4.82e+03    |\n",
      "| time/                   |             |\n",
      "|    fps                  | 31          |\n",
      "|    iterations           | 8           |\n",
      "|    time_elapsed         | 516         |\n",
      "|    total_timesteps      | 16384       |\n",
      "| train/                  |             |\n",
      "|    approx_kl            | 0.015152898 |\n",
      "|    clip_fraction        | 0.12        |\n",
      "|    clip_range           | 0.2         |\n",
      "|    entropy_loss         | -86.9       |\n",
      "|    explained_variance   | 0.0544      |\n",
      "|    learning_rate        | 0.0003      |\n",
      "|    loss                 | 2.7e+05     |\n",
      "|    n_updates            | 70          |\n",
      "|    policy_gradient_loss | -0.0645     |\n",
      "|    value_loss           | 6.12e+05    |\n",
      "-----------------------------------------\n",
      "-----------------------------------------\n",
      "| rollout/                |             |\n",
      "|    ep_len_mean          | 185         |\n",
      "|    ep_rew_mean          | 4.82e+03    |\n",
      "| time/                   |             |\n",
      "|    fps                  | 31          |\n",
      "|    iterations           | 9           |\n",
      "|    time_elapsed         | 583         |\n",
      "|    total_timesteps      | 18432       |\n",
      "| train/                  |             |\n",
      "|    approx_kl            | 0.013281098 |\n",
      "|    clip_fraction        | 0.0904      |\n",
      "|    clip_range           | 0.2         |\n",
      "|    entropy_loss         | -86.8       |\n",
      "|    explained_variance   | 0.0636      |\n",
      "|    learning_rate        | 0.0003      |\n",
      "|    loss                 | 3.17e+05    |\n",
      "|    n_updates            | 80          |\n",
      "|    policy_gradient_loss | -0.0581     |\n",
      "|    value_loss           | 6.62e+05    |\n",
      "-----------------------------------------\n",
      "----------------------------------------\n",
      "| rollout/                |            |\n",
      "|    ep_len_mean          | 185        |\n",
      "|    ep_rew_mean          | 4.89e+03   |\n",
      "| time/                   |            |\n",
      "|    fps                  | 31         |\n",
      "|    iterations           | 10         |\n",
      "|    time_elapsed         | 651        |\n",
      "|    total_timesteps      | 20480      |\n",
      "| train/                  |            |\n",
      "|    approx_kl            | 0.01224942 |\n",
      "|    clip_fraction        | 0.077      |\n",
      "|    clip_range           | 0.2        |\n",
      "|    entropy_loss         | -86.8      |\n",
      "|    explained_variance   | 0.0572     |\n",
      "|    learning_rate        | 0.0003     |\n",
      "|    loss                 | 3.63e+05   |\n",
      "|    n_updates            | 90         |\n",
      "|    policy_gradient_loss | -0.0545    |\n",
      "|    value_loss           | 6.57e+05   |\n",
      "----------------------------------------\n",
      "-----------------------------------------\n",
      "| rollout/                |             |\n",
      "|    ep_len_mean          | 185         |\n",
      "|    ep_rew_mean          | 4.86e+03    |\n",
      "| time/                   |             |\n",
      "|    fps                  | 31          |\n",
      "|    iterations           | 11          |\n",
      "|    time_elapsed         | 718         |\n",
      "|    total_timesteps      | 22528       |\n",
      "| train/                  |             |\n",
      "|    approx_kl            | 0.010690289 |\n",
      "|    clip_fraction        | 0.0628      |\n",
      "|    clip_range           | 0.2         |\n",
      "|    entropy_loss         | -86.8       |\n",
      "|    explained_variance   | 0.0692      |\n",
      "|    learning_rate        | 0.0003      |\n",
      "|    loss                 | 3.14e+05    |\n",
      "|    n_updates            | 100         |\n",
      "|    policy_gradient_loss | -0.0484     |\n",
      "|    value_loss           | 7.15e+05    |\n",
      "-----------------------------------------\n",
      "-----------------------------------------\n",
      "| rollout/                |             |\n",
      "|    ep_len_mean          | 185         |\n",
      "|    ep_rew_mean          | 4.84e+03    |\n",
      "| time/                   |             |\n",
      "|    fps                  | 31          |\n",
      "|    iterations           | 12          |\n",
      "|    time_elapsed         | 784         |\n",
      "|    total_timesteps      | 24576       |\n",
      "| train/                  |             |\n",
      "|    approx_kl            | 0.014173752 |\n",
      "|    clip_fraction        | 0.1         |\n",
      "|    clip_range           | 0.2         |\n",
      "|    entropy_loss         | -86.8       |\n",
      "|    explained_variance   | 0.0719      |\n",
      "|    learning_rate        | 0.0003      |\n",
      "|    loss                 | 3.18e+05    |\n",
      "|    n_updates            | 110         |\n",
      "|    policy_gradient_loss | -0.0571     |\n",
      "|    value_loss           | 6.62e+05    |\n",
      "-----------------------------------------\n",
      "-----------------------------------------\n",
      "| rollout/                |             |\n",
      "|    ep_len_mean          | 185         |\n",
      "|    ep_rew_mean          | 4.86e+03    |\n",
      "| time/                   |             |\n",
      "|    fps                  | 31          |\n",
      "|    iterations           | 13          |\n",
      "|    time_elapsed         | 850         |\n",
      "|    total_timesteps      | 26624       |\n",
      "| train/                  |             |\n",
      "|    approx_kl            | 0.011565039 |\n",
      "|    clip_fraction        | 0.0766      |\n",
      "|    clip_range           | 0.2         |\n",
      "|    entropy_loss         | -86.8       |\n",
      "|    explained_variance   | 0.0901      |\n",
      "|    learning_rate        | 0.0003      |\n",
      "|    loss                 | 2.93e+05    |\n",
      "|    n_updates            | 120         |\n",
      "|    policy_gradient_loss | -0.054      |\n",
      "|    value_loss           | 6.21e+05    |\n",
      "-----------------------------------------\n"
     ]
    },
    {
     "data": {
      "text/plain": [
       "<stable_baselines3.ppo.ppo.PPO at 0x7ff073a7e7c0>"
      ]
     },
     "execution_count": 10,
     "metadata": {},
     "output_type": "execute_result"
    }
   ],
   "source": [
    "model.learn(total_timesteps=25_000, eval_env=eval_env, n_eval_episodes=10)"
   ]
  },
  {
   "cell_type": "code",
   "execution_count": 11,
   "metadata": {},
   "outputs": [
    {
     "data": {
      "text/plain": [
       "array([  7.71087993,   5.49728661, -14.48100686, -12.62382454,\n",
       "        18.65867323,  17.91357267,  14.46645929,  21.11707727,\n",
       "        17.78470893,  -8.57681368])"
      ]
     },
     "execution_count": 11,
     "metadata": {},
     "output_type": "execute_result"
    }
   ],
   "source": [
    "all_rewards = eval()\n",
    "all_rewards"
   ]
  },
  {
   "cell_type": "code",
   "execution_count": 12,
   "metadata": {},
   "outputs": [
    {
     "data": {
      "text/plain": [
       "6.746701284285166"
      ]
     },
     "execution_count": 12,
     "metadata": {},
     "output_type": "execute_result"
    }
   ],
   "source": [
    "all_rewards.mean()"
   ]
  },
  {
   "cell_type": "code",
   "execution_count": null,
   "metadata": {},
   "outputs": [],
   "source": []
  }
 ],
 "metadata": {
  "kernelspec": {
   "display_name": "Python 3.9.13 ('sustaingym')",
   "language": "python",
   "name": "python3"
  },
  "language_info": {
   "codemirror_mode": {
    "name": "ipython",
    "version": 3
   },
   "file_extension": ".py",
   "mimetype": "text/x-python",
   "name": "python",
   "nbconvert_exporter": "python",
   "pygments_lexer": "ipython3",
   "version": "3.9.13"
  },
  "orig_nbformat": 4,
  "vscode": {
   "interpreter": {
    "hash": "c910351b0c3a4aade2cf03b555240fe9951314ae7b50b4f56bc279231ceafe8d"
   }
  }
 },
 "nbformat": 4,
 "nbformat_minor": 2
}
