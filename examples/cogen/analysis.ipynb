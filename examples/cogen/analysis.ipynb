{
 "cells": [
  {
   "attachments": {},
   "cell_type": "markdown",
   "metadata": {},
   "source": [
    "## Analysis of results on DataCenterEnv"
   ]
  },
  {
   "cell_type": "code",
   "execution_count": 1,
   "metadata": {},
   "outputs": [
    {
     "name": "stdout",
     "output_type": "stream",
     "text": [
      "/home/ec2-user/sustaingym\n"
     ]
    }
   ],
   "source": [
    "%load_ext autoreload\n",
    "%autoreload 2\n",
    "%matplotlib inline\n",
    "%cd ../.."
   ]
  },
  {
   "cell_type": "code",
   "execution_count": 2,
   "metadata": {},
   "outputs": [],
   "source": [
    "import os\n",
    "\n",
    "import matplotlib.pyplot as plt\n",
    "import pandas as pd\n",
    "import seaborn as sns\n",
    "\n",
    "sns.set_style('darkgrid')"
   ]
  },
  {
   "cell_type": "code",
   "execution_count": 31,
   "metadata": {},
   "outputs": [],
   "source": [
    "def read_results_csv(folder):\n",
    "    csv_path = os.path.join('logs', 'cogen', 'rllib', folder, 'test_results.csv')\n",
    "    df = pd.read_csv(csv_path)\n",
    "    # change index to seed column\n",
    "    # print(df.head())\n",
    "    df.set_index('seed', inplace=True)\n",
    "    # change 'return' column to 'reward'\n",
    "    df.rename(columns={'return': 'reward'}, inplace=True)\n",
    "    return df"
   ]
  },
  {
   "cell_type": "code",
   "execution_count": 8,
   "metadata": {},
   "outputs": [],
   "source": [
    "csv_path = os.path.join('logs', 'cogen', 'rllib', 'ppo_lr5e-05_seed123', 'test_results.csv')\n",
    "df = pd.read_csv(csv_path)"
   ]
  },
  {
   "attachments": {},
   "cell_type": "markdown",
   "metadata": {},
   "source": [
    "Figure out the best seed + learning rate for each of the pre-distribution shift environments"
   ]
  },
  {
   "cell_type": "code",
   "execution_count": 21,
   "metadata": {},
   "outputs": [],
   "source": [
    "from pprint import pprint"
   ]
  },
  {
   "cell_type": "code",
   "execution_count": 23,
   "metadata": {},
   "outputs": [
    {
     "name": "stdout",
     "output_type": "stream",
     "text": [
      "[('lr = 5e-06, seed = 456', -4456169.154200068),\n",
      " ('lr = 5e-06, seed = 123', -5323533.844060297),\n",
      " ('lr = 5e-06, seed = 789', -6586136.849602086),\n",
      " ('lr = 5e-05, seed = 456', -10063553.544538701),\n",
      " ('lr = 0.0005, seed = 789', -10564073.243193513),\n",
      " ('lr = 5e-05, seed = 123', -10716848.565627648),\n",
      " ('lr = 0.0005, seed = 123', -10758442.315375246),\n",
      " ('lr = 0.0005, seed = 456', -11707711.488214074),\n",
      " ('lr = 5e-05, seed = 789', -11931226.530624611)]\n"
     ]
    }
   ],
   "source": [
    "returns = []\n",
    "\n",
    "for seed in ['123', '456', '789']:\n",
    "    for lr in ['0.0005', '5e-05', '5e-06']:\n",
    "        df = read_results_csv('ppo_lr{}_seed{}'.format(lr, seed))\n",
    "        returns.append(('lr = {}, seed = {}'.format(lr, seed), df['return'].mean()))\n",
    "        # print('lr = {}, seed = {}'.format(lr, seed), df['return'].mean())\n",
    "pprint(sorted(returns, key=lambda x: x[1], reverse=True))"
   ]
  },
  {
   "cell_type": "code",
   "execution_count": 24,
   "metadata": {},
   "outputs": [
    {
     "name": "stdout",
     "output_type": "stream",
     "text": [
      "[('lr = 5e-06, seed = 456', -3310351.8816018826),\n",
      " ('lr = 5e-06, seed = 789', -4131610.248537592),\n",
      " ('lr = 0.0005, seed = 789', -4167472.292320176),\n",
      " ('lr = 5e-06, seed = 123', -4597954.269467002),\n",
      " ('lr = 0.0005, seed = 123', -5847848.539152792),\n",
      " ('lr = 5e-05, seed = 789', -5864399.441601528),\n",
      " ('lr = 5e-05, seed = 123', -6505047.2943287855),\n",
      " ('lr = 5e-05, seed = 456', -7876789.330584012),\n",
      " ('lr = 0.0005, seed = 456', -8207951.909836967)]\n"
     ]
    }
   ],
   "source": [
    "ds_returns = []\n",
    "\n",
    "for seed in ['123', '456', '789']:\n",
    "    for lr in ['0.0005', '5e-05', '5e-06']:\n",
    "        df = read_results_csv('ppo_lr{}_seed{}_rm300.0'.format(lr, seed))\n",
    "        ds_returns.append(('lr = {}, seed = {}'.format(lr, seed), df['return'].mean()))\n",
    "        # print('lr = {}, seed = {}'.format(lr, seed), df['return'].mean())\n",
    "pprint(sorted(ds_returns, key=lambda x: x[1], reverse=True))"
   ]
  },
  {
   "attachments": {},
   "cell_type": "markdown",
   "metadata": {},
   "source": [
    "Seed 456 and learning rate 5e-06 is best for both"
   ]
  },
  {
   "cell_type": "code",
   "execution_count": 44,
   "metadata": {},
   "outputs": [],
   "source": [
    "df1 = read_results_csv('ppo_lr5e-06_seed456')\n",
    "# add a column for training environment\n",
    "df1['Training environment'] = 'No distribution shift'\n",
    "# add a column for testing environment\n",
    "df1['Testing environment'] = 'No distribution shift'\n",
    "\n",
    "df2 = read_results_csv('ppo_lr5e-06_seed456_rm300.0')\n",
    "# add a column for training environment\n",
    "df2['Training environment'] = 'Distribution shift'\n",
    "# add a column for testing environment\n",
    "df2['Testing environment'] = 'Distribution shift'\n",
    "\n",
    "df3 = read_results_csv('ppo_lr5e-06_seed456_rm300.0_distshift')\n",
    "# add a column for training environment\n",
    "df3['Training environment'] = 'No distribution shift'\n",
    "# add a column for testing environment\n",
    "df3['Testing environment'] = 'Distribution shift'\n",
    "\n",
    "df = pd.concat([df1, df2, df3])"
   ]
  },
  {
   "cell_type": "code",
   "execution_count": 45,
   "metadata": {},
   "outputs": [
    {
     "data": {
      "text/html": [
       "<div>\n",
       "<style scoped>\n",
       "    .dataframe tbody tr th:only-of-type {\n",
       "        vertical-align: middle;\n",
       "    }\n",
       "\n",
       "    .dataframe tbody tr th {\n",
       "        vertical-align: top;\n",
       "    }\n",
       "\n",
       "    .dataframe thead th {\n",
       "        text-align: right;\n",
       "    }\n",
       "</style>\n",
       "<table border=\"1\" class=\"dataframe\">\n",
       "  <thead>\n",
       "    <tr style=\"text-align: right;\">\n",
       "      <th></th>\n",
       "      <th>reward</th>\n",
       "      <th>Training environment</th>\n",
       "      <th>Testing environment</th>\n",
       "    </tr>\n",
       "    <tr>\n",
       "      <th>seed</th>\n",
       "      <th></th>\n",
       "      <th></th>\n",
       "      <th></th>\n",
       "    </tr>\n",
       "  </thead>\n",
       "  <tbody>\n",
       "    <tr>\n",
       "      <th>0</th>\n",
       "      <td>-9.775199e+05</td>\n",
       "      <td>No distribution shift</td>\n",
       "      <td>No distribution shift</td>\n",
       "    </tr>\n",
       "    <tr>\n",
       "      <th>1</th>\n",
       "      <td>-5.186825e+06</td>\n",
       "      <td>No distribution shift</td>\n",
       "      <td>No distribution shift</td>\n",
       "    </tr>\n",
       "    <tr>\n",
       "      <th>2</th>\n",
       "      <td>-1.930407e+06</td>\n",
       "      <td>No distribution shift</td>\n",
       "      <td>No distribution shift</td>\n",
       "    </tr>\n",
       "    <tr>\n",
       "      <th>3</th>\n",
       "      <td>-2.060414e+06</td>\n",
       "      <td>No distribution shift</td>\n",
       "      <td>No distribution shift</td>\n",
       "    </tr>\n",
       "    <tr>\n",
       "      <th>4</th>\n",
       "      <td>-2.154118e+06</td>\n",
       "      <td>No distribution shift</td>\n",
       "      <td>No distribution shift</td>\n",
       "    </tr>\n",
       "  </tbody>\n",
       "</table>\n",
       "</div>"
      ],
      "text/plain": [
       "            reward   Training environment    Testing environment\n",
       "seed                                                            \n",
       "0    -9.775199e+05  No distribution shift  No distribution shift\n",
       "1    -5.186825e+06  No distribution shift  No distribution shift\n",
       "2    -1.930407e+06  No distribution shift  No distribution shift\n",
       "3    -2.060414e+06  No distribution shift  No distribution shift\n",
       "4    -2.154118e+06  No distribution shift  No distribution shift"
      ]
     },
     "execution_count": 45,
     "metadata": {},
     "output_type": "execute_result"
    }
   ],
   "source": [
    "df.head()"
   ]
  },
  {
   "cell_type": "code",
   "execution_count": 47,
   "metadata": {},
   "outputs": [
    {
     "data": {
      "image/png": "[encoded data removed]",
      "text/plain": [
       "<Figure size 288x216 with 1 Axes>"
      ]
     },
     "metadata": {},
     "output_type": "display_data"
    }
   ],
   "source": [
    "fig, ax = plt.subplots(1, 1, figsize=(4, 3), tight_layout=True)\n",
    "sns.violinplot(data=df, x='Training environment', y='reward', hue='Testing environment', ax=ax,\n",
    "               hue_order=['No distribution shift', 'Distribution shift'])\n",
    "ax.set(xlabel='Training environment', ylabel='Reward')\n",
    "ax.axvline(0.5, linestyle=':', color='black')\n",
    "fig.savefig('examples/cogen/violinplot.png', bbox_inches='tight', dpi=300)"
   ]
  },
  {
   "cell_type": "code",
   "execution_count": null,
   "metadata": {},
   "outputs": [],
   "source": []
  }
 ],
 "metadata": {
  "kernelspec": {
   "display_name": "sustaingym0604_latest",
   "language": "python",
   "name": "python3"
  },
  "language_info": {
   "codemirror_mode": {
    "name": "ipython",
    "version": 3
   },
   "file_extension": ".py",
   "mimetype": "text/x-python",
   "name": "python",
   "nbconvert_exporter": "python",
   "pygments_lexer": "ipython3",
   "version": "3.9.13"
  },
  "orig_nbformat": 4
 },
 "nbformat": 4,
 "nbformat_minor": 2
}
