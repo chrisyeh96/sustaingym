{
 "cells": [
  {
   "attachments": {},
   "cell_type": "markdown",
   "metadata": {},
   "source": [
    "## Analysis of results on CogenEnv"
   ]
  },
  {
   "cell_type": "code",
   "execution_count": null,
   "metadata": {},
   "outputs": [],
   "source": [
    "%load_ext autoreload\n",
    "%autoreload 2\n",
    "%matplotlib inline\n",
    "%cd ../.."
   ]
  },
  {
   "cell_type": "code",
   "execution_count": null,
   "metadata": {},
   "outputs": [],
   "source": [
    "import os\n",
    "\n",
    "import matplotlib.pyplot as plt\n",
    "import pandas as pd\n",
    "import seaborn as sns\n",
    "\n",
    "sns.set_style('darkgrid')"
   ]
  },
  {
   "cell_type": "code",
   "execution_count": null,
   "metadata": {},
   "outputs": [],
   "source": [
    "def read_results_csv(folder):\n",
    "    csv_path = os.path.join('logs', 'cogen', 'rllib', folder, 'test_results.csv')\n",
    "    df = pd.read_csv(csv_path)\n",
    "    df.set_index('seed', inplace=True)\n",
    "    return df"
   ]
  },
  {
   "cell_type": "code",
   "execution_count": null,
   "metadata": {},
   "outputs": [],
   "source": [
    "csv_path = os.path.join('logs', 'cogen', 'rllib', 'ppo_lr5e-05_seed123', 'test_results.csv')\n",
    "df = pd.read_csv(csv_path)"
   ]
  },
  {
   "attachments": {},
   "cell_type": "markdown",
   "metadata": {},
   "source": [
    "Figure out the best seed + learning rate for each of the pre-distribution shift environments"
   ]
  },
  {
   "cell_type": "code",
   "execution_count": null,
   "metadata": {},
   "outputs": [],
   "source": [
    "from pprint import pprint"
   ]
  },
  {
   "cell_type": "code",
   "execution_count": null,
   "metadata": {},
   "outputs": [],
   "source": [
    "returns = []\n",
    "\n",
    "for seed in ['123', '456', '789']:\n",
    "    for lr in ['0.0005', '5e-05', '5e-06']:\n",
    "        filename = f'ppo_lr{lr}_seed{seed}'\n",
    "        df = read_results_csv(filename)\n",
    "        returns.append((f'lr = {lr}, seed = {seed}', df['return'].mean()))\n",
    "pprint(sorted(returns, key=lambda x: x[1], reverse=True))"
   ]
  },
  {
   "cell_type": "code",
   "execution_count": null,
   "metadata": {},
   "outputs": [],
   "source": [
    "ds_returns = []\n",
    "\n",
    "for seed in ['123', '456', '789']:\n",
    "    for lr in ['0.0005', '5e-05', '5e-06']:\n",
    "        df = read_results_csv(f'ppo_lr{lr}_seed{seed}_rm300.0')\n",
    "        ds_returns.append((f'lr = {lr}, seed = {seed}', df['return'].mean()))\n",
    "pprint(sorted(ds_returns, key=lambda x: x[1], reverse=True))"
   ]
  },
  {
   "cell_type": "code",
   "execution_count": null,
   "metadata": {},
   "outputs": [],
   "source": [
    "ds_returns = []\n",
    "\n",
    "for seed in ['123']:  # , '456', '789']:\n",
    "    for lr in ['0.0005', '5e-05', '5e-06']:\n",
    "        df = read_results_csv(f'ma-ppo_lr{lr}_seed{seed}_rm0.0')\n",
    "        ds_returns.append((f'lr = {lr}, seed = {seed}', df['return'].mean()))\n",
    "pprint(sorted(ds_returns, key=lambda x: x[1], reverse=True))"
   ]
  },
  {
   "cell_type": "code",
   "execution_count": null,
   "metadata": {},
   "outputs": [],
   "source": [
    "ds_returns = []\n",
    "\n",
    "for seed in ['123']:  # , '456', '789']:\n",
    "    for lr in ['0.0005', '5e-05', '5e-06']:\n",
    "        df = read_results_csv('ma-ppo_lr{}_seed{}_rm300.0'.format(lr, seed))\n",
    "        ds_returns.append(('lr = {}, seed = {}'.format(lr, seed), df['return'].mean()))\n",
    "        # print('lr = {}, seed = {}'.format(lr, seed), df['return'].mean())\n",
    "pprint(sorted(ds_returns, key=lambda x: x[1], reverse=True))"
   ]
  },
  {
   "attachments": {},
   "cell_type": "markdown",
   "metadata": {},
   "source": [
    "Seed 456 and learning rate 5e-06 is best for both"
   ]
  },
  {
   "cell_type": "code",
   "execution_count": null,
   "metadata": {},
   "outputs": [],
   "source": [
    "dfs = []\n",
    "\n",
    "# df1 = read_results_csv('ppo_lr5e-06_seed456')\n",
    "# # add a column for training environment\n",
    "# df1['Training environment'] = 'No distribution shift'\n",
    "# # add a column for testing environment\n",
    "# df1['Testing environment'] = 'No distribution shift'\n",
    "# dfs.append(df1)\n",
    "\n",
    "df2 = read_results_csv('ppo_lr5e-06_seed456_rm300.0')\n",
    "# add a column for training environment\n",
    "df2['trained on'] = '300MW wind'\n",
    "df2['Algorithm'] = 'PPO'\n",
    "# add a column for testing environment\n",
    "# df2['Testing environment'] = 'Distribution shift'\n",
    "dfs.append(df2)\n",
    "\n",
    "df3 = read_results_csv('ppo_lr5e-06_seed456_rm300.0_distshift')\n",
    "# add a column for training environment\n",
    "df3['trained on'] = '0MW wind'\n",
    "df3['Algorithm'] = 'PPO'\n",
    "# add a column for testing environment\n",
    "# df3['Testing environment'] = 'Distribution shift'\n",
    "dfs.append(df3)\n",
    "\n",
    "df = read_results_csv(f'ma-ppo_lr5e-06_seed123_rm0.0')\n",
    "df['trained on'] = '0MW wind'\n",
    "df['Algorithm'] = 'MA-PPO'\n",
    "dfs.append(df)\n",
    "\n",
    "df = read_results_csv(f'ma-ppo_lr5e-06_seed123_rm300.0')\n",
    "df['trained on'] = '300MW wind'\n",
    "df['Algorithm'] = 'MA-PPO'\n",
    "dfs.append(df)\n",
    "\n",
    "df = read_results_csv('rand_rm300.0')\n",
    "df['trained on'] = '300MW wind'\n",
    "df['Algorithm'] = 'Random'\n",
    "dfs.append(df)\n",
    "\n",
    "df = pd.concat(dfs)"
   ]
  },
  {
   "cell_type": "code",
   "execution_count": null,
   "metadata": {},
   "outputs": [],
   "source": [
    "df.head()"
   ]
  },
  {
   "cell_type": "code",
   "execution_count": null,
   "metadata": {},
   "outputs": [],
   "source": [
    "fig, ax = plt.subplots(1, 1, figsize=(4, 3), tight_layout=True)\n",
    "sns.violinplot(data=df, x='Algorithm', y='return', hue='trained on', ax=ax,\n",
    "               hue_order=['0MW wind', '300MW wind'], order=['Random', 'PPO', 'MA-PPO'],\n",
    "               cut=0)\n",
    "ax.set_ylabel('Daily Return')\n",
    "ax.axvline(0.5, linestyle=':', color='black')\n",
    "fig.savefig('plots/cogen/violinplot.png', bbox_inches='tight', dpi=300)\n",
    "fig.savefig('plots/cogen/violinplot.pdf', bbox_inches='tight', dpi=300)"
   ]
  }
 ],
 "metadata": {
  "kernelspec": {
   "display_name": "sustaingym0604_latest",
   "language": "python",
   "name": "python3"
  },
  "language_info": {
   "codemirror_mode": {
    "name": "ipython",
    "version": 3
   },
   "file_extension": ".py",
   "mimetype": "text/x-python",
   "name": "python",
   "nbconvert_exporter": "python",
   "pygments_lexer": "ipython3",
   "version": "3.9.16"
  },
  "orig_nbformat": 4
 },
 "nbformat": 4,
 "nbformat_minor": 2
}
