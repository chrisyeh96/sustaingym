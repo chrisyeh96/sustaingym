{
 "cells": [
  {
   "attachments": {},
   "cell_type": "markdown",
   "metadata": {},
   "source": [
    "### Cogen Data Analysis"
   ]
  },
  {
   "cell_type": "code",
   "execution_count": null,
   "metadata": {},
   "outputs": [],
   "source": [
    "%matplotlib inline\n",
    "%load_ext autoreload\n",
    "%autoreload 2\n",
    "%cd ../.."
   ]
  },
  {
   "cell_type": "code",
   "execution_count": null,
   "metadata": {},
   "outputs": [],
   "source": [
    "from __future__ import annotations\n",
    "\n",
    "import os\n",
    "\n",
    "import matplotlib.dates as mdates\n",
    "import matplotlib.pyplot as plt\n",
    "import numpy as np\n",
    "import pandas as pd\n",
    "\n",
    "from sustaingym.data.cogen.load_ambients import construct_df\n",
    "\n",
    "import seaborn as sns\n",
    "sns.set_style('darkgrid')"
   ]
  },
  {
   "cell_type": "code",
   "execution_count": null,
   "metadata": {},
   "outputs": [],
   "source": [
    "plots_dir = 'plots/cogen'\n",
    "os.makedirs(plots_dir, exist_ok=True)\n",
    "\n",
    "def savefig(fig: plt.Figure, filename: str, **kwargs) -> None:\n",
    "    save_path = os.path.join(plots_dir, filename)\n",
    "    fig.savefig(save_path, dpi=300, bbox_inches='tight', pad_inches=0, **kwargs)"
   ]
  },
  {
   "cell_type": "code",
   "execution_count": null,
   "metadata": {},
   "outputs": [],
   "source": [
    "def plot_dfs(dfs: list[pd.DataFrame], column: str, ylabel: str, filename: str,\n",
    "             **kwargs) -> None:\n",
    "    powers = np.array([dfs[i][column].to_numpy() for i in range(len(dfs))])\n",
    "    print(len(powers))\n",
    "\n",
    "    fig, ax = plt.subplots(1, 1, figsize=(3.5, 2.5), tight_layout=True)\n",
    "    ax.plot(dfs[0]['Timestamp'], powers.T, color='grey', alpha=0.1)\n",
    "    ax.plot(dfs[0]['Timestamp'], powers.T[:, ::50], alpha=0.8)\n",
    "    ax.set(xlabel='Time of day', ylabel=ylabel, **kwargs)\n",
    "\n",
    "    date_form = mdates.DateFormatter('%-Hh')\n",
    "    ax.xaxis.set_major_formatter(date_form)\n",
    "    ax.xaxis.set_major_locator(mdates.HourLocator(byhour=range(0, 24, 4)))\n",
    "    halfhour = pd.Timedelta('0.5h')\n",
    "    ax.set_xlim(dfs[0]['Timestamp'].min() - halfhour, dfs[0]['Timestamp'].max() + halfhour)\n",
    "\n",
    "    savefig(fig, filename=filename)\n",
    "    plt.show()"
   ]
  },
  {
   "cell_type": "code",
   "execution_count": null,
   "metadata": {},
   "outputs": [],
   "source": [
    "dfs = construct_df(renewables_magnitude=0)\n",
    "plot_dfs(dfs, column='Target Net Power', ylabel='Energy demand (MW)',\n",
    "         filename='energy_demand.pdf', ylim=(-10, 700))"
   ]
  },
  {
   "cell_type": "code",
   "execution_count": null,
   "metadata": {},
   "outputs": [],
   "source": [
    "dfs_rm300 = construct_df(renewables_magnitude=300)\n",
    "plot_dfs(dfs_rm300, column='Target Net Power', ylabel='Energy demand (MW)',\n",
    "         filename='energy_demand_with_wind.pdf', ylim=(-10, 700))"
   ]
  },
  {
   "cell_type": "code",
   "execution_count": null,
   "metadata": {},
   "outputs": [],
   "source": [
    "plot_dfs(dfs, column='Target Process Steam', ylabel='Steam demand (klb/hr)',\n",
    "         filename='steam_demand.pdf')"
   ]
  }
 ],
 "metadata": {
  "kernelspec": {
   "display_name": "Python 3",
   "language": "python",
   "name": "python3"
  },
  "language_info": {
   "codemirror_mode": {
    "name": "ipython",
    "version": 3
   },
   "file_extension": ".py",
   "mimetype": "text/x-python",
   "name": "python",
   "nbconvert_exporter": "python",
   "pygments_lexer": "ipython3",
   "version": "3.9.16"
  },
  "orig_nbformat": 4
 },
 "nbformat": 4,
 "nbformat_minor": 2
}
