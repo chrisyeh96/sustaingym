{
 "cells": [
  {
   "attachments": {},
   "cell_type": "markdown",
   "metadata": {},
   "source": [
    "### Cogen Data Analysis"
   ]
  },
  {
   "cell_type": "code",
   "execution_count": null,
   "metadata": {},
   "outputs": [],
   "source": [
    "%matplotlib inline\n",
    "%load_ext autoreload\n",
    "%autoreload 2\n",
    "%cd ../.."
   ]
  },
  {
   "cell_type": "code",
   "execution_count": null,
   "metadata": {},
   "outputs": [],
   "source": [
    "import os\n",
    "\n",
    "import numpy as np\n",
    "import pandas as pd\n",
    "\n",
    "from sustaingym.data.cogen.load_ambients import construct_df\n",
    "import matplotlib.pyplot as plt\n",
    "\n",
    "import seaborn as sns\n",
    "sns.set_style('darkgrid')"
   ]
  },
  {
   "cell_type": "code",
   "execution_count": null,
   "metadata": {},
   "outputs": [],
   "source": [
    "save_dir = 'plots/cogen'\n",
    "os.makedirs(save_dir, exist_ok=True)"
   ]
  },
  {
   "cell_type": "code",
   "execution_count": null,
   "metadata": {},
   "outputs": [],
   "source": [
    "dfs = construct_df(renewables_magnitude=0)"
   ]
  },
  {
   "cell_type": "code",
   "execution_count": null,
   "metadata": {},
   "outputs": [],
   "source": [
    "powers = np.array([dfs[i]['Target Net Power'].to_numpy() for i in range(len(dfs))])\n",
    "print(len(powers))\n",
    "\n",
    "fig, ax = plt.subplots(1, 1, figsize=(5, 3), tight_layout=True)\n",
    "ax.plot(powers.T, color='grey', alpha=0.1)\n",
    "ax.plot(powers.T[:, ::50], alpha=0.8)\n",
    "ax.set(xlabel='Time (15 min interval)', ylabel='Energy demand (MW)')\n",
    "fig.savefig('plots/cogen/energy_demand.pdf', bbox_inches='tight', dpi=300, pad_inches=0)\n",
    "plt.show()"
   ]
  },
  {
   "cell_type": "code",
   "execution_count": null,
   "metadata": {},
   "outputs": [],
   "source": [
    "dfs_rm300 = construct_df(renewables_magnitude=300.0)"
   ]
  },
  {
   "cell_type": "code",
   "execution_count": null,
   "metadata": {},
   "outputs": [],
   "source": [
    "powers = np.array([dfs_rm300[i]['Target Net Power'].to_numpy() for i in range(len(dfs))])\n",
    "print(len(powers))\n",
    "\n",
    "fig, ax = plt.subplots(1, 1, figsize=(5, 3), tight_layout=True)\n",
    "ax.plot(powers.T, color='grey', alpha=0.1)\n",
    "ax.plot(powers.T[:, ::50], alpha=0.8)\n",
    "ax.set(xlabel='Time (15 min interval)', ylabel='Energy demand (MW)')\n",
    "fig.savefig('plots/cogen/energy_demand_with_wind.pdf', bbox_inches='tight', dpi=300, pad_inches=0)\n",
    "plt.show()"
   ]
  },
  {
   "cell_type": "code",
   "execution_count": null,
   "metadata": {},
   "outputs": [],
   "source": [
    "steams = np.array([dfs[i]['Target Process Steam'].to_numpy() for i in range(len(dfs))])\n",
    "print(len(steams))\n",
    "\n",
    "fig, ax = plt.subplots(1, 1, figsize=(5, 3), tight_layout=True)\n",
    "ax.plot(steams.T, color='grey', alpha=0.1)\n",
    "ax.plot(steams.T[:, ::50], alpha=0.8)\n",
    "ax.set(xlabel='Time (15 min interval)', ylabel='Steam demand (klb/hr)')\n",
    "fig.savefig('plots/cogen/steam_demand.pdf', bbox_inches='tight', dpi=300, pad_inches=0)\n",
    "plt.show()"
   ]
  }
 ],
 "metadata": {
  "kernelspec": {
   "display_name": "Python 3",
   "language": "python",
   "name": "python3"
  },
  "language_info": {
   "codemirror_mode": {
    "name": "ipython",
    "version": 3
   },
   "file_extension": ".py",
   "mimetype": "text/x-python",
   "name": "python",
   "nbconvert_exporter": "python",
   "pygments_lexer": "ipython3",
   "version": "3.9.16"
  },
  "orig_nbformat": 4
 },
 "nbformat": 4,
 "nbformat_minor": 2
}
