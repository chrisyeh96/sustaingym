{
 "cells": [
  {
   "attachments": {},
   "cell_type": "markdown",
   "metadata": {},
   "source": [
    "# TODO: update this notebook"
   ]
  },
  {
   "cell_type": "code",
   "execution_count": null,
   "metadata": {},
   "outputs": [],
   "source": [
    "%load_ext autoreload\n",
    "%autoreload 2\n",
    "%matplotlib inline\n",
    "%cd ../.."
   ]
  },
  {
   "cell_type": "code",
   "execution_count": null,
   "metadata": {},
   "outputs": [],
   "source": [
    "import os\n",
    "\n",
    "import numpy as np\n",
    "import seaborn as sns\n",
    "# import stable_baselines3 as sb3\n",
    "from tqdm.auto import tqdm\n",
    "\n",
    "from sustaingym.envs import CongestedElectricityMarketEnv\n",
    "from sustaingym.envs.electricitymarket.plot_utils import *\n",
    "from sustaingym.envs.electricitymarket.wrapped import DiscreteActions, CongestedDiscreteActions\n",
    "from examples.electricitymarket.run_electricitymarket import *\n",
    "\n",
    "\n",
    "sns.set_style(\"darkgrid\", {\"grid.color\": \".6\", \"grid.linestyle\": \":\"})"
   ]
  },
  {
   "cell_type": "code",
   "execution_count": null,
   "metadata": {},
   "outputs": [],
   "source": [
    "env = CongestedElectricityMarketEnv(use_intermediate_rewards=True)\n",
    "discrete_env = CongestedDiscreteActions(env)\n",
    "reset_seed = 15\n",
    "seeds = np.arange(30)"
   ]
  },
  {
   "cell_type": "code",
   "execution_count": null,
   "metadata": {},
   "outputs": [],
   "source": [
    "env = CongestedElectricityMarketEnv(month=\"2020-07\",use_intermediate_rewards=True)\n",
    "\n",
    "seeds = range(30)\n",
    "\n",
    "results = run_random(seeds, env, False)"
   ]
  },
  {
   "cell_type": "code",
   "execution_count": null,
   "metadata": {},
   "outputs": [],
   "source": [
    "from collections import defaultdict\n",
    "\n",
    "ep_rewards = np.sum(results['rewards'], axis=1)\n",
    "\n",
    "lst_ep_rewards = list(ep_rewards)\n",
    "\n",
    "rand_data = defaultdict(list)\n",
    "\n",
    "rand_data['seeds'] = seeds\n",
    "rand_data['ep_rewards'] = lst_ep_rewards\n",
    "\n",
    "rand_df = pd.DataFrame(rand_data)\n",
    "rand_df.to_csv('random_results.csv', index=False)"
   ]
  },
  {
   "cell_type": "code",
   "execution_count": null,
   "metadata": {},
   "outputs": [],
   "source": [
    "env = CongestedElectricityMarketEnv(month=\"2020-07\",use_intermediate_rewards=True)\n",
    "\n",
    "seeds = range(30)\n",
    "\n",
    "results = run_mpc(seeds, env)"
   ]
  },
  {
   "attachments": {},
   "cell_type": "markdown",
   "metadata": {},
   "source": [
    "## Run offline models"
   ]
  },
  {
   "cell_type": "code",
   "execution_count": null,
   "metadata": {},
   "outputs": [],
   "source": [
    "opt_results = run_offline_optimal(seeds, env)\n",
    "save_results(opt_results, seeds=seeds, path='examples/congested_intermreward/offline_results.npz')"
   ]
  },
  {
   "cell_type": "code",
   "execution_count": null,
   "metadata": {},
   "outputs": [],
   "source": [
    "opt_results = np.load('examples/congested_intermreward/offline_results.npz')\n",
    "follow_results = congested_run_follow_offline_optimal(\n",
    "    seeds, env,\n",
    "    opt_dispatches=opt_results['dispatch'],\n",
    "    opt_energies=opt_results['energy'])\n",
    "save_results(follow_results, seeds=seeds, path='examples/congested_intermreward/follow_offline_results.npz')"
   ]
  },
  {
   "cell_type": "code",
   "execution_count": null,
   "metadata": {},
   "outputs": [],
   "source": [
    "results = run_random(seeds, env, discrete=False)\n",
    "save_results(results, seeds=seeds, path='examples/congested_intermreward/random_results.npz')"
   ]
  },
  {
   "cell_type": "code",
   "execution_count": null,
   "metadata": {},
   "outputs": [],
   "source": [
    "results = run_random(seeds, discrete_env, discrete=True)\n",
    "save_results(results, seeds=seeds, path='examples/congested_intermreward/random_discrete_results.npz')"
   ]
  },
  {
   "attachments": {},
   "cell_type": "markdown",
   "metadata": {},
   "source": [
    "## Train RL Models"
   ]
  },
  {
   "attachments": {},
   "cell_type": "markdown",
   "metadata": {},
   "source": [
    "### PPO Models"
   ]
  },
  {
   "cell_type": "code",
   "execution_count": null,
   "metadata": {},
   "outputs": [],
   "source": [
    "\n",
    "%run examples/train_rllib -m 7 -i -a ppo -l 3e-03 -o ppo_summer_interm_lr3e-03"
   ]
  },
  {
   "cell_type": "code",
   "execution_count": null,
   "metadata": {},
   "outputs": [],
   "source": [
    "# Trained on 2020 February data (evaluating on 2020 May data during training phase) with intermediate rewards and learning rate of 0.0003\n",
    "%run examples/train_rllib -m 2 -v 5 -i -a ppo -l 0.0003 -o examples/interm_results"
   ]
  },
  {
   "cell_type": "code",
   "execution_count": null,
   "metadata": {},
   "outputs": [],
   "source": [
    "# Trained on 2020 February data (evaluating on 2020 May data during training phase) with intermediate rewards and learning rate of 3e-05\n",
    "%run examples/train_rllib -m 2 -v 5 -i -a ppo -l 3e-05 -o examples/interm_results"
   ]
  },
  {
   "cell_type": "code",
   "execution_count": null,
   "metadata": {},
   "outputs": [],
   "source": [
    "# Trained on 2020 February data (evaluating on 2020 May data during training phase) with terminal rewards and learning rate of 0.003\n",
    "%run examples/train_rllib -m 2 -v 5 -a ppo -l 0.003 -o examples/interm_results"
   ]
  },
  {
   "cell_type": "code",
   "execution_count": null,
   "metadata": {},
   "outputs": [],
   "source": [
    "# Trained on 2020 February data (evaluating on 2020 May data during training phase) with terminal rewards and learning rate of 0.0003\n",
    "%run examples/train_rllib -m 2 -v 5 -a ppo -l 0.0003 -o examples/interm_results"
   ]
  },
  {
   "cell_type": "code",
   "execution_count": null,
   "metadata": {},
   "outputs": [],
   "source": [
    "# Trained on 2020 February data (evaluating on 2020 May data during training phase) with terminal rewards and learning rate of 3e-05\n",
    "%run examples/train_rllib -m 2 -v 5 -a ppo -l 3e-05 -o examples/interm_results"
   ]
  },
  {
   "attachments": {},
   "cell_type": "markdown",
   "metadata": {},
   "source": [
    "## Read results and make plots"
   ]
  },
  {
   "cell_type": "code",
   "execution_count": null,
   "metadata": {},
   "outputs": [],
   "source": [
    "results_paths = {\n",
    "    'oracle': 'examples/congested_intermreward/offline_results.npz',\n",
    "    'follow oracle': 'examples/congested_intermreward/follow_offline_results.npz',\n",
    "    'rand': 'examples/congested_intermreward/random_results.npz',\n",
    "    'rand discrete': 'examples/congested_intermreward/random_discrete_results.npz',\n",
    "\n",
    "    # 'PPO (2019)': os.path.join(ppo2019_model_dir, 'eval2021/results.npz'),\n",
    "    # 'PPO (2021)': os.path.join(ppo2021_model_dir, 'eval2021/results.npz'),\n",
    "    # 'PPO discrete (2019)': os.path.join(ppodiscrete2019_model_dir, 'eval2021/results.npz'),\n",
    "    # 'PPO discrete (2021)': os.path.join(ppodiscrete2021_model_dir, 'eval2021/results.npz'),\n",
    "    # 'SAC (2019)': os.path.join(sac2019_model_dir, 'eval2021/results.npz'),\n",
    "    # 'SAC (2021)': os.path.join(sac2021_model_dir, 'eval2021/results.npz'),\n",
    "    # 'DQN (2019)': os.path.join(dqn2019_model_dir, 'eval2021/results.npz'),\n",
    "    # 'DQN (2021)': os.path.join(dqn2021_model_dir, 'eval2021/results.npz')\n",
    "}"
   ]
  },
  {
   "cell_type": "code",
   "execution_count": null,
   "metadata": {},
   "outputs": [],
   "source": [
    "results = {label: np.load(path) for label, path in results_paths.items()}"
   ]
  },
  {
   "cell_type": "code",
   "execution_count": null,
   "metadata": {},
   "outputs": [],
   "source": [
    "results['oracle']['rewards']"
   ]
  },
  {
   "cell_type": "code",
   "execution_count": null,
   "metadata": {},
   "outputs": [],
   "source": [
    "fig, ax = plot_returns(results, ylim=(-16000, 3000))\n",
    "fig.savefig('plots/em_returns.png', dpi=300, pad_inches=0, bbox_inches='tight')"
   ]
  },
  {
   "cell_type": "code",
   "execution_count": null,
   "metadata": {},
   "outputs": [],
   "source": [
    "seed = 13\n",
    "ep_data = {}\n",
    "for label, d in results.items():\n",
    "    data = {k: d[k][seed] for k in ['rewards', 'prices', 'energy']}\n",
    "    data['model_name'] = label\n",
    "    if 'SAC (2021)' in label:\n",
    "        data['bids'] = d['actions'][seed]\n",
    "    ep_data[label] = data"
   ]
  },
  {
   "cell_type": "code",
   "execution_count": null,
   "metadata": {},
   "outputs": [],
   "source": [
    "env.reset(seed)\n",
    "fig, axs, times = setup_episode_plot(env, '2020-05', include_returns=True, include_bids=True)\n",
    "for label in ['oracle', 'follow oracle', 'rand', 'rand discrete']:\n",
    "    plot_episode(axs, times[:env.MAX_STEPS_PER_EPISODE], **ep_data[label])\n",
    "\n",
    "for plot in ['prices', 'energy', 'rewards', 'bids']:\n",
    "    axs[plot].legend(bbox_to_anchor=(1,1))\n",
    "\n",
    "fig.savefig('plots/episode_plot.png', dpi=300, pad_inches=0, bbox_inches='tight')"
   ]
  },
  {
   "cell_type": "code",
   "execution_count": null,
   "metadata": {},
   "outputs": [],
   "source": [
    "max_price = env.action_space.high[0][0, 0]\n",
    "\n",
    "env.settlement_interval = 12\n",
    "\n",
    "charge_action = np.zeros((2,1))\n",
    "# charge_action[:, 0] = np.array([max_price*0.95, max_price/0.95])\n",
    "charge_action = np.array([[*charge_action], ] * (env.settlement_interval+1)).transpose().reshape(2,1,(env.settlement_interval+1))\n",
    "charge_action[:, 0, 0] = np.array([max_price*0.95, max_price/0.95])\n",
    "\n",
    "discharge_action = np.zeros((2,1))\n",
    "# discharge_action[:, 0] = np.array([-10000, -100000])\n",
    "discharge_action = np.array([[*discharge_action], ] * (env.settlement_interval+1)).transpose().reshape(2,1,(env.settlement_interval+1))\n",
    "# discharge_action[:, 0, 0] = np.array([-10000, -10000])\n",
    "discharge_action[:, 0, 0] = np.array([0, -max_price/0.95])\n",
    "\n",
    "no_action = np.zeros((2,1))\n",
    "# no_action[:, 0] = np.array([-100, max_price/0.95])\n",
    "no_action = np.array([[*no_action], ] * (env.settlement_interval+1)).transpose().reshape(2,1,(env.settlement_interval+1))\n",
    "no_action[:, 0, 0] = np.array([-max_price*0.95, max_price/0.95])\n",
    "\n",
    "# env.reset(seed = 67)\n",
    "\n",
    "# obs, reward, _, _ = env.step(charge_action)\n",
    "\n",
    "# print(\"charge dispatch: \", env.dispatch)\n",
    "\n",
    "env.reset()\n",
    "\n",
    "obs, reward, _, _ = env.step(no_action)\n",
    "obs, reward, _, _ = env.step(no_action)\n",
    "obs, reward, _, _ = env.step(no_action)\n",
    "\n",
    "# env.reset(seed = 67)\n",
    "\n",
    "# obs, reward, _, _ = env.step(no_action)\n",
    "\n",
    "# print(\"no action dispatch: \", env.dispatch)\n",
    "\n",
    "# env.reset()\n",
    "\n",
    "# while True:\n",
    "#     action = env.action_space.sample()\n",
    "#     obs, reward, done, _ = env.step(action)\n",
    "\n",
    "#     if env.dispatch >= 0 or done:\n",
    "#         print(\"dispatch: \", env.dispatch)\n",
    "#         print(\"action: \", action[:, 0, 0])\n",
    "#         break"
   ]
  },
  {
   "cell_type": "code",
   "execution_count": null,
   "metadata": {},
   "outputs": [],
   "source": [
    "env.reset()\n",
    "\n",
    "print(\"opportunity cost for returning to init charge: \", env._calculate_terminal_cost(40.))\n",
    "print(\"opportunity cost for returning to below init charge: \", env._calculate_terminal_cost(20.))\n",
    "print(\"opportunity cost for returning to above init charge: \", env._calculate_terminal_cost(60.))\n"
   ]
  },
  {
   "cell_type": "code",
   "execution_count": null,
   "metadata": {},
   "outputs": [],
   "source": [
    "import pandas as pd\n",
    "\n",
    "df = pd.read_csv('../sustaingym/data/demand_data/DAY_AHEAD_regional_Load.csv')\n",
    "\n",
    "days = set(df['Day'])\n",
    "months = set(df['Month'])\n",
    "\n",
    "for month in months:\n",
    "    for day in days:\n",
    "        hrs = df.loc[df['Month'] == month].loc[df['Day'] == day]['Period']\n",
    "\n",
    "        if set(hrs) != {1, 2, 3, 4, 5, 6, 7, 8, 9, 10, 11, 12, 13, 14, 15, 16, 17, 18, 19, 20, 21, 22, 23, 24}:\n",
    "            print(\"Month: \", month)\n",
    "            print(\"Day: \", day)"
   ]
  },
  {
   "cell_type": "code",
   "execution_count": null,
   "metadata": {},
   "outputs": [],
   "source": []
  }
 ],
 "metadata": {
  "kernelspec": {
   "display_name": "sustaingym",
   "language": "python",
   "name": "python3"
  },
  "language_info": {
   "codemirror_mode": {
    "name": "ipython",
    "version": 3
   },
   "file_extension": ".py",
   "mimetype": "text/x-python",
   "name": "python",
   "nbconvert_exporter": "python",
   "pygments_lexer": "ipython3",
   "version": "3.9.13"
  },
  "orig_nbformat": 4,
  "vscode": {
   "interpreter": {
    "hash": "c910351b0c3a4aade2cf03b555240fe9951314ae7b50b4f56bc279231ceafe8d"
   }
  }
 },
 "nbformat": 4,
 "nbformat_minor": 2
}
