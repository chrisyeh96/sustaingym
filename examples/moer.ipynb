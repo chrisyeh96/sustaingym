{
 "cells": [
  {
   "attachments": {},
   "cell_type": "markdown",
   "metadata": {},
   "source": [
    "## Marginal Operating Emissions Rate (MOER) data\n",
    "\n",
    "This notebook gives some examples of using the `MOERLoader` included in SustainGym, which loads marginal operating emissions rate (MOER) data from [SGIPSIGNAL](https://sgipsignal.com/). SGIPSIGNAL provides real-time and forecasted MOER data for California.\n",
    "\n",
    "This notebook also shows how to use the raw SGIPSIGNAL API."
   ]
  },
  {
   "cell_type": "code",
   "execution_count": null,
   "metadata": {},
   "outputs": [],
   "source": [
    "%load_ext autoreload\n",
    "%autoreload 2\n",
    "%matplotlib inline\n",
    "%cd .."
   ]
  },
  {
   "attachments": {},
   "cell_type": "markdown",
   "metadata": {},
   "source": [
    "## Load MOER data\n",
    "\n",
    "And plot correlation between actual values vs. forecasted values"
   ]
  },
  {
   "cell_type": "code",
   "execution_count": null,
   "metadata": {},
   "outputs": [],
   "source": [
    "from datetime import datetime, timedelta\n",
    "\n",
    "import matplotlib.pyplot as plt\n",
    "import numpy as np\n",
    "import pandas as pd\n",
    "import pytz\n",
    "from scipy.stats import pearsonr\n",
    "import seaborn as sns\n",
    "\n",
    "from sustaingym.data.load_moer import load_monthly_moer, MOERLoader\n",
    "\n",
    "sns.set_style('darkgrid')\n",
    "FIVEMINS = timedelta(minutes=5)"
   ]
  },
  {
   "cell_type": "code",
   "execution_count": null,
   "metadata": {},
   "outputs": [],
   "source": [
    "starttime = datetime(2019, 5, 1, tzinfo=pytz.timezone('US/Pacific'))\n",
    "endtime = datetime(2019, 12, 1, tzinfo=pytz.timezone('US/Pacific'))\n",
    "ml = MOERLoader(\n",
    "    starttime=starttime, endtime=endtime, ba='SGIP_CAISO_PGE')"
   ]
  },
  {
   "cell_type": "code",
   "execution_count": null,
   "metadata": {},
   "outputs": [],
   "source": [
    "moer_array = ml.retrieve(starttime)\n",
    "print(moer_array.shape)"
   ]
  },
  {
   "cell_type": "code",
   "execution_count": null,
   "metadata": {},
   "outputs": [],
   "source": [
    "df = ml.df\n",
    "print(len(df))\n",
    "display(df.head())\n",
    "display(df.tail())"
   ]
  },
  {
   "attachments": {},
   "cell_type": "markdown",
   "metadata": {},
   "source": [
    "### Analyze the quality of the forecasts"
   ]
  },
  {
   "cell_type": "code",
   "execution_count": null,
   "metadata": {},
   "outputs": [],
   "source": [
    "def check_forecast_quality(df: pd.DataFrame, ax: plt.Axes) -> None:\n",
    "    rs, rmses = [], []\n",
    "    for i in range(1, 36+1):\n",
    "        true = df['moer'].iloc[i:]\n",
    "        pred = df[f'f{i}'].iloc[:-i]\n",
    "        r = pearsonr(true, pred)[0]\n",
    "        rmse = np.sqrt(np.mean((true - pred)**2))\n",
    "        rs.append(r)\n",
    "        rmses.append(rmse)\n",
    "\n",
    "    ax.plot(range(1, 36+1), rs, color='tab:blue', label='r')\n",
    "    ax.set(xlabel='timesteps ahead', ylabel='correlation $r$') # , ylim=(0.6, 1))\n",
    "    ax2 = ax.twinx()\n",
    "    ax2.plot(range(1, 36+1), rmses, color='tab:orange', label='rmse')\n",
    "    ax2.set(ylabel='RMSE')  # , ylim=(0, 0.016))"
   ]
  },
  {
   "cell_type": "code",
   "execution_count": null,
   "metadata": {},
   "outputs": [],
   "source": [
    "starttime = datetime(2019, 5, 1, tzinfo=pytz.timezone('US/Pacific'))\n",
    "endtime = datetime(2019, 5, 1, tzinfo=pytz.timezone('US/Pacific'))\n",
    "ml_pge = MOERLoader(\n",
    "    starttime=starttime, endtime=endtime, ba='SGIP_CAISO_PGE')\n",
    "df_pge = ml_pge.df\n",
    "\n",
    "ml_sce = MOERLoader(\n",
    "    starttime=starttime, endtime=endtime, ba='SGIP_CAISO_SCE')\n",
    "df_sce = ml_sce.df"
   ]
  },
  {
   "cell_type": "code",
   "execution_count": null,
   "metadata": {},
   "outputs": [],
   "source": [
    "fig, axs = plt.subplots(1, 2, figsize=(9,4), tight_layout=True)\n",
    "\n",
    "axs[0].set_title('PGE')\n",
    "check_forecast_quality(df_pge, axs[0])\n",
    "fig.legend(bbox_to_anchor=(0.9, 0.7))\n",
    "\n",
    "axs[1].set_title('SCE')\n",
    "check_forecast_quality(df_sce, axs[1])\n",
    "\n",
    "plt.show()"
   ]
  },
  {
   "cell_type": "code",
   "execution_count": null,
   "metadata": {},
   "outputs": [],
   "source": [
    "def get_forecast_quality(year: int, month: int, ba: str) -> tuple[list[float], list[float]]:\n",
    "    df = load_monthly_moer(year, month, ba)\n",
    "\n",
    "    rs, rmses = [], []\n",
    "    for i in range(1, 36+1):\n",
    "        true = df['moer'].iloc[i:]\n",
    "        pred = df[f'f{i}'].iloc[:-i]\n",
    "        r = pearsonr(true, pred)[0]\n",
    "        rmse = np.sqrt(np.mean((true - pred)**2))\n",
    "        rs.append(r)\n",
    "        rmses.append(rmse)\n",
    "    return rs, rmses\n",
    "\n",
    "fig, ax = plt.subplots(1, 1, figsize=(4, 4), tight_layout=True)\n",
    "\n",
    "_, rmses = get_forecast_quality(year=2019, month=5, ba='SGIP_CAISO_PGE')\n",
    "ax.plot(range(1, 36+1), rmses, color='tab:blue', label='PGE, May 2019')\n",
    "_, rmses = get_forecast_quality(year=2021, month=5, ba='SGIP_CAISO_PGE')\n",
    "ax.plot(range(1, 36+1), rmses, color='tab:blue', linestyle=':', label='PGE, May 2021')\n",
    "\n",
    "_, rmses = get_forecast_quality(year=2019, month=5, ba='SGIP_CAISO_SCE')\n",
    "ax.plot(range(1, 36+1), rmses, color='tab:orange', label='SCE, May 2019')\n",
    "_, rmses = get_forecast_quality(year=2021, month=5, ba='SGIP_CAISO_SCE')\n",
    "ax.plot(range(1, 36+1), rmses, linestyle=':', color='tab:orange', label='SCE, May 2021')\n",
    "ax.legend()\n",
    "ax.set(xlabel='timesteps ahead', ylabel='MOER forecast RMSE')\n",
    "\n",
    "fig.savefig('plots/moer_forecast_rmse.png', dpi=300, bbox_inches='tight')\n",
    "fig.savefig('plots/moer_forecast_rmse.pdf', dpi=300, bbox_inches='tight')"
   ]
  },
  {
   "cell_type": "code",
   "execution_count": null,
   "metadata": {},
   "outputs": [],
   "source": [
    "AM_LA = pytz.timezone('America/Los_Angeles')\n",
    "\n",
    "def plot_moer(day: datetime, ba: str, forecast_freq=36):\n",
    "    df = load_monthly_moer(day.year, day.month, ba)\n",
    "    df = df[(day <= df.index) & (df.index <= day + timedelta(days=1, seconds=600))]\n",
    "    df.sort_index(inplace=True)\n",
    "\n",
    "    fig, ax = plt.subplots(figsize=(5, 4), tight_layout=True)\n",
    "\n",
    "    # every so often, plot emissions forecast\n",
    "    for i in range(0, len(df['moer']), forecast_freq):\n",
    "        forecasts = df.iloc[i].drop('moer').values  # shape [36], contains [f1, f2, ..., f36]\n",
    "        indices = df.iloc[i+1:i+1+len(forecasts)].index\n",
    "        if i + len(forecasts) + 1> len(df['moer']):\n",
    "            continue\n",
    "        \n",
    "        if i == 0:\n",
    "            ax.plot(indices, forecasts, color='red', alpha=0.3, label='forecasts')\n",
    "        else:\n",
    "            ax.plot(indices, forecasts, color='red', alpha=0.3)\n",
    "\n",
    "    dt_str = day.strftime('%Y-%m-%d')\n",
    "    ax.plot(df['moer'], linewidth=2, label='actual')\n",
    "    ax.set(xlabel='time (UTC)', ylabel='MOER (kg CO2 / kWh)',\n",
    "           title=f'MOER vs. Forecasted MOER: {dt_str}')\n",
    "    ax.tick_params(axis='x', rotation=30)\n",
    "    ax.legend()\n",
    "\n",
    "plot_moer(datetime(2021, 6, 3, tzinfo=AM_LA), 'SGIP_CAISO_SCE')"
   ]
  },
  {
   "attachments": {},
   "cell_type": "markdown",
   "metadata": {},
   "source": [
    "## Plot typical monthly MOER values"
   ]
  },
  {
   "cell_type": "code",
   "execution_count": null,
   "metadata": {},
   "outputs": [],
   "source": [
    "def plot_avg_moer(starttime, ba, ax, color, label):\n",
    "    df = load_monthly_moer(starttime.year, starttime.month, ba)\n",
    "    if starttime.month == 12:\n",
    "        endtime = datetime(starttime.year + 1, 1, 1, tzinfo=pytz.timezone('US/Pacific'))\n",
    "    else:\n",
    "        endtime = datetime(starttime.year, starttime.month + 1, 1, tzinfo=pytz.timezone('US/Pacific'))\n",
    "\n",
    "    df_month = df.loc[starttime:endtime - FIVEMINS, ['moer']]\n",
    "    df_month['time_of_day'] = df_month.index.map(lambda x: x.strftime('%H:%M'))\n",
    "    moer_by_tod = df_month.groupby('time_of_day').agg(['mean', 'std'])\n",
    "    mean = moer_by_tod[('moer', 'mean')]\n",
    "    std = moer_by_tod[('moer', 'std')]\n",
    "\n",
    "    ax.plot(moer_by_tod.index, mean, label=label, color=color)\n",
    "    ax.fill_between(moer_by_tod.index, mean - std, mean + std, color=color, alpha=0.5)\n",
    "    ax.set(xticks=moer_by_tod.index[::36])\n",
    "    ax.tick_params(axis='x', rotation=30)"
   ]
  },
  {
   "cell_type": "code",
   "execution_count": null,
   "metadata": {},
   "outputs": [],
   "source": [
    "fig, axs = plt.subplots(1, 2, figsize=(9, 4), tight_layout=True, sharey=True)\n",
    "\n",
    "may2019 = datetime(2019, 5, 1, tzinfo=pytz.timezone('US/Pacific'))\n",
    "may2021 = datetime(2021, 5, 1, tzinfo=pytz.timezone('US/Pacific'))\n",
    "\n",
    "ax = axs[0]\n",
    "plot_avg_moer(may2019, 'SGIP_CAISO_PGE', ax, color='tab:blue', label='May 2019')\n",
    "plot_avg_moer(may2021, 'SGIP_CAISO_PGE', ax, color='tab:orange', label='May 2021')\n",
    "ax.set(xlabel='time of day', ylabel='MOER', title='PGE')\n",
    "ax.legend()\n",
    "\n",
    "ax = axs[1]\n",
    "plot_avg_moer(may2019, 'SGIP_CAISO_SCE', ax, color='tab:blue', label='May 2019')\n",
    "plot_avg_moer(may2021, 'SGIP_CAISO_SCE', ax, color='tab:orange', label='May 2021')\n",
    "ax.set(xlabel='time of day', title='SCE')\n",
    "ax.legend()\n",
    "\n",
    "fig.savefig('plots/moer.png', dpi=300, bbox_inches='tight')\n",
    "fig.savefig('plots/moer.pdf', dpi=300, bbox_inches='tight')"
   ]
  },
  {
   "attachments": {},
   "cell_type": "markdown",
   "metadata": {},
   "source": [
    "## Using the SGIPSIGNAL API"
   ]
  },
  {
   "cell_type": "code",
   "execution_count": null,
   "metadata": {},
   "outputs": [],
   "source": [
    "import pandas as pd\n",
    "\n",
    "import requests"
   ]
  },
  {
   "attachments": {},
   "cell_type": "markdown",
   "metadata": {},
   "source": [
    "### Create an Account and Authenticate\n",
    "\n",
    "From the [SGIPSIGNAL documentation](https://sgipsignal.com/api-documentation):\n",
    "> Your access token will expire after 30 minutes and you'll need to sign in again to obtain a fresh access token."
   ]
  },
  {
   "cell_type": "code",
   "execution_count": null,
   "metadata": {},
   "outputs": [],
   "source": [
    "username = 'caltech'\n",
    "password = 'caltechsgip.2022'\n",
    "email = 'cyeh@caltech.edu'\n",
    "\n",
    "# Create an account (only do this once)\n",
    "# register_data = dict(username=username, password=password, email=email)\n",
    "# r = requests.post('https://sgipsignal.com/register', data=register_data)\n",
    "# print(r.content)"
   ]
  },
  {
   "cell_type": "code",
   "execution_count": null,
   "metadata": {},
   "outputs": [],
   "source": [
    "r = requests.get('https://sgipsignal.com/login/', auth=(username, password))\n",
    "token = r.json()['token']"
   ]
  },
  {
   "attachments": {},
   "cell_type": "markdown",
   "metadata": {},
   "source": [
    "### Download historical MOER values and historical forecasts"
   ]
  },
  {
   "cell_type": "code",
   "execution_count": null,
   "metadata": {},
   "outputs": [],
   "source": [
    "headers = {\n",
    "  'Authorization': f'Bearer {token}'\n",
    "}\n",
    "params = dict(\n",
    "    ba='SGIP_CAISO_PGE',\n",
    "    starttime='2020-02-20T00:00:00-0000',\n",
    "    endtime='2020-02-21T00:00:00-0000',\n",
    "    version='2.0'\n",
    ")\n",
    "r = requests.get('https://sgipsignal.com/sgipmoer/', params=params, headers=headers)"
   ]
  },
  {
   "cell_type": "code",
   "execution_count": null,
   "metadata": {},
   "outputs": [],
   "source": [
    "hist = pd.DataFrame(r.json())\n",
    "hist.set_index('point_time', inplace=True)\n",
    "hist.sort_index(inplace=True)\n",
    "hist.head()"
   ]
  },
  {
   "cell_type": "code",
   "execution_count": null,
   "metadata": {},
   "outputs": [],
   "source": [
    "headers = {\n",
    "  'Authorization': f'Bearer {token}'\n",
    "}\n",
    "params = dict(\n",
    "    ba='SGIP_CAISO_PGE',\n",
    "    starttime='2019-05-20T00:00:00-0000',\n",
    "    endtime='2019-05-21T00:00:00-0000',\n",
    "    version='1.0-1.0.0'\n",
    ")\n",
    "r = requests.get('https://sgipsignal.com/sgipforecast/', params=params, headers=headers)"
   ]
  },
  {
   "cell_type": "code",
   "execution_count": null,
   "metadata": {},
   "outputs": [],
   "source": [
    "forc_raw = pd.DataFrame(r.json())\n",
    "forc_raw.head()"
   ]
  },
  {
   "cell_type": "code",
   "execution_count": null,
   "metadata": {},
   "outputs": [],
   "source": [
    "forc = forc_raw.copy()\n",
    "forc.set_index('generated_at', inplace=True)\n",
    "forc['forecast'] = forc['forecast'].map(lambda li: [d['value'] for d in li])\n",
    "forc.head()"
   ]
  }
 ],
 "metadata": {
  "kernelspec": {
   "display_name": "Python 3.9.12 ('sustaingym')",
   "language": "python",
   "name": "python3"
  },
  "language_info": {
   "codemirror_mode": {
    "name": "ipython",
    "version": 3
   },
   "file_extension": ".py",
   "mimetype": "text/x-python",
   "name": "python",
   "nbconvert_exporter": "python",
   "pygments_lexer": "ipython3",
   "version": "3.9.16"
  },
  "orig_nbformat": 4,
  "vscode": {
   "interpreter": {
    "hash": "939f2a126452e5921ab7e8743171d0e6ab0f8a560b2cf43fc29a831fad861cf8"
   }
  }
 },
 "nbformat": 4,
 "nbformat_minor": 2
}
