{
 "cells": [
  {
   "attachments": {},
   "cell_type": "markdown",
   "metadata": {},
   "source": [
    "## EVCharging Data Analysis\n",
    "\n",
    "This notebook plots the EVCharging session data used in the `EVChargingGym`, including both real historical data as well as synthetic data generated from Gaussian Mixture Models (GMMs) fitted to the real historical data.\n",
    "\n",
    "As detailed in train_gmm_model.py, the GMMs are fitted to 4 feature dimensions. The 4 features are, in order,\n",
    "- `'arrival_time'`: minute of day, normalized to [0, 1)\n",
    "- `'departure_time'`: minute of day, normalized to [0, 1)\n",
    "- `'estimated_departure_time'`: minute of day, normalized to [0, 1)\n",
    "- `'requested_energy'`: energy requested; multiply by 100 to get kWh "
   ]
  },
  {
   "cell_type": "code",
   "execution_count": null,
   "metadata": {},
   "outputs": [],
   "source": [
    "%load_ext autoreload\n",
    "%autoreload 2\n",
    "%matplotlib inline\n",
    "%cd ../.."
   ]
  },
  {
   "cell_type": "code",
   "execution_count": null,
   "metadata": {},
   "outputs": [],
   "source": [
    "from __future__ import annotations\n",
    "\n",
    "import os\n",
    "\n",
    "import matplotlib.pyplot as plt\n",
    "import numpy as np\n",
    "import pandas as pd\n",
    "import seaborn as sns\n",
    "from sklearn.mixture import GaussianMixture\n",
    "\n",
    "from sustaingym.envs.evcharging import (\n",
    "    GMMsTraceGenerator, RealTraceGenerator, utils)\n",
    "from sustaingym.envs.evcharging.train_gmm_model import preprocess\n",
    "\n",
    "\n",
    "sns.set_style('darkgrid')\n",
    "SEASONS = ['Summer 2019', 'Fall 2019', 'Spring 2020', 'Summer 2021']"
   ]
  },
  {
   "attachments": {},
   "cell_type": "markdown",
   "metadata": {},
   "source": [
    "### Plot GMM contours\n",
    "\n",
    "Creates plots of GMM log-likelihood contours, over-laid on real data scatterplot."
   ]
  },
  {
   "cell_type": "code",
   "execution_count": null,
   "metadata": {},
   "outputs": [],
   "source": [
    "def plot_gmm_fit(site: utils.SiteStr, n_components: int = 30) -> None:\n",
    "    \"\"\"Plot actual arrival/departures against GMM PDF contours.\n",
    "\n",
    "    We plot the log-likelihood of conditional means of the GMM on a mesh to\n",
    "    generate contour lines.\n",
    "\n",
    "    Args:\n",
    "        site: either 'caltech' or 'jpl'\n",
    "        n_components: number of components of GMM model,\n",
    "            default trained GMMs provided with SustainGym have 30 components\n",
    "    \"\"\"\n",
    "    fig, axs = plt.subplots(1, 4, sharey=True, figsize=(12, 3.5), tight_layout=True)\n",
    "\n",
    "    # Display predicted scores by the model as a contour plot\n",
    "    arr, dep = np.linspace(0, 1, num=50), np.linspace(0, 1, num=50)\n",
    "    X, Y = np.meshgrid(arr, dep)  # each shape [50, 50]\n",
    "    Xr, Yr = X.ravel(), Y.ravel()  # each shape [N], N = 2500\n",
    "    x_b = np.vstack([Xr, Yr])  # shape [2, N]\n",
    "\n",
    "    for c, season in enumerate(SEASONS):\n",
    "        start_date = utils.to_la_dt(utils.DEFAULT_PERIOD_TO_RANGE[season][0])\n",
    "        end_date = utils.to_la_dt(utils.DEFAULT_PERIOD_TO_RANGE[season][1])\n",
    "\n",
    "        gmm: GaussianMixture = utils.load_gmm_model(\n",
    "            site, start_date, end_date, n_components)['gmm']\n",
    "        assert len(gmm.weights_) == n_components\n",
    "\n",
    "        # Calculate conditional mean for a=(estimated departure, requested energy)\n",
    "        # given b=(arrival time, departure time).\n",
    "        # See equation 2.75 in PRML (Bishop, 2006)\n",
    "        conditional_means = np.zeros([n_components, 2500, 2])\n",
    "        for i in range(n_components):\n",
    "            mu_a = gmm.means_[i, 2:][:, np.newaxis]  # shape [2, 1]\n",
    "            mu_b = gmm.means_[i, :2][:, np.newaxis]  # shape [2, 1]\n",
    "            precision_aa = gmm.precisions_[i, 2:, 2:]\n",
    "            precision_ab = gmm.precisions_[i, 2:, :2]\n",
    "            cond_a_b = mu_a - np.linalg.pinv(precision_aa) @ precision_ab @ (x_b - mu_b)\n",
    "            conditional_means[i] = cond_a_b.T\n",
    "\n",
    "        weights = gmm.weights_[:, np.newaxis, np.newaxis]  # shape [n_components, 1, 1]\n",
    "        conditional_mean = np.sum(weights * conditional_means, axis=0)  # shape [N, 2]\n",
    "\n",
    "        gmm_input = pd.DataFrame({\n",
    "            'arrival_time': Xr,\n",
    "            'departure_time': Yr,\n",
    "            'estimated_departure_time': conditional_mean[:, 0],\n",
    "            'requested_energy (kWh)': conditional_mean[:, 1]\n",
    "        })\n",
    "        Z = gmm.score_samples(gmm_input).reshape(X.shape)\n",
    "        Z[X > Y] = np.nan\n",
    "\n",
    "        x = X * 288 # rescale to 5-min periods\n",
    "        y = Y * 288\n",
    "\n",
    "        # same with arrivals and departures\n",
    "        df = preprocess(utils.get_real_events(start_date, end_date, site))\n",
    "        arr_time = df.arrival_time * 288\n",
    "        dep_time = df.departure_time * 288\n",
    "\n",
    "        ax = axs[c]\n",
    "        cp = ax.contourf(x, y, Z, cmap='Oranges', alpha=0.5)\n",
    "        ax.scatter(arr_time, dep_time, marker='+', alpha=0.2, color='tab:blue')\n",
    "        ax.set(xlabel='arrival time', title=f'{SEASONS[c]}')\n",
    "        ax.set_aspect('equal', 'box')\n",
    "        ax.set_xticks([0, 96, 192, 288], labels=['0:00', '8:00', '16:00', '24:00'])\n",
    "\n",
    "    axs[0].set_ylabel('departure time')\n",
    "    axs[0].set_yticks([0, 96, 192, 288], labels=['0:00', '8:00', '16:00', '24:00'])\n",
    "\n",
    "    cbar_ax = fig.add_axes([1, 0.18, 0.02, 0.66])\n",
    "    fig.colorbar(cp, cax=cbar_ax)\n",
    "    cbar_ax.set_ylabel('log-likelihood', rotation=270, labelpad=15)\n",
    "\n",
    "    os.makedirs('plots/evcharging', exist_ok=True)\n",
    "    fig.savefig(f'plots/evcharging/gmms_fit_{site}.png', dpi=300, pad_inches=0, bbox_inches='tight')"
   ]
  },
  {
   "cell_type": "code",
   "execution_count": null,
   "metadata": {},
   "outputs": [],
   "source": [
    "plot_gmm_fit('caltech')\n",
    "plot_gmm_fit('jpl')"
   ]
  },
  {
   "attachments": {},
   "cell_type": "markdown",
   "metadata": {},
   "source": [
    "### Plot GMM cross log-likelihoods\n",
    "\n",
    "Calculate the log-likelihoods of the real data under the various GMM models. The significantly lower log-likelihoods on the off-diagonal entries is an indicator of distribution shift."
   ]
  },
  {
   "cell_type": "code",
   "execution_count": null,
   "metadata": {},
   "outputs": [],
   "source": [
    "def plot_cross_scores() -> None:\n",
    "    fig, axs = plt.subplots(1, 2, figsize=(10, 5), tight_layout=True)\n",
    "    cbar_ax = fig.add_axes([1, 0.18, 0.02, 0.66])\n",
    "\n",
    "    fig.suptitle('30-component GMM Average Log-Likelihood Scores')\n",
    "\n",
    "    two_word_seasons = [s.replace(' ', '\\n') for s in SEASONS]\n",
    "\n",
    "    for site_idx, site in enumerate(['caltech', 'jpl']):\n",
    "        dfs, gmms = [], []\n",
    "        for season in SEASONS:\n",
    "            start_date = utils.to_la_dt(utils.DEFAULT_PERIOD_TO_RANGE[season][0])\n",
    "            end_date = utils.to_la_dt(utils.DEFAULT_PERIOD_TO_RANGE[season][1])\n",
    "\n",
    "            df = preprocess(utils.get_real_events(start_date, end_date, site))\n",
    "            dfs.append(df)\n",
    "\n",
    "            gmm = utils.load_gmm_model(site, start_date, end_date, 30)['gmm']\n",
    "            gmms.append(gmm)\n",
    "\n",
    "        train_cols = {season: [] for season in two_word_seasons}\n",
    "        for i, train_season in enumerate(two_word_seasons):\n",
    "            for j, _ in enumerate(two_word_seasons):\n",
    "                train_cols[train_season].append(gmms[i].score(dfs[j]))\n",
    "        cross_scores = pd.DataFrame(train_cols, index=two_word_seasons)\n",
    "\n",
    "        ax = axs[site_idx]\n",
    "        sns.heatmap(cross_scores, cmap='Blues', annot=True, fmt='.3g', ax=ax,\n",
    "                    cbar=(site=='jpl'), vmin=-5, vmax=6,\n",
    "                    cbar_ax=None if site=='caltech' else cbar_ax)\n",
    "        ax.set(title=site, xlabel='Training period', ylabel='Testing period')\n",
    "        ax.tick_params(axis='x', labelrotation=0)\n",
    "        ax.tick_params(axis='y', labelrotation=0)\n",
    "\n",
    "    cbar_ax.set_ylabel('log-likelihood', rotation=270, labelpad=15)\n",
    "    os.makedirs('plots/evcharging', exist_ok=True)\n",
    "    fig.savefig('plots/evcharging/gmm_log_likelihoods.png', dpi=300, bbox_inches='tight')"
   ]
  },
  {
   "cell_type": "code",
   "execution_count": null,
   "metadata": {},
   "outputs": [],
   "source": [
    "plot_cross_scores()"
   ]
  },
  {
   "attachments": {},
   "cell_type": "markdown",
   "metadata": {},
   "source": [
    "### Test trace generators\n",
    "\n",
    "Plot 1 day of events using both the `RealTraceGenerator` and the `GMMsTraceGenerator`."
   ]
  },
  {
   "cell_type": "code",
   "execution_count": null,
   "metadata": {},
   "outputs": [],
   "source": [
    "def plot_oneday_trace(gen: RealTraceGenerator | GMMsTraceGenerator,\n",
    "                      filename: str, include_moer: bool = True,\n",
    "                      seed: int = 123) -> None:\n",
    "    gen.set_seed(seed)\n",
    "\n",
    "    df = gen._create_events()\n",
    "    df['duration'] = df['departure'] - df['arrival']\n",
    "    df['estimated_duration'] = df['estimated_departure'] - df['arrival']\n",
    "    df.sort_values(by='station_id', inplace=True)\n",
    "\n",
    "    print('number of plug-in events:', len(df))\n",
    "    print('total requested energy (kWh):', df['requested_energy (kWh)'].sum())\n",
    "\n",
    "    if include_moer:\n",
    "        fig, axs = plt.subplots(2, 1, sharex=True, figsize=(8, 6), tight_layout=True,\n",
    "                                gridspec_kw={'height_ratios': [4, 1]})\n",
    "        ax = axs[0]\n",
    "    else:\n",
    "        fig, ax = plt.subplots(1, 1, sharex=True, figsize=(8, 6), tight_layout=True)\n",
    "\n",
    "    bars = ax.barh(y=df['station_id'], width=df['duration'], left=df['arrival'], alpha=0.7, label='actual')\n",
    "    ax.barh(y=df['station_id'], width=df['estimated_duration'], left=df['arrival'], alpha=0.4, label='estimated')\n",
    "    ax.bar_label(bars, label_type='center',\n",
    "                 labels=df['requested_energy (kWh)'].map(lambda x: f'{x:.2f} kWh'))\n",
    "    ax.legend()\n",
    "    ax.set(ylabel='charging station', title='Events')\n",
    "\n",
    "    if include_moer:\n",
    "        moer = gen.get_moer()\n",
    "        moer_actual = moer[:, 0]\n",
    "        ax = axs[1]\n",
    "        ax.plot(moer_actual)\n",
    "        ax.set(ylabel='kg CO$_2$ / kWh', title='MOER')\n",
    "\n",
    "    ax.set_xticks(ticks=range(48, 288, 48), labels=['4am', '8am', '12pm', '4pm', '8pm'])\n",
    "    ax.set(xlabel='time')\n",
    "\n",
    "    os.makedirs('examples/plots/evcharging', exist_ok=True)\n",
    "    fig.savefig(f'examples/plots/evcharging/{filename}.png', dpi=300, bbox_inches='tight')"
   ]
  },
  {
   "cell_type": "code",
   "execution_count": null,
   "metadata": {},
   "outputs": [],
   "source": [
    "rtg = RealTraceGenerator('caltech', date_period='Summer 2019')\n",
    "plot_oneday_trace(rtg, 'traces_real_seed124', include_moer=True, seed=124)"
   ]
  },
  {
   "cell_type": "code",
   "execution_count": null,
   "metadata": {},
   "outputs": [],
   "source": [
    "atg = GMMsTraceGenerator('caltech', date_period='Summer 2019', n_components=30)\n",
    "plot_oneday_trace(atg, 'traces_gmm_seed101', include_moer=False, seed=101)"
   ]
  }
 ],
 "metadata": {
  "kernelspec": {
   "display_name": "sustaingym",
   "language": "python",
   "name": "python3"
  },
  "language_info": {
   "codemirror_mode": {
    "name": "ipython",
    "version": 3
   },
   "file_extension": ".py",
   "mimetype": "text/x-python",
   "name": "python",
   "nbconvert_exporter": "python",
   "pygments_lexer": "ipython3",
   "version": "3.9.16"
  },
  "orig_nbformat": 4
 },
 "nbformat": 4,
 "nbformat_minor": 2
}
