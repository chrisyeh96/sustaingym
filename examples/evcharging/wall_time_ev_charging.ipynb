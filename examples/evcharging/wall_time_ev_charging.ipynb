{
 "cells": [
  {
   "cell_type": "code",
   "execution_count": null,
   "metadata": {},
   "outputs": [],
   "source": [
    "# 0 -> 36 \n",
    "%cd ..\n",
    "%load_ext autoreload\n",
    "%autoreload 2\n",
    "%matplotlib inline"
   ]
  },
  {
   "cell_type": "markdown",
   "metadata": {},
   "source": [
    "# Wall Time per Timestep and Episode"
   ]
  },
  {
   "cell_type": "code",
   "execution_count": null,
   "metadata": {},
   "outputs": [],
   "source": [
    "import time\n",
    "import numpy as np\n",
    "np.random.seed(42)\n",
    "\n",
    "from sustaingym.envs.evcharging import GMMsTraceGenerator, EVChargingEnv, RealTraceGenerator\n",
    "NUM_RUNS = 100\n",
    "\n",
    "run_time_per_1000 = {}\n",
    "avg_eps_length = {}\n",
    "\n",
    "for site in ['caltech']: #, 'jpl']:\n",
    "    for action_type in ['discrete', 'continuous']:\n",
    "        for project_action in [False, True]:\n",
    "            for real in [True, False]:\n",
    "                start = time.time()\n",
    "\n",
    "                if real:\n",
    "                    gen = RealTraceGenerator(site=site, date_period=('2019-05-01', '2019-08-31'))\n",
    "                else:\n",
    "                    gen = GMMsTraceGenerator(site=site, date_period=('2019-05-01', '2019-08-31'), n_components=50)\n",
    "\n",
    "                env = EVChargingEnv(gen, action_type=action_type, project_action=project_action)\n",
    "\n",
    "                setup_time = time.time() - start\n",
    "                print(f\"EVChargingEnv: site == {site}, action_type == {action_type}, project_action == {project_action}, using real traces == {real}\")\n",
    "                print(f\"Time for imports and initializing gyms: {setup_time:.2f} s\")\n",
    "\n",
    "                all_rewards = []\n",
    "                episode_length = []\n",
    "\n",
    "                run_time_start = time.time()\n",
    "                for _ in range(NUM_RUNS):\n",
    "                    observation = env.reset()\n",
    "                    done, rewards, episode_timesteps = False, 0., 0.\n",
    "\n",
    "                    while not done:\n",
    "                        action = env.action_space.sample()  # random action\n",
    "                        observation, reward, done, info = env.step(action)\n",
    "\n",
    "                        rewards += reward\n",
    "                        episode_timesteps += 1\n",
    "\n",
    "                    all_rewards.append(rewards)\n",
    "                    episode_length.append(episode_timesteps)\n",
    "                run_time = time.time() - run_time_start\n",
    "\n",
    "                all_rewards = np.array(all_rewards)\n",
    "                episode_length = np.array(episode_length)\n",
    "\n",
    "                run_time_per_1000[(site, action_type, project_action, real)] = run_time * 1000 / np.sum(episode_length)\n",
    "                avg_eps_length[(site, action_type, project_action, real)] = np.mean(episode_length)\n",
    "\n",
    "                print(f\"Run time: {run_time:.2f} s\")\n",
    "                print(f\"Run time / episode: {run_time / NUM_RUNS:.2f} s\")\n",
    "                print(f\"Run time / 1000 timesteps: {run_time * 1000 / np.sum(episode_length):.2f} s\")\n",
    "                print(f\"Reward for random agent: {np.mean(all_rewards):.2f} +/- {np.std(all_rewards):.2f}\")\n",
    "                print(f\"Episode length: {np.mean(episode_length):.2f} +/- {np.std(episode_length):.2f} timesteps\\n\")\n",
    "\n",
    "                env.close()\n"
   ]
  },
  {
   "cell_type": "code",
   "execution_count": null,
   "metadata": {},
   "outputs": [],
   "source": [
    "import pandas as pd\n",
    "\n",
    "idx = pd.MultiIndex.from_tuples(run_time_per_1000.keys(), names=['site', 'action_type', 'project_action', 'real_traces'])\n",
    "\n",
    "run_times_per_1000 = pd.Series(run_time_per_1000.values(), index=idx)\n",
    "avg_eps_length = pd.Series(avg_eps_length.values(), index=idx)\n",
    "\n",
    "pd.DataFrame([run_times_per_1000, avg_eps_length])\n",
    "\n",
    "display(run_times_per_1000)\n",
    "display(avg_eps_length)"
   ]
  },
  {
   "cell_type": "code",
   "execution_count": null,
   "metadata": {},
   "outputs": [],
   "source": [
    "df = pd.DataFrame([run_time_per_1000, avg_eps_length], index=['run_times_per_1000', 'avg_eps_length'])\n",
    "df\n",
    "df.to_csv('./logs/wall_time/times.csv', index=True)"
   ]
  },
  {
   "cell_type": "code",
   "execution_count": null,
   "metadata": {},
   "outputs": [],
   "source": [
    "pd.read_csv('./logs/wall_time/times.csv', index_col=0)"
   ]
  },
  {
   "cell_type": "code",
   "execution_count": null,
   "metadata": {},
   "outputs": [],
   "source": [
    "df[('caltech', 'continuous', True, True)].loc['run_times_per_1000']"
   ]
  },
  {
   "cell_type": "code",
   "execution_count": null,
   "metadata": {},
   "outputs": [],
   "source": [
    "import matplotlib.pyplot as plt\n",
    "import seaborn as sns\n",
    "sns.set_style(\"darkgrid\", {\"grid.color\": \".6\", \"grid.linestyle\": \":\"})\n"
   ]
  },
  {
   "cell_type": "code",
   "execution_count": null,
   "metadata": {},
   "outputs": [],
   "source": [
    "labels = [\n",
    "    'RT w/ AP', 'RT w/o AP',\n",
    "    'GS w/ AP', 'GS w/o AP',\n",
    "]\n",
    "\n",
    "run_times_cont = [\n",
    "    df[('caltech', 'continuous', True, True)].loc['run_times_per_1000'],\n",
    "    df[('caltech', 'continuous', False, True)].loc['run_times_per_1000'],\n",
    "    df[('caltech', 'continuous', True, False)].loc['run_times_per_1000'],\n",
    "    df[('caltech', 'continuous', False, False)].loc['run_times_per_1000'],\n",
    "\n",
    "]\n",
    "run_times_disc = [\n",
    "    df[('caltech', 'discrete', True, True)].loc['run_times_per_1000'],\n",
    "    df[('caltech', 'discrete', False, True)].loc['run_times_per_1000'],\n",
    "    df[('caltech', 'discrete', True, False)].loc['run_times_per_1000'],\n",
    "    df[('caltech', 'discrete', False, False)].loc['run_times_per_1000'],\n",
    "]\n",
    "\n",
    "x = np.arange(4)  # the label locations\n",
    "width = 0.35  # the width of the bars\n",
    "\n",
    "fig, ax = plt.subplots()\n",
    "rects1 = ax.bar(x - width/2, run_times_cont, width, label='continuous actions')\n",
    "rects2 = ax.bar(x + width/2, run_times_disc, width, label='discrete actions')\n",
    "\n",
    "# Add some text for labels, title and custom x-axis tick labels, etc.\n",
    "ax.set_ylabel('Time (s)')\n",
    "ax.set_title('Wall Time / 1,000 Timesteps: Caltech 05/01/2019 - 08/31/2019')\n",
    "ax.set_xticks(x, labels)\n",
    "ax.legend(bbox_to_anchor=[1, 0.5])\n",
    "\n",
    "ax.annotate('RT: real trace', xy=[-0.25, 14])\n",
    "ax.annotate('GS: GMM samples', xy=[-0.25, 13])\n",
    "ax.annotate('AP: action projection', xy=[-0.25, 12])\n",
    "\n",
    "# ax.bar_label(rects1, padding=3)\n",
    "# ax.bar_label(rects2, padding=3)\n",
    "\n",
    "fig.tight_layout()\n",
    "\n",
    "plt.show()"
   ]
  }
 ],
 "metadata": {
  "kernelspec": {
   "display_name": "Python 3.9.13 ('sustaingym')",
   "language": "python",
   "name": "python3"
  },
  "language_info": {
   "codemirror_mode": {
    "name": "ipython",
    "version": 3
   },
   "file_extension": ".py",
   "mimetype": "text/x-python",
   "name": "python",
   "nbconvert_exporter": "python",
   "pygments_lexer": "ipython3",
   "version": "3.9.13"
  },
  "orig_nbformat": 4,
  "vscode": {
   "interpreter": {
    "hash": "c910351b0c3a4aade2cf03b555240fe9951314ae7b50b4f56bc279231ceafe8d"
   }
  }
 },
 "nbformat": 4,
 "nbformat_minor": 2
}
