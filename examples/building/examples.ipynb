{
 "cells": [
  {
   "attachments": {},
   "cell_type": "markdown",
   "metadata": {},
   "source": [
    "# Example Usage of `BuildingEnv`\n",
    "\n",
    "This notebook demonstrates 4 examples using `BuildingEnv`:\n",
    "\n",
    "1. no-action policy\n",
    "2. random action policy\n",
    "3. MPC policy\n",
    "4. training a PPO agent with StableBaselines3"
   ]
  },
  {
   "cell_type": "code",
   "execution_count": null,
   "metadata": {},
   "outputs": [],
   "source": [
    "%load_ext autoreload\n",
    "%autoreload 2\n",
    "%matplotlib inline\n",
    "%cd ../.."
   ]
  },
  {
   "cell_type": "code",
   "execution_count": null,
   "metadata": {},
   "outputs": [],
   "source": [
    "from __future__ import annotations\n",
    "\n",
    "from collections.abc import Sequence\n",
    "\n",
    "import matplotlib.pyplot as plt\n",
    "import numpy as np\n",
    "from tqdm import tqdm\n",
    "\n",
    "from sustaingym.envs.building import BuildingEnv, ParameterGenerator"
   ]
  },
  {
   "cell_type": "code",
   "execution_count": null,
   "metadata": {},
   "outputs": [],
   "source": [
    "def plot_temp(env: BuildingEnv, zone_names: Sequence[str] | None = None) -> None:\n",
    "    fig, ax = plt.subplots(tight_layout=True)\n",
    "\n",
    "    ax.plot(np.array(env.statelist)[:, :env.n + 1])\n",
    "    ax.set(\n",
    "        xlabel='hours',\n",
    "        ylabel='Celsius',\n",
    "        title='Office Small Zonal Temperature')\n",
    "    \n",
    "    if zone_names is None:\n",
    "        zone_names = [zone.name for zone in env.zones] + ['Outside']\n",
    "    ax.legend(zone_names, loc=\"lower right\")\n",
    "\n",
    "\n",
    "def plot_power(env: BuildingEnv) -> None:\n",
    "    fig, ax = plt.subplots(tight_layout=True)\n",
    "\n",
    "    # TODO: is this actually in watts?\n",
    "    power_consumption = np.sum(np.abs(np.stack(env.actionlist)), axis=1)\n",
    "    ax.plot(power_consumption)\n",
    "    ax.set(\n",
    "        title='Office Small Power Consumption',\n",
    "        xlabel='hours',\n",
    "        ylabel='Watts')"
   ]
  },
  {
   "attachments": {},
   "cell_type": "markdown",
   "metadata": {},
   "source": [
    "### Environment Information"
   ]
  },
  {
   "cell_type": "code",
   "execution_count": null,
   "metadata": {},
   "outputs": [],
   "source": [
    "# Create environment\n",
    "# see sustaingym/envs/building/utils.py for more info\n",
    "params = ParameterGenerator(\n",
    "    building='OfficeSmall', weather='Hot_Dry', location='Tucson')\n",
    "env = BuildingEnv(params)\n",
    "\n",
    "ZONE_NAMES = ['South', 'East', 'North', 'West', 'Core', 'Plenum', 'Outside']\n",
    "num_hours = 24\n",
    "\n",
    "print('Size of State Space:', env.observation_space.shape)\n",
    "print('Size of Action Space:', env.action_space.shape)\n",
    "print('Min action:', env.action_space.low)\n",
    "print('Max action:', env.action_space.high)\n",
    "print('Sample State:', env.observation_space.sample())\n",
    "print('Sample Action:', env.action_space.sample())"
   ]
  },
  {
   "attachments": {},
   "cell_type": "markdown",
   "metadata": {},
   "source": [
    "### Taking no actions"
   ]
  },
  {
   "cell_type": "code",
   "execution_count": null,
   "metadata": {},
   "outputs": [],
   "source": [
    "env.reset()\n",
    "a = env.action_space.sample()\n",
    "for i in tqdm(range(num_hours)):\n",
    "    a = a * 0\n",
    "    obs, r, terminated, truncated, _ = env.step(a)"
   ]
  },
  {
   "cell_type": "code",
   "execution_count": null,
   "metadata": {},
   "outputs": [],
   "source": [
    "plot_temp(env, zone_names=ZONE_NAMES)"
   ]
  },
  {
   "cell_type": "code",
   "execution_count": null,
   "metadata": {},
   "outputs": [],
   "source": [
    "plot_power(env)"
   ]
  },
  {
   "attachments": {},
   "cell_type": "markdown",
   "metadata": {},
   "source": [
    "### Taking random actions"
   ]
  },
  {
   "cell_type": "code",
   "execution_count": null,
   "metadata": {},
   "outputs": [],
   "source": [
    "for i in range(num_hours):\n",
    "    a = env.action_space.sample()  # Randomly select an action\n",
    "    obs, r, terminated, truncated, _ = env.step(a)  # Return observation and reward"
   ]
  },
  {
   "cell_type": "code",
   "execution_count": null,
   "metadata": {},
   "outputs": [],
   "source": [
    "plot_temp(env)"
   ]
  },
  {
   "cell_type": "code",
   "execution_count": null,
   "metadata": {},
   "outputs": [],
   "source": [
    "plot_power(env)"
   ]
  },
  {
   "attachments": {},
   "cell_type": "markdown",
   "metadata": {},
   "source": [
    "### MPC Agent"
   ]
  },
  {
   "cell_type": "code",
   "execution_count": null,
   "metadata": {},
   "outputs": [],
   "source": [
    "from sustaingym.algorithms.building.mpc_controller import MPCAgent\n",
    "\n",
    "agent = MPCAgent(env, gamma=env.gamma, safety_margin=0.96, planning_steps=10)"
   ]
  },
  {
   "cell_type": "code",
   "execution_count": null,
   "metadata": {},
   "outputs": [],
   "source": [
    "env.reset()\n",
    "numofhours = 24\n",
    "reward_total = 0\n",
    "for i in range(numofhours):\n",
    "    a, s = agent.predict()\n",
    "    obs, r, terminated, truncated, _ = env.step(a)\n",
    "    reward_total += r\n",
    "print(\"total reward is: \", reward_total)"
   ]
  },
  {
   "cell_type": "code",
   "execution_count": null,
   "metadata": {},
   "outputs": [],
   "source": [
    "plot_temp(env)"
   ]
  },
  {
   "cell_type": "code",
   "execution_count": null,
   "metadata": {},
   "outputs": [],
   "source": [
    "plot_power(env)"
   ]
  },
  {
   "attachments": {},
   "cell_type": "markdown",
   "metadata": {},
   "source": [
    "### PPO Agent"
   ]
  },
  {
   "cell_type": "code",
   "execution_count": null,
   "metadata": {},
   "outputs": [],
   "source": [
    "from stable_baselines3 import PPO\n",
    "from stable_baselines3.ppo import MlpPolicy\n",
    "from stable_baselines3.common.utils import set_random_seed"
   ]
  },
  {
   "cell_type": "code",
   "execution_count": null,
   "metadata": {},
   "outputs": [],
   "source": [
    "seed = 25\n",
    "set_random_seed(seed=seed)"
   ]
  },
  {
   "cell_type": "code",
   "execution_count": null,
   "metadata": {},
   "outputs": [],
   "source": [
    "model = PPO(MlpPolicy, env, verbose=1)\n",
    "rewardlist = []\n",
    "\n",
    "for i in range(300):\n",
    "    model.learn(total_timesteps=1000)\n",
    "    rw = 0\n",
    "    vec_env = model.get_env()\n",
    "    obs = vec_env.reset()\n",
    "    for i in range(24):\n",
    "        action, _states = model.predict(obs)\n",
    "        obs, rewards, dones, info = vec_env.step(action)\n",
    "        rw += rewards\n",
    "    print('Avg reward:', rw / 24)\n",
    "    rewardlist.append(rw / 24)\n",
    "\n",
    "print(\"################TRAINING is Done############\")\n",
    "model.save('PPO_quick')"
   ]
  },
  {
   "cell_type": "code",
   "execution_count": null,
   "metadata": {},
   "outputs": [],
   "source": [
    "model = PPO(MlpPolicy, env, verbose=1)\n",
    "vec_env = model.get_env()\n",
    "model = PPO.load(\"PPO_quick\")\n",
    "obs = vec_env.reset()\n",
    "print(\"Initial observation\", obs)\n",
    "\n",
    "for i in range(24):\n",
    "    action, _states = model.predict(obs)\n",
    "    obs, rewards, dones, info = vec_env.step(action)"
   ]
  },
  {
   "cell_type": "code",
   "execution_count": null,
   "metadata": {},
   "outputs": [],
   "source": [
    "plot_temp(env, zone_names=ZONE_NAMES)"
   ]
  },
  {
   "cell_type": "code",
   "execution_count": null,
   "metadata": {},
   "outputs": [],
   "source": [
    "plot_power(env)"
   ]
  },
  {
   "cell_type": "code",
   "execution_count": null,
   "metadata": {},
   "outputs": [],
   "source": [
    "fig, ax = plt.subplots(tight_layout=True)\n",
    "ax.plot(rewardlist)\n",
    "ax.set(xlabel='episode', ylabel='avg. reward', title='Quick PPO training')\n",
    "plt.show()"
   ]
  }
 ],
 "metadata": {
  "kernelspec": {
   "display_name": "sustaingym_building",
   "language": "python",
   "name": "python3"
  },
  "language_info": {
   "codemirror_mode": {
    "name": "ipython",
    "version": 3
   },
   "file_extension": ".py",
   "mimetype": "text/x-python",
   "name": "python",
   "nbconvert_exporter": "python",
   "pygments_lexer": "ipython3",
   "version": "3.9.18"
  },
  "orig_nbformat": 4
 },
 "nbformat": 4,
 "nbformat_minor": 2
}
