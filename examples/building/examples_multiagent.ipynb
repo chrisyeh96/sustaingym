{
 "cells": [
  {
   "attachments": {},
   "cell_type": "markdown",
   "metadata": {},
   "source": [
    "# Example Usage of `MultiAgentBuildingEnv`\n",
    "\n",
    "This notebook demonstrates using `MultiAgentBuildingEnv`."
   ]
  },
  {
   "cell_type": "code",
   "execution_count": null,
   "metadata": {},
   "outputs": [],
   "source": [
    "%load_ext autoreload\n",
    "%autoreload 2\n",
    "%matplotlib inline\n",
    "%cd ../.."
   ]
  },
  {
   "cell_type": "code",
   "execution_count": null,
   "metadata": {},
   "outputs": [],
   "source": [
    "from __future__ import annotations\n",
    "\n",
    "from collections.abc import Sequence\n",
    "\n",
    "import matplotlib.pyplot as plt\n",
    "import numpy as np\n",
    "from tqdm import tqdm\n",
    "\n",
    "from sustaingym.envs.building import MultiAgentBuildingEnv, ParameterGenerator"
   ]
  },
  {
   "cell_type": "code",
   "execution_count": null,
   "metadata": {},
   "outputs": [],
   "source": [
    "numofhours = 24 * (4)\n",
    "chicago = [20.4, 20.4, 20.4, 20.4, 21.5, 22.7, 22.9, 23, 23, 21.9, 20.7, 20.5]\n",
    "city = \"chicago\"\n",
    "filename = \"examples/building/Exercise2A-mytestTable.html\"\n",
    "weatherfile = \"examples/building/USA_IL_Chicago-OHare.Intl.AP.725300_TMY3.epw\"\n",
    "U_Wall = [2.811, 12.894, 0.408, 0.282, 1.533, 12.894, 1.493]\n",
    "params = ParameterGenerator(\n",
    "    filename,\n",
    "    weatherfile,\n",
    "    city,\n",
    "    U_Wall=U_Wall,\n",
    "    ground_temp=chicago,\n",
    "    shgc=0.568,\n",
    "    ac_map=np.array([1, 1, 1, 1, 1, 0]),\n",
    "    shgc_weight=0.1,\n",
    "    ground_weight=0.7,\n",
    "    full_occ=np.array([1, 2, 3, 4, 5, 0]),\n",
    "    reward_gamma=[0.1, 0.9],\n",
    "    activity_sch=117.24,\n",
    ")  # Description of ParameterGenerator in bldg_utils.py\n",
    "env = MultiAgentBuildingEnv(params)\n",
    "\n",
    "# Initialize environment\n",
    "obs_n, info_n = env.reset()"
   ]
  },
  {
   "cell_type": "code",
   "execution_count": null,
   "metadata": {},
   "outputs": [],
   "source": [
    "# Display some statistics for each agent\n",
    "for agent in env.agents:\n",
    "    print(('=' * 30) + f' Agent: {agent} ' + ('=' * 30))\n",
    "    print(\"Size of State Space:\", env.observation_space(agent).shape)\n",
    "    print(\"Size of Action Space:\", env.action_space(agent).shape)\n",
    "    print(\"Min action:\", env.action_space(agent).low)\n",
    "    print(\"Max action:\", env.action_space(agent).high)\n",
    "    print(\"Sample State:\", env.observation_space(agent).sample())\n",
    "    print(\"Sample Action:\", env.action_space(agent).sample())"
   ]
  },
  {
   "cell_type": "code",
   "execution_count": null,
   "metadata": {},
   "outputs": [],
   "source": [
    "# Initialize lists to collect states and actions for each agent\n",
    "RandomController_state = {agent: [] for agent in env.agents}\n",
    "RandomController_action = {agent: [] for agent in env.agents}\n",
    "\n",
    "for i in range(numofhours):\n",
    "    # Initialize a dictionary to hold actions for each agent\n",
    "    actions_n = {}\n",
    "    for agent in env.agents:\n",
    "        actions_n[agent] = env.action_spaces[agent].sample()  # Randomly select an action for each agent\n",
    "\n",
    "    # Step through environment\n",
    "    obs_n, reward_n, terminated_n, truncated_n, _ = env.step(actions_n)\n",
    "\n",
    "    # Store states and actions for each agent\n",
    "    for agent in env.agents:\n",
    "        RandomController_state[agent].append(obs_n[agent])\n",
    "        RandomController_action[agent].append(actions_n[agent])"
   ]
  }
 ],
 "metadata": {
  "kernelspec": {
   "display_name": "sustaingym_building",
   "language": "python",
   "name": "python3"
  },
  "language_info": {
   "codemirror_mode": {
    "name": "ipython",
    "version": 3
   },
   "file_extension": ".py",
   "mimetype": "text/x-python",
   "name": "python",
   "nbconvert_exporter": "python",
   "pygments_lexer": "ipython3",
   "version": "3.9.18"
  },
  "orig_nbformat": 4
 },
 "nbformat": 4,
 "nbformat_minor": 2
}
