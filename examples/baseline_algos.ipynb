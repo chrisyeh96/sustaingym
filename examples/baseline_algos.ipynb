{
 "cells": [
  {
   "cell_type": "code",
   "execution_count": 1,
   "metadata": {},
   "outputs": [
    {
     "name": "stdout",
     "output_type": "stream",
     "text": [
      "/home/ubuntu/sustaingym\n"
     ]
    }
   ],
   "source": [
    "%load_ext autoreload\n",
    "%autoreload 2\n",
    "%matplotlib inline\n",
    "%cd .."
   ]
  },
  {
   "cell_type": "code",
   "execution_count": 2,
   "metadata": {},
   "outputs": [],
   "source": [
    "from copy import deepcopy\n",
    "from typing import Any\n",
    "\n",
    "import cvxpy as cp\n",
    "import matplotlib.pyplot as plt\n",
    "import numpy as np\n",
    "\n",
    "from acnportal.acnsim.network.sites import caltech_acn, jpl_acn\n",
    "\n",
    "from sustaingym.envs.evcharging.actions import to_schedule, ACTION_DISCRETIZATION_FACTOR\n",
    "from sustaingym.envs.evcharging.ev_charging import EVChargingEnv\n",
    "\n",
    "MIN_ACTION = 0\n",
    "MAX_ACTION = 4\n",
    "\n",
    "period = 5\n",
    "recompute_freq = 2\n",
    "env = EVChargingEnv(site='caltech', date_range=[\"2018-11-07\", \"2018-11-07\"], real_traces=True, period=5, recompute_freq=2)"
   ]
  },
  {
   "cell_type": "code",
   "execution_count": 3,
   "metadata": {},
   "outputs": [
    {
     "data": {
      "image/png": "[encoded data removed]",
      "text/plain": [
       "<Figure size 432x288 with 2 Axes>"
      ]
     },
     "metadata": {
      "needs_background": "light"
     },
     "output_type": "display_data"
    }
   ],
   "source": [
    "acn = caltech_acn()\n",
    "\n",
    "plt.imshow(acn.constraint_matrix)\n",
    "plt.colorbar()\n",
    "plt.show()\n"
   ]
  },
  {
   "cell_type": "code",
   "execution_count": 4,
   "metadata": {},
   "outputs": [],
   "source": [
    "observation = env.reset()"
   ]
  },
  {
   "cell_type": "code",
   "execution_count": 5,
   "metadata": {},
   "outputs": [
    {
     "data": {
      "text/plain": [
       "array([ 80.        ,  80.        , 416.66666667, 416.66666667,\n",
       "       416.66666667, 180.50541516, 180.50541516, 180.50541516])"
      ]
     },
     "execution_count": 5,
     "metadata": {},
     "output_type": "execute_result"
    }
   ],
   "source": [
    "observation['magnitudes'] "
   ]
  },
  {
   "cell_type": "code",
   "execution_count": 6,
   "metadata": {},
   "outputs": [
    {
     "data": {
      "text/plain": [
       "array([32, 32, 32, 32, 32, 32, 32, 32, 32, 32, 32, 32, 32, 32, 32, 32, 32,\n",
       "       32, 32, 32, 32, 32, 32, 32, 32, 32, 32, 32, 32, 32, 32, 32, 32, 32,\n",
       "       32, 32, 32, 32, 32, 32, 32, 32, 32, 32, 32, 32, 32, 32, 32, 32, 32,\n",
       "       32])"
      ]
     },
     "execution_count": 6,
     "metadata": {},
     "output_type": "execute_result"
    }
   ],
   "source": [
    "jpl_acn().max_pilot_signals"
   ]
  },
  {
   "cell_type": "code",
   "execution_count": 7,
   "metadata": {},
   "outputs": [
    {
     "data": {
      "text/plain": [
       "8"
      ]
     },
     "execution_count": 7,
     "metadata": {},
     "output_type": "execute_result"
    }
   ],
   "source": [
    "max(acn.min_pilot_signals)"
   ]
  },
  {
   "cell_type": "code",
   "execution_count": 8,
   "metadata": {},
   "outputs": [],
   "source": [
    "demands = np.random.rand(54) * 30"
   ]
  },
  {
   "cell_type": "code",
   "execution_count": 9,
   "metadata": {},
   "outputs": [
    {
     "name": "stdout",
     "output_type": "stream",
     "text": [
      "Is DPP?  True\n",
      "Is DCP?  True\n",
      "1\n",
      "2\n",
      "3\n",
      "4\n",
      "5\n",
      "6\n",
      "7\n",
      "8\n",
      "9\n",
      "10\n"
     ]
    }
   ],
   "source": [
    "\n",
    "r = cp.Variable(54, integer=True)\n",
    "\n",
    "acn = caltech_acn()\n",
    "A = acn.constraint_matrix\n",
    "phase_factor = np.exp(1j * np.deg2rad(observation['phases']))\n",
    "A_tilde = A * phase_factor[None, :]\n",
    "agg_current_complex = A_tilde @ r\n",
    "agg_magnitude = cp.abs(agg_current_complex)\n",
    "\n",
    "demands = cp.Parameter(54)\n",
    "\n",
    "objective = cp.Minimize(cp.norm(r - demands, p=1))\n",
    "constraints = [0 <= r, r <= MAX_ACTION, agg_magnitude <= observation['magnitudes'] / 8]\n",
    "\n",
    "prob = cp.Problem(objective, constraints)\n",
    "print(\"Is DPP? \", prob.is_dcp(dpp=True))\n",
    "print(\"Is DCP? \", prob.is_dcp(dpp=False))\n",
    "\n",
    "demand_vals = [np.random.rand(54) * i for i in range(10)]\n",
    "i = 0\n",
    "for demand in demand_vals:\n",
    "    i += 1\n",
    "    print(i)\n",
    "    demands.value = demand\n",
    "    prob.solve(solver='ECOS_BB')\n",
    "\n",
    "\n",
    "\n",
    "# print(\"Optimal value\", prob.solve(solver='ECOS_BB'))\n",
    "# print(\"Optimal var\")\n",
    "# print(r.value)"
   ]
  },
  {
   "cell_type": "code",
   "execution_count": null,
   "metadata": {},
   "outputs": [],
   "source": []
  },
  {
   "cell_type": "code",
   "execution_count": null,
   "metadata": {},
   "outputs": [],
   "source": []
  },
  {
   "cell_type": "code",
   "execution_count": null,
   "metadata": {},
   "outputs": [],
   "source": [
    "from typing import Any\n",
    "\n",
    "from sustaingym.envs.evcharging.actions import to_schedule, ACTION_DISCRETIZATION_FACTOR\n",
    "from copy import deepcopy\n",
    "\n",
    "MIN_ACTION = 0\n",
    "MAX_ACTION = 4\n",
    "\n",
    "\n",
    "class BaseOnlineAlgorithm:\n",
    "    \"\"\"\n",
    "    Abstract base class meant to be inherited from to implement new algorithms.\n",
    "\n",
    "    Subclasses must implement the schedule method.\n",
    "\n",
    "    Attributes:\n",
    "        env: EV Charging Environment\n",
    "    \"\"\"\n",
    "    def get_action(self, observation: dict[str, Any]) -> np.ndarray:\n",
    "        \"\"\"\n",
    "        TODO comments\n",
    "        Create a schedule of charging rates for each ev in the active_evs list.\n",
    "        NOT IMPLEMENTED IN BaseAlgorithm. This method MUST be implemented in all\n",
    "        subclasses.\n",
    "\n",
    "        This method returns a schedule of charging rates for each\n",
    "        Args:\n",
    "            active_sessions (List[SessionInfo]): List of SessionInfo objects\n",
    "                which are currently ready to be charged and not finished\n",
    "                charging.\n",
    "        Returns:\n",
    "            Dict[str, List[float]]: Dictionary mapping a station_id to a list of\n",
    "                charging rates. Each charging rate is valid for one period measured\n",
    "                relative to the current period, i.e. schedule['abc'][0] is the\n",
    "                charging rate for station 'abc' during the current period and\n",
    "                schedule['abc'][1] is the charging rate for the next period,\n",
    "                and so on. If an algorithm only produces charging rates for the\n",
    "                current time period, the length of each list should be 1. If this is\n",
    "                the case, make sure to also set the maximum resolve period to be 1\n",
    "                period so that the algorithm will be called each period. An\n",
    "                alternative is to repeat the charging rate a number of times equal to\n",
    "                the max recompute period.\n",
    "        \"\"\"\n",
    "        raise NotImplementedError\n",
    "    \n",
    "    def scale_obs(self, observation) -> dict[str: Any]:\n",
    "        \"\"\"\n",
    "        Scale observation demand by the action discretization factor.\n",
    "\n",
    "        Normalize demands so that action outputs in {0, 1, 2, 3, 4}\n",
    "        can have the same magnitude impact on decreasing demands.\n",
    "        \"\"\"\n",
    "        scaled_obs = observation.copy()\n",
    "        scaled_obs['demands'] /= ACTION_DISCRETIZATION_FACTOR\n",
    "        scaled_obs['magnitudes'] /= ACTION_DISCRETIZATION_FACTOR\n",
    "        return scaled_obs\n",
    "\n",
    "    def run(self, env: EVChargingEnv, iterations: int):\n",
    "        \"\"\"\n",
    "        Runs the scheduling algorithm for the current period and returns the\n",
    "        resulting reward.\n",
    "\n",
    "        Args:\n",
    "            iterations: Number of times to run and collect rewards\n",
    "\n",
    "        Returns:\n",
    "            See schedule.\n",
    "        \"\"\"\n",
    "        env = deepcopy(env)\n",
    "        total_rewards = []\n",
    "\n",
    "        for _ in range(iterations):\n",
    "            done = False\n",
    "            options = {\"verbose\": 1}\n",
    "            obs = env.reset(options=options)\n",
    "            obs = self.scale_obs(obs)\n",
    "            acc_reward = 0.0\n",
    "\n",
    "            while not done:\n",
    "                action = self.get_action(obs)\n",
    "                obs, reward, done, _ = env.step(action)\n",
    "                obs = self.scale_obs(obs)\n",
    "                acc_reward += reward\n",
    "            \n",
    "            total_rewards.append(acc_reward)\n",
    "        \n",
    "        return total_rewards\n",
    "\n",
    "\n",
    "\n",
    "class UncontrolledChargingAlgorithm(BaseOnlineAlgorithm):\n",
    "    name = \"selective max charge\"\n",
    "    \"\"\"\n",
    "    Algortihm that charges at the maximum rate allowed.\n",
    "    \"\"\"\n",
    "    def get_action(self, observation: dict[str, Any]) -> np.ndarray:\n",
    "        \"\"\"\n",
    "        Charge at the maximum allowed rate by the gym for cars that\n",
    "        have positive demands.\n",
    "        \"\"\"\n",
    "        return np.where(observation[\"demands\"] > 0, 4, 0)\n",
    "\n",
    "\n",
    "class NoChargingAlgorithm(BaseOnlineAlgorithm):\n",
    "    name = \"no charge\"\n",
    "    \"\"\"\n",
    "    Algortihm that charges at the maximum rate allowed by environment.\n",
    "    \"\"\"\n",
    "    def get_action(self, observation: dict[str, Any]) -> np.ndarray:\n",
    "        \"\"\"\n",
    "        Charge at the maximum allowed rate by the gym for cars that\n",
    "        have positive demands.\n",
    "        \"\"\"\n",
    "        return np.zeros(shape=observation[\"demands\"].shape)\n",
    "\n",
    "\n",
    "class DumbAlgorithm(BaseOnlineAlgorithm):\n",
    "    name = \"constraint violator\"\n",
    "    def get_action(self, observation: dict[str, Any]) -> np.ndarray:\n",
    "        return np.ones(shape=observation[\"demands\"].shape) * MAX_ACTION\n",
    "\n",
    "class RandomAlgorithm(BaseOnlineAlgorithm):\n",
    "    name = \"random\"\n",
    "    def get_action(self, observation: dict[str, Any]) -> np.ndarray:\n",
    "        return np.random.randint(5, size=observation[\"demands\"].shape)\n",
    "\n",
    "class GreedyAlgorithm(BaseOnlineAlgorithm):\n",
    "    \"\"\"\n",
    "    Algorithm that charges at the maximum rate respecting network\n",
    "    constraints.\n",
    "    \"\"\"\n",
    "    name = \"greedy\"\n",
    "    def get_action(self, observation: dict[str, Any]) -> np.ndarray:\n",
    "        \"\"\"\n",
    "        \n",
    "        \"\"\"\n",
    "        pass\n",
    "\n",
    "class RLAlgorithm(BaseOnlineAlgorithm):\n",
    "    \"\"\"\n",
    "    Based on RL\n",
    "    \"\"\"\n",
    "    def __init__(self, rl_model, name=\"RL algorithm\"):\n",
    "        self.rl_model = rl_model\n",
    "        self.name = name\n",
    "\n",
    "    def get_action(self, observation: dict[str, Any]) -> np.ndarray:\n",
    "        \"\"\"\n",
    "        \"\"\"\n",
    "        return self.rl_model.predict(observation)[0]"
   ]
  },
  {
   "cell_type": "code",
   "execution_count": null,
   "metadata": {},
   "outputs": [
    {
     "name": "stdout",
     "output_type": "stream",
     "text": [
      "Simulating day 2018-11-07 with 36 plug in events. \n",
      "Simulating day 2018-11-08 with 46 plug in events. \n",
      "Simulating day 2018-11-09 with 42 plug in events. \n",
      "Simulating day 2018-11-07 with 36 plug in events. \n",
      "Simulating day 2018-11-08 with 46 plug in events. \n",
      "Simulating day 2018-11-09 with 42 plug in events. \n",
      "Simulating day 2018-11-07 with 36 plug in events. \n",
      "Simulating day 2018-11-08 with 46 plug in events. \n",
      "Simulating day 2018-11-09 with 42 plug in events. \n",
      "Simulating day 2018-11-07 with 36 plug in events. \n",
      "Simulating day 2018-11-08 with 46 plug in events. \n",
      "Simulating day 2018-11-09 with 42 plug in events. \n"
     ]
    }
   ],
   "source": [
    "from datetime import datetime, timedelta\n",
    "import pandas as pd\n",
    "\n",
    "DATE_FORMAT = \"%Y-%m-%d\"\n",
    "\n",
    "algs = [UncontrolledChargingAlgorithm(), NoChargingAlgorithm(), DumbAlgorithm(), RandomAlgorithm()]\n",
    "\n",
    "def collect_rewards(env, algs):\n",
    "    begin = datetime.strptime(date_range[0], DATE_FORMAT)\n",
    "    end = datetime.strptime(date_range[1], DATE_FORMAT)\n",
    "    days_diff = end - begin\n",
    "    num_days_sim = days_diff.days + 1\n",
    "\n",
    "    results = {}\n",
    "    for alg in algs:\n",
    "        results[alg] = alg.run(env, num_days_sim)\n",
    "    results = {alg.name: reward for alg, reward in results.items()}\n",
    "\n",
    "    results['dates'] = [begin + timedelta(days=i) for i in range(num_days_sim)]\n",
    "\n",
    "    results = pd.DataFrame(results)\n",
    "    results.set_index('dates', inplace=True)\n",
    "    return results\n",
    "\n",
    "date_range = [\"2018-11-07\", \"2018-11-09\"]\n",
    "site = 'caltech'\n",
    "eval_env = EVChargingEnv(site=site, date_range=date_range, real_traces=True, period=period, recompute_freq=recompute_freq)\n",
    "\n",
    "rewards = collect_rewards(eval_env, algs)"
   ]
  },
  {
   "cell_type": "code",
   "execution_count": null,
   "metadata": {},
   "outputs": [
    {
     "data": {
      "image/png": "[encoded data removed]",
      "text/plain": [
       "<Figure size 432x288 with 1 Axes>"
      ]
     },
     "metadata": {
      "needs_background": "light"
     },
     "output_type": "display_data"
    }
   ],
   "source": [
    "plt.title(\"Performances of Algorithms\")\n",
    "for col in rewards.columns:\n",
    "    plt.plot(rewards[col], label=col)\n",
    "plt.gcf().autofmt_xdate()\n",
    "plt.legend()\n",
    "plt.tight_layout()\n",
    "plt.show()"
   ]
  },
  {
   "cell_type": "code",
   "execution_count": null,
   "metadata": {},
   "outputs": [
    {
     "data": {
      "text/html": [
       "<div>\n",
       "<style scoped>\n",
       "    .dataframe tbody tr th:only-of-type {\n",
       "        vertical-align: middle;\n",
       "    }\n",
       "\n",
       "    .dataframe tbody tr th {\n",
       "        vertical-align: top;\n",
       "    }\n",
       "\n",
       "    .dataframe thead th {\n",
       "        text-align: right;\n",
       "    }\n",
       "</style>\n",
       "<table border=\"1\" class=\"dataframe\">\n",
       "  <thead>\n",
       "    <tr style=\"text-align: right;\">\n",
       "      <th></th>\n",
       "      <th>selective max charge</th>\n",
       "      <th>no charge</th>\n",
       "      <th>constraint violator</th>\n",
       "      <th>random</th>\n",
       "    </tr>\n",
       "    <tr>\n",
       "      <th>dates</th>\n",
       "      <th></th>\n",
       "      <th></th>\n",
       "      <th></th>\n",
       "      <th></th>\n",
       "    </tr>\n",
       "  </thead>\n",
       "  <tbody>\n",
       "    <tr>\n",
       "      <th>2018-11-07</th>\n",
       "      <td>1431.09619</td>\n",
       "      <td>-108.953704</td>\n",
       "      <td>-58726.430027</td>\n",
       "      <td>-26675.707484</td>\n",
       "    </tr>\n",
       "    <tr>\n",
       "      <th>2018-11-08</th>\n",
       "      <td>1678.92414</td>\n",
       "      <td>-108.568519</td>\n",
       "      <td>-57124.640764</td>\n",
       "      <td>-25915.371565</td>\n",
       "    </tr>\n",
       "    <tr>\n",
       "      <th>2018-11-09</th>\n",
       "      <td>1456.96505</td>\n",
       "      <td>-90.009259</td>\n",
       "      <td>-58225.706817</td>\n",
       "      <td>-27166.761145</td>\n",
       "    </tr>\n",
       "  </tbody>\n",
       "</table>\n",
       "</div>"
      ],
      "text/plain": [
       "            selective max charge   no charge  constraint violator  \\\n",
       "dates                                                               \n",
       "2018-11-07            1431.09619 -108.953704        -58726.430027   \n",
       "2018-11-08            1678.92414 -108.568519        -57124.640764   \n",
       "2018-11-09            1456.96505  -90.009259        -58225.706817   \n",
       "\n",
       "                  random  \n",
       "dates                     \n",
       "2018-11-07 -26675.707484  \n",
       "2018-11-08 -25915.371565  \n",
       "2018-11-09 -27166.761145  "
      ]
     },
     "execution_count": 13,
     "metadata": {},
     "output_type": "execute_result"
    }
   ],
   "source": [
    "rewards"
   ]
  },
  {
   "cell_type": "code",
   "execution_count": null,
   "metadata": {},
   "outputs": [],
   "source": [
    "import numpy as np\n",
    "\n",
    "from stable_baselines3 import PPO\n",
    "from stable_baselines3.common.vec_env import DummyVecEnv, SubprocVecEnv\n",
    "from stable_baselines3.common.env_util import make_vec_env\n",
    "from stable_baselines3.common.utils import set_random_seed\n",
    "\n",
    "from sustaingym.envs.evcharging.ev_charging import EVChargingEnv"
   ]
  },
  {
   "cell_type": "code",
   "execution_count": null,
   "metadata": {},
   "outputs": [
    {
     "name": "stdout",
     "output_type": "stream",
     "text": [
      "\n",
      "--- Training GMMs ---\n",
      "\n",
      "Fetching data from site caltech for date range 2018-11-07 2018-11-09... \n",
      "Fitting GMMs (50 components, 4 dimensions)... \n",
      "Creating directory:  sustaingym/envs/evcharging/gmms/caltech/2018-11-07 2018-11-09 50\n",
      "Saving in:  sustaingym/envs/evcharging/gmms/caltech/2018-11-07 2018-11-09 50\n",
      "\n",
      "GMM training complete. \n",
      "\n"
     ]
    }
   ],
   "source": [
    "train_env = EVChargingEnv('caltech', date_range, real_traces=False)\n",
    "model = PPO('MultiInputPolicy', train_env, verbose=0)\n",
    "rl_algo = RLAlgorithm(model)"
   ]
  },
  {
   "cell_type": "code",
   "execution_count": null,
   "metadata": {},
   "outputs": [
    {
     "name": "stdout",
     "output_type": "stream",
     "text": [
      "Simulating day 2018-11-07 with 36 plug in events. \n",
      "Simulating day 2018-11-08 with 46 plug in events. \n",
      "Simulating day 2018-11-09 with 42 plug in events. \n"
     ]
    },
    {
     "data": {
      "text/html": [
       "<div>\n",
       "<style scoped>\n",
       "    .dataframe tbody tr th:only-of-type {\n",
       "        vertical-align: middle;\n",
       "    }\n",
       "\n",
       "    .dataframe tbody tr th {\n",
       "        vertical-align: top;\n",
       "    }\n",
       "\n",
       "    .dataframe thead th {\n",
       "        text-align: right;\n",
       "    }\n",
       "</style>\n",
       "<table border=\"1\" class=\"dataframe\">\n",
       "  <thead>\n",
       "    <tr style=\"text-align: right;\">\n",
       "      <th></th>\n",
       "      <th>RL algorithm</th>\n",
       "    </tr>\n",
       "    <tr>\n",
       "      <th>dates</th>\n",
       "      <th></th>\n",
       "    </tr>\n",
       "  </thead>\n",
       "  <tbody>\n",
       "    <tr>\n",
       "      <th>2018-11-07</th>\n",
       "      <td>-27492.379126</td>\n",
       "    </tr>\n",
       "    <tr>\n",
       "      <th>2018-11-08</th>\n",
       "      <td>-26370.159239</td>\n",
       "    </tr>\n",
       "    <tr>\n",
       "      <th>2018-11-09</th>\n",
       "      <td>-26746.648012</td>\n",
       "    </tr>\n",
       "  </tbody>\n",
       "</table>\n",
       "</div>"
      ],
      "text/plain": [
       "            RL algorithm\n",
       "dates                   \n",
       "2018-11-07 -27492.379126\n",
       "2018-11-08 -26370.159239\n",
       "2018-11-09 -26746.648012"
      ]
     },
     "execution_count": 16,
     "metadata": {},
     "output_type": "execute_result"
    }
   ],
   "source": [
    "untrained_rewards = collect_rewards(eval_env, [rl_algo])\n",
    "untrained_rewards"
   ]
  },
  {
   "cell_type": "code",
   "execution_count": null,
   "metadata": {},
   "outputs": [
    {
     "name": "stdout",
     "output_type": "stream",
     "text": [
      "model learned\n",
      "Simulating day 2018-11-07 with 36 plug in events. \n",
      "Simulating day 2018-11-08 with 46 plug in events. \n",
      "Simulating day 2018-11-09 with 42 plug in events. \n"
     ]
    },
    {
     "data": {
      "text/html": [
       "<div>\n",
       "<style scoped>\n",
       "    .dataframe tbody tr th:only-of-type {\n",
       "        vertical-align: middle;\n",
       "    }\n",
       "\n",
       "    .dataframe tbody tr th {\n",
       "        vertical-align: top;\n",
       "    }\n",
       "\n",
       "    .dataframe thead th {\n",
       "        text-align: right;\n",
       "    }\n",
       "</style>\n",
       "<table border=\"1\" class=\"dataframe\">\n",
       "  <thead>\n",
       "    <tr style=\"text-align: right;\">\n",
       "      <th></th>\n",
       "      <th>RL algorithm</th>\n",
       "    </tr>\n",
       "    <tr>\n",
       "      <th>dates</th>\n",
       "      <th></th>\n",
       "    </tr>\n",
       "  </thead>\n",
       "  <tbody>\n",
       "    <tr>\n",
       "      <th>2018-11-07</th>\n",
       "      <td>-27429.058868</td>\n",
       "    </tr>\n",
       "    <tr>\n",
       "      <th>2018-11-08</th>\n",
       "      <td>-26546.479595</td>\n",
       "    </tr>\n",
       "    <tr>\n",
       "      <th>2018-11-09</th>\n",
       "      <td>-26109.946579</td>\n",
       "    </tr>\n",
       "  </tbody>\n",
       "</table>\n",
       "</div>"
      ],
      "text/plain": [
       "            RL algorithm\n",
       "dates                   \n",
       "2018-11-07 -27429.058868\n",
       "2018-11-08 -26546.479595\n",
       "2018-11-09 -26109.946579"
      ]
     },
     "metadata": {},
     "output_type": "display_data"
    },
    {
     "ename": "KeyboardInterrupt",
     "evalue": "",
     "output_type": "error",
     "traceback": [
      "\u001b[0;31m---------------------------------------------------------------------------\u001b[0m",
      "\u001b[0;31mKeyboardInterrupt\u001b[0m                         Traceback (most recent call last)",
      "\u001b[1;32m/home/ubuntu/sustaingym/examples/baseline_algos.ipynb Cell 19'\u001b[0m in \u001b[0;36m<cell line: 5>\u001b[0;34m()\u001b[0m\n\u001b[1;32m      <a href='vscode-notebook-cell://ssh-remote%2Bec2-18-191-94-216.us-east-2.compute.amazonaws.com/home/ubuntu/sustaingym/examples/baseline_algos.ipynb#ch0000047vscode-remote?line=4'>5</a>\u001b[0m \u001b[39mfor\u001b[39;00m _ \u001b[39min\u001b[39;00m \u001b[39mrange\u001b[39m(\u001b[39m2\u001b[39m):\n\u001b[1;32m      <a href='vscode-notebook-cell://ssh-remote%2Bec2-18-191-94-216.us-east-2.compute.amazonaws.com/home/ubuntu/sustaingym/examples/baseline_algos.ipynb#ch0000047vscode-remote?line=5'>6</a>\u001b[0m     num_steps \u001b[39m+\u001b[39m\u001b[39m=\u001b[39m timesteps\n\u001b[0;32m----> <a href='vscode-notebook-cell://ssh-remote%2Bec2-18-191-94-216.us-east-2.compute.amazonaws.com/home/ubuntu/sustaingym/examples/baseline_algos.ipynb#ch0000047vscode-remote?line=6'>7</a>\u001b[0m     model\u001b[39m.\u001b[39;49mlearn(total_timesteps\u001b[39m=\u001b[39;49mtimesteps)\n\u001b[1;32m      <a href='vscode-notebook-cell://ssh-remote%2Bec2-18-191-94-216.us-east-2.compute.amazonaws.com/home/ubuntu/sustaingym/examples/baseline_algos.ipynb#ch0000047vscode-remote?line=7'>8</a>\u001b[0m     \u001b[39mprint\u001b[39m(\u001b[39m\"\u001b[39m\u001b[39mmodel learned\u001b[39m\u001b[39m\"\u001b[39m)\n\u001b[1;32m      <a href='vscode-notebook-cell://ssh-remote%2Bec2-18-191-94-216.us-east-2.compute.amazonaws.com/home/ubuntu/sustaingym/examples/baseline_algos.ipynb#ch0000047vscode-remote?line=8'>9</a>\u001b[0m     trained_rewards[num_steps] \u001b[39m=\u001b[39m collect_rewards(eval_env, [rl_algo])\n",
      "File \u001b[0;32m~/.local/lib/python3.9/site-packages/stable_baselines3/ppo/ppo.py:304\u001b[0m, in \u001b[0;36mPPO.learn\u001b[0;34m(self, total_timesteps, callback, log_interval, eval_env, eval_freq, n_eval_episodes, tb_log_name, eval_log_path, reset_num_timesteps)\u001b[0m\n\u001b[1;32m    291\u001b[0m \u001b[39mdef\u001b[39;00m \u001b[39mlearn\u001b[39m(\n\u001b[1;32m    292\u001b[0m     \u001b[39mself\u001b[39m,\n\u001b[1;32m    293\u001b[0m     total_timesteps: \u001b[39mint\u001b[39m,\n\u001b[0;32m   (...)\u001b[0m\n\u001b[1;32m    301\u001b[0m     reset_num_timesteps: \u001b[39mbool\u001b[39m \u001b[39m=\u001b[39m \u001b[39mTrue\u001b[39;00m,\n\u001b[1;32m    302\u001b[0m ) \u001b[39m-\u001b[39m\u001b[39m>\u001b[39m \u001b[39m\"\u001b[39m\u001b[39mPPO\u001b[39m\u001b[39m\"\u001b[39m:\n\u001b[0;32m--> 304\u001b[0m     \u001b[39mreturn\u001b[39;00m \u001b[39msuper\u001b[39;49m(PPO, \u001b[39mself\u001b[39;49m)\u001b[39m.\u001b[39;49mlearn(\n\u001b[1;32m    305\u001b[0m         total_timesteps\u001b[39m=\u001b[39;49mtotal_timesteps,\n\u001b[1;32m    306\u001b[0m         callback\u001b[39m=\u001b[39;49mcallback,\n\u001b[1;32m    307\u001b[0m         log_interval\u001b[39m=\u001b[39;49mlog_interval,\n\u001b[1;32m    308\u001b[0m         eval_env\u001b[39m=\u001b[39;49meval_env,\n\u001b[1;32m    309\u001b[0m         eval_freq\u001b[39m=\u001b[39;49meval_freq,\n\u001b[1;32m    310\u001b[0m         n_eval_episodes\u001b[39m=\u001b[39;49mn_eval_episodes,\n\u001b[1;32m    311\u001b[0m         tb_log_name\u001b[39m=\u001b[39;49mtb_log_name,\n\u001b[1;32m    312\u001b[0m         eval_log_path\u001b[39m=\u001b[39;49meval_log_path,\n\u001b[1;32m    313\u001b[0m         reset_num_timesteps\u001b[39m=\u001b[39;49mreset_num_timesteps,\n\u001b[1;32m    314\u001b[0m     )\n",
      "File \u001b[0;32m~/.local/lib/python3.9/site-packages/stable_baselines3/common/on_policy_algorithm.py:250\u001b[0m, in \u001b[0;36mOnPolicyAlgorithm.learn\u001b[0;34m(self, total_timesteps, callback, log_interval, eval_env, eval_freq, n_eval_episodes, tb_log_name, eval_log_path, reset_num_timesteps)\u001b[0m\n\u001b[1;32m    246\u001b[0m callback\u001b[39m.\u001b[39mon_training_start(\u001b[39mlocals\u001b[39m(), \u001b[39mglobals\u001b[39m())\n\u001b[1;32m    248\u001b[0m \u001b[39mwhile\u001b[39;00m \u001b[39mself\u001b[39m\u001b[39m.\u001b[39mnum_timesteps \u001b[39m<\u001b[39m total_timesteps:\n\u001b[0;32m--> 250\u001b[0m     continue_training \u001b[39m=\u001b[39m \u001b[39mself\u001b[39;49m\u001b[39m.\u001b[39;49mcollect_rollouts(\u001b[39mself\u001b[39;49m\u001b[39m.\u001b[39;49menv, callback, \u001b[39mself\u001b[39;49m\u001b[39m.\u001b[39;49mrollout_buffer, n_rollout_steps\u001b[39m=\u001b[39;49m\u001b[39mself\u001b[39;49m\u001b[39m.\u001b[39;49mn_steps)\n\u001b[1;32m    252\u001b[0m     \u001b[39mif\u001b[39;00m continue_training \u001b[39mis\u001b[39;00m \u001b[39mFalse\u001b[39;00m:\n\u001b[1;32m    253\u001b[0m         \u001b[39mbreak\u001b[39;00m\n",
      "File \u001b[0;32m~/.local/lib/python3.9/site-packages/stable_baselines3/common/on_policy_algorithm.py:168\u001b[0m, in \u001b[0;36mOnPolicyAlgorithm.collect_rollouts\u001b[0;34m(self, env, callback, rollout_buffer, n_rollout_steps)\u001b[0m\n\u001b[1;32m    164\u001b[0m     \u001b[39mself\u001b[39m\u001b[39m.\u001b[39mpolicy\u001b[39m.\u001b[39mreset_noise(env\u001b[39m.\u001b[39mnum_envs)\n\u001b[1;32m    166\u001b[0m \u001b[39mwith\u001b[39;00m th\u001b[39m.\u001b[39mno_grad():\n\u001b[1;32m    167\u001b[0m     \u001b[39m# Convert to pytorch tensor or to TensorDict\u001b[39;00m\n\u001b[0;32m--> 168\u001b[0m     obs_tensor \u001b[39m=\u001b[39m obs_as_tensor(\u001b[39mself\u001b[39;49m\u001b[39m.\u001b[39;49m_last_obs, \u001b[39mself\u001b[39;49m\u001b[39m.\u001b[39;49mdevice)\n\u001b[1;32m    169\u001b[0m     actions, values, log_probs \u001b[39m=\u001b[39m \u001b[39mself\u001b[39m\u001b[39m.\u001b[39mpolicy(obs_tensor)\n\u001b[1;32m    170\u001b[0m actions \u001b[39m=\u001b[39m actions\u001b[39m.\u001b[39mcpu()\u001b[39m.\u001b[39mnumpy()\n",
      "File \u001b[0;32m~/.local/lib/python3.9/site-packages/stable_baselines3/common/utils.py:447\u001b[0m, in \u001b[0;36mobs_as_tensor\u001b[0;34m(obs, device)\u001b[0m\n\u001b[1;32m    437\u001b[0m \u001b[39mdef\u001b[39;00m \u001b[39mobs_as_tensor\u001b[39m(\n\u001b[1;32m    438\u001b[0m     obs: Union[np\u001b[39m.\u001b[39mndarray, Dict[Union[\u001b[39mstr\u001b[39m, \u001b[39mint\u001b[39m], np\u001b[39m.\u001b[39mndarray]], device: th\u001b[39m.\u001b[39mdevice\n\u001b[1;32m    439\u001b[0m ) \u001b[39m-\u001b[39m\u001b[39m>\u001b[39m Union[th\u001b[39m.\u001b[39mTensor, TensorDict]:\n\u001b[1;32m    440\u001b[0m     \u001b[39m\"\"\"\u001b[39;00m\n\u001b[1;32m    441\u001b[0m \u001b[39m    Moves the observation to the given device.\u001b[39;00m\n\u001b[1;32m    442\u001b[0m \n\u001b[0;32m   (...)\u001b[0m\n\u001b[1;32m    445\u001b[0m \u001b[39m    :return: PyTorch tensor of the observation on a desired device.\u001b[39;00m\n\u001b[1;32m    446\u001b[0m \u001b[39m    \"\"\"\u001b[39;00m\n\u001b[0;32m--> 447\u001b[0m     \u001b[39mif\u001b[39;00m \u001b[39misinstance\u001b[39;49m(obs, np\u001b[39m.\u001b[39;49mndarray):\n\u001b[1;32m    448\u001b[0m         \u001b[39mreturn\u001b[39;00m th\u001b[39m.\u001b[39mas_tensor(obs)\u001b[39m.\u001b[39mto(device)\n\u001b[1;32m    449\u001b[0m     \u001b[39melif\u001b[39;00m \u001b[39misinstance\u001b[39m(obs, \u001b[39mdict\u001b[39m):\n",
      "\u001b[0;31mKeyboardInterrupt\u001b[0m: "
     ]
    }
   ],
   "source": [
    "trained_rewards = {}\n",
    "num_steps = 0\n",
    "timesteps = 25_000\n",
    "\n",
    "for _ in range(10):\n",
    "    num_steps += timesteps\n",
    "    model.learn(total_timesteps=timesteps)\n",
    "    print(\"num timesteps: \", num_steps)\n",
    "    trained_rewards[num_steps] = collect_rewards(eval_env, [rl_algo])\n",
    "    display(trained_rewards[num_steps])"
   ]
  }
 ],
 "metadata": {
  "kernelspec": {
   "display_name": "Python 3.9.13 ('sustaingym')",
   "language": "python",
   "name": "python3"
  },
  "language_info": {
   "codemirror_mode": {
    "name": "ipython",
    "version": 3
   },
   "file_extension": ".py",
   "mimetype": "text/x-python",
   "name": "python",
   "nbconvert_exporter": "python",
   "pygments_lexer": "ipython3",
   "version": "3.9.13"
  },
  "orig_nbformat": 4,
  "vscode": {
   "interpreter": {
    "hash": "c910351b0c3a4aade2cf03b555240fe9951314ae7b50b4f56bc279231ceafe8d"
   }
  }
 },
 "nbformat": 4,
 "nbformat_minor": 2
}
