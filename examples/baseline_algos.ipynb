{
 "cells": [
  {
   "cell_type": "code",
   "execution_count": 1,
   "metadata": {},
   "outputs": [
    {
     "name": "stdout",
     "output_type": "stream",
     "text": [
      "/Users/victorli/Documents/CalTech/research/sustain-gym/github_repo/sustaingym\n"
     ]
    }
   ],
   "source": [
    "%load_ext autoreload\n",
    "%autoreload 2\n",
    "%matplotlib inline\n",
    "%cd .."
   ]
  },
  {
   "cell_type": "code",
   "execution_count": 73,
   "metadata": {},
   "outputs": [],
   "source": [
    "import numpy as np\n",
    "\n",
    "from sustaingym.envs.evcharging.ev_charging import EVChargingEnv\n",
    "\n",
    "period = 5\n",
    "recompute_freq = 2\n",
    "env = EVChargingEnv(site='caltech', date_range=[\"2018-11-07\", \"2018-11-07\"], real_traces=True, period=5, recompute_freq=2)"
   ]
  },
  {
   "cell_type": "code",
   "execution_count": 46,
   "metadata": {},
   "outputs": [],
   "source": [
    "observation = env.reset()"
   ]
  },
  {
   "cell_type": "code",
   "execution_count": 51,
   "metadata": {},
   "outputs": [
    {
     "data": {
      "text/plain": [
       "dict_keys(['arrivals', 'est_departures', 'constraint_matrix', 'magnitudes', 'demands', 'phases', 'timestep'])"
      ]
     },
     "execution_count": 51,
     "metadata": {},
     "output_type": "execute_result"
    }
   ],
   "source": [
    "observation.keys()"
   ]
  },
  {
   "cell_type": "code",
   "execution_count": 57,
   "metadata": {},
   "outputs": [
    {
     "data": {
      "text/plain": [
       "array([0., 0., 0., 0., 0., 0., 0., 0., 0., 0., 0., 0., 0., 0., 0., 0., 0.,\n",
       "       0., 0., 0., 0., 0., 0., 0., 0., 0., 0., 0., 0., 0., 0., 0., 0., 0.,\n",
       "       0., 0., 0., 0., 0., 0., 0., 0., 0., 0., 0., 0., 0., 0., 0., 0., 0.,\n",
       "       0., 0., 0.], dtype=float32)"
      ]
     },
     "execution_count": 57,
     "metadata": {},
     "output_type": "execute_result"
    }
   ],
   "source": [
    "observation['demands']"
   ]
  },
  {
   "cell_type": "code",
   "execution_count": null,
   "metadata": {},
   "outputs": [],
   "source": []
  },
  {
   "cell_type": "code",
   "execution_count": 77,
   "metadata": {},
   "outputs": [
    {
     "name": "stdout",
     "output_type": "stream",
     "text": [
      "Simulating day 2018-11-07 with 36 plug in events. \n",
      "uncontrolled reward:  6099.594443284654\n",
      "Simulating day 2018-11-07 with 36 plug in events. \n",
      "no charging reward:  -107.61111111111113\n",
      "Simulating day 2018-11-07 with 36 plug in events. \n",
      "dumb reward:  -9644.884865405555\n",
      "Simulating day 2018-11-07 with 36 plug in events. \n",
      "uncontrolled reward:  6099.594443284654\n"
     ]
    }
   ],
   "source": [
    "from typing import Any\n",
    "\n",
    "from sustaingym.envs.evcharging.actions import to_schedule, ACTION_DISCRETIZATION_FACTOR\n",
    "from copy import deepcopy\n",
    "\n",
    "MIN_ACTION = 0\n",
    "MAX_ACTION = 4\n",
    "\n",
    "\n",
    "class BaseOnlineAlgorithm:\n",
    "    \"\"\"\n",
    "    Abstract base class meant to be inherited from to implement new algorithms.\n",
    "\n",
    "    Subclasses must implement the schedule method.\n",
    "\n",
    "    Attributes:\n",
    "        env: EV Charging Environment\n",
    "    \"\"\"\n",
    "\n",
    "    def __init__(self, env: EVChargingEnv) -> None:\n",
    "        self.env = deepcopy(env)\n",
    "\n",
    "    def get_action(self, observation: dict[str, Any]) -> np.ndarray:\n",
    "        \"\"\"\n",
    "        TODO comments\n",
    "        Create a schedule of charging rates for each ev in the active_evs list.\n",
    "        NOT IMPLEMENTED IN BaseAlgorithm. This method MUST be implemented in all\n",
    "        subclasses.\n",
    "\n",
    "        This method returns a schedule of charging rates for each\n",
    "        Args:\n",
    "            active_sessions (List[SessionInfo]): List of SessionInfo objects\n",
    "                which are currently ready to be charged and not finished\n",
    "                charging.\n",
    "        Returns:\n",
    "            Dict[str, List[float]]: Dictionary mapping a station_id to a list of\n",
    "                charging rates. Each charging rate is valid for one period measured\n",
    "                relative to the current period, i.e. schedule['abc'][0] is the\n",
    "                charging rate for station 'abc' during the current period and\n",
    "                schedule['abc'][1] is the charging rate for the next period,\n",
    "                and so on. If an algorithm only produces charging rates for the\n",
    "                current time period, the length of each list should be 1. If this is\n",
    "                the case, make sure to also set the maximum resolve period to be 1\n",
    "                period so that the algorithm will be called each period. An\n",
    "                alternative is to repeat the charging rate a number of times equal to\n",
    "                the max recompute period.\n",
    "        \"\"\"\n",
    "        raise NotImplementedError\n",
    "    \n",
    "    def scale_demand(self, observation) -> None:\n",
    "        \"\"\"\n",
    "        Scale observation demand by the action discretization factor.\n",
    "\n",
    "        Normalize demands so that action outputs in {0, 1, 2, 3, 4}\n",
    "        can have the same magnitude impact on decreasing demands.\n",
    "        \"\"\"\n",
    "        observation['demands'] /= ACTION_DISCRETIZATION_FACTOR\n",
    "\n",
    "    def run(self):\n",
    "        \"\"\"\n",
    "        Runs the scheduling algorithm for the current period and returns the\n",
    "        resulting reward.\n",
    "\n",
    "        Returns:\n",
    "            See schedule.\n",
    "        \"\"\"\n",
    "        # if verbose:\n",
    "        #     self.env\n",
    "        done = False\n",
    "        options = {\"verbose\": 1}\n",
    "        obs = self.env.reset(options=options)\n",
    "        self.scale_demand(obs)\n",
    "        acc_reward = 0.0\n",
    "\n",
    "        while not done:\n",
    "            action = self.get_action(obs)\n",
    "            obs, reward, done, info = self.env.step(action)\n",
    "            self.scale_demand(obs)\n",
    "            acc_reward += reward\n",
    "        return acc_reward\n",
    "\n",
    "\n",
    "\n",
    "class UncontrolledChargingAlgorithm(BaseOnlineAlgorithm):\n",
    "    \"\"\"\n",
    "    Algortihm that charges at the maximum rate allowed.\n",
    "    \"\"\"\n",
    "    def get_action(self, observation: dict[str, Any]) -> np.ndarray:\n",
    "        \"\"\"\n",
    "        Charge at the maximum allowed rate by the gym for cars that\n",
    "        have positive demands.\n",
    "        \"\"\"\n",
    "        return np.where(observation[\"demands\"] > 0, 4, 0)\n",
    "\n",
    "\n",
    "class NoChargingAlgorithm(BaseOnlineAlgorithm):\n",
    "    \"\"\"\n",
    "    Algortihm that charges at the maximum rate allowed by environment.\n",
    "    \"\"\"\n",
    "    def get_action(self, observation: dict[str, Any]) -> np.ndarray:\n",
    "        \"\"\"\n",
    "        Charge at the maximum allowed rate by the gym for cars that\n",
    "        have positive demands.\n",
    "        \"\"\"\n",
    "        return np.zeros(shape=observation[\"demands\"].shape)\n",
    "\n",
    "\n",
    "class DumbAlgorithm(BaseOnlineAlgorithm):\n",
    "    def get_action(self, observation: dict[str, Any]) -> np.ndarray:\n",
    "        return np.ones(shape=observation[\"demands\"].shape) * MAX_ACTION\n",
    "\n",
    "class RandomAlgorithm(BaseOnlineAlgorithm):\n",
    "    def get_action(self, observation: dict[str, Any]) -> np.ndarray:\n",
    "        return np.random.randint(5, size=observation[\"demands\"].shape)\n",
    "\n",
    "class GreedyAlgorithm(BaseOnlineAlgorithm):\n",
    "    \"\"\"\n",
    "    Algorithm that charges at the maximum rate respecting network\n",
    "    constraints.\n",
    "    \"\"\"\n",
    "    def get_action(self, observation: dict[str, Any]) -> np.ndarray:\n",
    "        \"\"\"\n",
    "        \n",
    "        \"\"\"\n",
    "\n",
    "uncontrolled = UncontrolledChargingAlgorithm(env)\n",
    "print(\"uncontrolled reward: \", uncontrolled.run())\n",
    "\n",
    "no_charging = NoChargingAlgorithm(env)\n",
    "print(\"no charging reward: \", no_charging.run())\n",
    "\n",
    "dumb = DumbAlgorithm(env)\n",
    "print(\"dumb reward: \", dumb.run())\n",
    "\n",
    "random = RandomAlgorithm(env)\n",
    "print(\"random reward: \", uncontrolled.run())\n"
   ]
  },
  {
   "cell_type": "code",
   "execution_count": null,
   "metadata": {},
   "outputs": [],
   "source": [
    "from acnportal.acnsim.network.sites import caltech_acn\n",
    "\n",
    "acn = caltech_acn()\n",
    "constraint_\n",
    "\n",
    "    current_sum = np.real(simulator.network.constraint_current(schedule, linear=False))\n",
    "    magnitudes = simulator.network.magnitudes\n",
    "    over_current = np.maximum(current_sum - magnitudes, 0)\n",
    "    constraint_punishment = - CONSTRAINT_VIOLATION_WEIGHT * sum(over_current) * timestamp_diff\n"
   ]
  },
  {
   "cell_type": "code",
   "execution_count": 48,
   "metadata": {},
   "outputs": [
    {
     "name": "stdout",
     "output_type": "stream",
     "text": [
      "68 175 52.2 CA-309\n",
      "amp period:  3011.5384615384614\n",
      "78 222 18.0 CA-327\n",
      "amp period:  1038.4615384615386\n",
      "85 168 21.84 CA-321\n",
      "amp period:  1260.0\n",
      "86 146 20.02 CA-494\n",
      "amp period:  1155.0\n",
      "95 208 20.0 CA-303\n",
      "amp period:  1153.8461538461538\n",
      "96 230 11.5 CA-311\n",
      "amp period:  663.4615384615385\n",
      "100 195 8.0 CA-496\n",
      "amp period:  461.53846153846155\n",
      "116 216 16.0 CA-490\n",
      "amp period:  923.0769230769231\n",
      "100 211 20.0 CA-313\n",
      "amp period:  1153.8461538461538\n",
      "122 141 40.0 CA-324\n",
      "amp period:  2307.6923076923076\n",
      "82 193 12.52 CA-489\n",
      "amp period:  722.3076923076923\n",
      "128 206 27.5 CA-319\n",
      "amp period:  1586.5384615384614\n",
      "100 223 30.0 CA-307\n",
      "amp period:  1730.769230769231\n",
      "133 164 8.0 CA-500\n",
      "amp period:  461.53846153846155\n",
      "147 266 16.0 CA-324\n",
      "amp period:  923.0769230769231\n",
      "101 210 9.39 CA-304\n",
      "amp period:  541.7307692307693\n",
      "150 230 5.0 CA-494\n",
      "amp period:  288.46153846153845\n",
      "158 205 15.0 CA-503\n",
      "amp period:  865.3846153846155\n",
      "101 215 35.0 CA-314\n",
      "amp period:  2019.230769230769\n",
      "158 205 12.75 CA-149\n",
      "amp period:  735.5769230769231\n",
      "159 218 8.0 CA-504\n",
      "amp period:  461.53846153846155\n",
      "105 218 20.0 CA-493\n",
      "amp period:  1153.8461538461538\n",
      "169 195 24.0 CA-321\n",
      "amp period:  1384.6153846153845\n",
      "106 213 20.0 CA-491\n",
      "amp period:  1153.8461538461538\n",
      "99 242 20.0 CA-317\n",
      "amp period:  1153.8461538461538\n",
      "107 210 10.0 CA-315\n",
      "amp period:  576.9230769230769\n",
      "108 229 6.0 CA-318\n",
      "amp period:  346.15384615384613\n",
      "84 197 23.1 CA-497\n",
      "amp period:  1332.6923076923076\n",
      "108 207 8.0 CA-501\n",
      "amp period:  461.53846153846155\n",
      "99 214 12.0 CA-325\n",
      "amp period:  692.3076923076923\n",
      "109 231 6.0 CA-320\n",
      "amp period:  346.15384615384613\n",
      "110 202 15.0 CA-511\n",
      "amp period:  865.3846153846155\n",
      "112 189 7.5 CA-316\n",
      "amp period:  432.69230769230774\n",
      "227 243 17.3 CA-309\n",
      "amp period:  998.0769230769231\n",
      "228 258 32.62 CA-304\n",
      "amp period:  1881.923076923077\n",
      "234 259 24.0 CA-307\n",
      "amp period:  1384.6153846153845\n"
     ]
    }
   ],
   "source": [
    "from acnportal.acnsim.events import RecomputeEvent, PluginEvent\n",
    "from acnportal.acnsim.models.ev import EV\n",
    "\n",
    "from sustaingym.envs.evcharging.actions import ACTION_DISCRETIZATION_FACTOR\n",
    "\n",
    "# def extract_total_info(env: EVChargingEnv):\n",
    "#     num_stations, max_timestamp = env.num_stations, env.max_timestamp\n",
    "#     queue = env.events._queue\n",
    "\n",
    "#     arrivals = np.zeros(shape=(num_stations, max_timestamp), dtype=np.int32)\n",
    "\n",
    "\n",
    "\n",
    "#     obs = {\n",
    "#         \"arrivals\": arrivals,\n",
    "#         \"est_departures\": est_departures,\n",
    "#         \"constraint_matrix\": constraint_matrix,\n",
    "#         \"magnitudes\": magnitudes,\n",
    "#         \"demands\": demands,\n",
    "#         \"phases\": phases,\n",
    "#         \"timestep\": np_timestep,\n",
    "#     }\n",
    "\n",
    "for event in env.events._queue:\n",
    "    if type(event[1]) == PluginEvent:\n",
    "        ev: EV = event[1].ev\n",
    "        print(ev.arrival, ev.departure, ev.requested_energy, ev.station_id)\n",
    "        ap = env.interface._convert_to_amp_periods(ev.requested_energy, ev.station_id)\n",
    "        print(\"amp period: \", ap)\n",
    "        # convert requested energy to A * period\n"
   ]
  },
  {
   "cell_type": "code",
   "execution_count": 14,
   "metadata": {},
   "outputs": [],
   "source": [
    "observation = env.reset()\n",
    "\n",
    "done = False\n",
    "i = 0\n",
    "action = np.ones(shape=(54,), ) * j\n",
    "while not done:\n",
    "    observation, reward, done, info = env.step(action)\n",
    "    # for x in [\"charging_cost\", \"charging_reward\", \"constraint_punishment\", \"remaining_amp_periods_punishment\"]:\n",
    "        # d[x].append(info[x])\n",
    "    # d[\"reward\"].append(reward)\n",
    "    print(observation['demands'][3])\n",
    "    i += 1\n",
    "# for k, v in d.items():\n",
    "#     print(k)\n",
    "#     d[k] = np.array(v)\n",
    "#     print(d[k].min(), d[k].max(), d[k].mean(), d[k].sum())\n",
    "\n",
    "print()\n",
    "print()"
   ]
  },
  {
   "cell_type": "code",
   "execution_count": 15,
   "metadata": {},
   "outputs": [],
   "source": [
    "obs2 = env.reset()"
   ]
  },
  {
   "cell_type": "code",
   "execution_count": null,
   "metadata": {},
   "outputs": [],
   "source": []
  },
  {
   "cell_type": "code",
   "execution_count": 20,
   "metadata": {},
   "outputs": [
    {
     "name": "stdout",
     "output_type": "stream",
     "text": [
      "True\n",
      "True\n",
      "True\n",
      "True\n",
      "True\n",
      "True\n",
      "True\n"
     ]
    }
   ],
   "source": [
    "for key in obs1:\n",
    "    print(np.all(obs1[key] == obs2[key]))"
   ]
  },
  {
   "cell_type": "code",
   "execution_count": null,
   "metadata": {},
   "outputs": [],
   "source": []
  }
 ],
 "metadata": {
  "kernelspec": {
   "display_name": "Python 3.9.13 ('sustaingym_norl')",
   "language": "python",
   "name": "python3"
  },
  "language_info": {
   "codemirror_mode": {
    "name": "ipython",
    "version": 3
   },
   "file_extension": ".py",
   "mimetype": "text/x-python",
   "name": "python",
   "nbconvert_exporter": "python",
   "pygments_lexer": "ipython3",
   "version": "3.9.13"
  },
  "orig_nbformat": 4,
  "vscode": {
   "interpreter": {
    "hash": "354cd8c0c5aa6cfdd8898b92cf97d04efc976cebcb7bc7313f68bbcab10eff47"
   }
  }
 },
 "nbformat": 4,
 "nbformat_minor": 2
}
