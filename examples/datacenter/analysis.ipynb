{
 "cells": [
  {
   "cell_type": "markdown",
   "metadata": {},
   "source": [
    "## Analysis of results on DataCenterEnv"
   ]
  },
  {
   "cell_type": "code",
   "execution_count": null,
   "metadata": {},
   "outputs": [],
   "source": [
    "%load_ext autoreload\n",
    "%autoreload 2\n",
    "%matplotlib inline\n",
    "%cd ../.."
   ]
  },
  {
   "cell_type": "code",
   "execution_count": null,
   "metadata": {},
   "outputs": [],
   "source": [
    "import os\n",
    "\n",
    "import matplotlib.pyplot as plt\n",
    "import pandas as pd\n",
    "import seaborn as sns\n",
    "\n",
    "sns.set_style('darkgrid')"
   ]
  },
  {
   "cell_type": "code",
   "execution_count": null,
   "metadata": {},
   "outputs": [],
   "source": [
    "def read_results_csv(filename):\n",
    "    csv_path = os.path.join('logs', 'datacenter', filename)\n",
    "    df = pd.read_csv(csv_path)\n",
    "    if 'Unnamed: 0' in df.columns:\n",
    "        df.drop('Unnamed: 0', axis=1, inplace=True)\n",
    "    df['setup'] = df[['train_carbon_yr', 'test_carbon_yr']].agg(tuple, axis=1)\n",
    "    df = df[df['setup'].isin(((2019, 2021), (2021, 2021)))]\n",
    "    df.rename(columns={'train_carbon_yr': 'trained on'}, inplace=True)\n",
    "    return df"
   ]
  },
  {
   "cell_type": "code",
   "execution_count": null,
   "metadata": {},
   "outputs": [],
   "source": [
    "dfs = []\n",
    "filenames = ['all_MPC.csv', 'all_PPO.csv', 'all_SAC.csv', 'all_DDPG.csv']\n",
    "for filename in filenames:\n",
    "    df = read_results_csv(filename)\n",
    "    if 'MPC' in filename:\n",
    "        df = df[df['setup'] == (2021, 2021)]\n",
    "    dfs.append(df)\n",
    "df = pd.concat(dfs)"
   ]
  },
  {
   "cell_type": "code",
   "execution_count": null,
   "metadata": {},
   "outputs": [],
   "source": [
    "fig, ax = plt.subplots(1, 1, figsize=(5, 3), tight_layout=True)\n",
    "sns.violinplot(df, x='model', y='reward', hue='trained on', ax=ax,\n",
    "               hue_order=[2019, 2021])\n",
    "ax.set(xlabel='Algorithm', ylabel='Daily Return ($)')\n",
    "ax.axvline(0.5, linestyle=':', color='black')\n",
    "fig.savefig('plots/datacenter/violinplot.png', bbox_inches='tight', dpi=300)"
   ]
  }
 ],
 "metadata": {
  "kernelspec": {
   "display_name": "sustaingym0604_latest",
   "language": "python",
   "name": "python3"
  },
  "language_info": {
   "codemirror_mode": {
    "name": "ipython",
    "version": 3
   },
   "file_extension": ".py",
   "mimetype": "text/x-python",
   "name": "python",
   "nbconvert_exporter": "python",
   "pygments_lexer": "ipython3",
   "version": "3.9.16"
  },
  "orig_nbformat": 4
 },
 "nbformat": 4,
 "nbformat_minor": 2
}
