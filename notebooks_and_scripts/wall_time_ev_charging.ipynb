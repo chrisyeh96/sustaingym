{
 "cells": [
  {
   "cell_type": "code",
   "execution_count": 1,
   "metadata": {},
   "outputs": [
    {
     "name": "stdout",
     "output_type": "stream",
     "text": [
      "/home/ubuntu/sustaingym\n"
     ]
    }
   ],
   "source": [
    "# 0 -> 36 \n",
    "%cd ..\n",
    "%load_ext autoreload\n",
    "%autoreload 2\n",
    "%matplotlib inline"
   ]
  },
  {
   "cell_type": "markdown",
   "metadata": {},
   "source": [
    "# Wall Time per Timestep and Episode"
   ]
  },
  {
   "cell_type": "code",
   "execution_count": 2,
   "metadata": {},
   "outputs": [
    {
     "name": "stdout",
     "output_type": "stream",
     "text": [
      "EVChargingEnv: site == caltech, action_type == discrete, project_action == False, using real traces == True\n",
      "Time for imports and initializing gyms: 12.54 s\n",
      "Run time: 118.79 s\n",
      "Run time / episode: 1.19 s\n",
      "Run time / 1000 timesteps: 7.25 s\n",
      "Reward for random agent: -16.08 +/- 18.58\n",
      "Episode length: 163.84 +/- 9.11 timesteps\n",
      "\n",
      "EVChargingEnv: site == caltech, action_type == discrete, project_action == False, using real traces == False\n",
      "Time for imports and initializing gyms: 0.16 s\n",
      "Run time: 114.47 s\n",
      "Run time / episode: 1.14 s\n",
      "Run time / 1000 timesteps: 6.98 s\n",
      "Reward for random agent: -17.97 +/- 18.13\n",
      "Episode length: 164.06 +/- 9.57 timesteps\n",
      "\n",
      "EVChargingEnv: site == caltech, action_type == discrete, project_action == True, using real traces == True\n",
      "Time for imports and initializing gyms: 13.11 s\n",
      "Run time: 184.14 s\n",
      "Run time / episode: 1.84 s\n",
      "Run time / 1000 timesteps: 11.24 s\n",
      "Reward for random agent: 25.58 +/- 14.45\n",
      "Episode length: 163.84 +/- 9.11 timesteps\n",
      "\n",
      "EVChargingEnv: site == caltech, action_type == discrete, project_action == True, using real traces == False\n",
      "Time for imports and initializing gyms: 0.16 s\n",
      "Run time: 228.06 s\n",
      "Run time / episode: 2.28 s\n",
      "Run time / 1000 timesteps: 13.92 s\n",
      "Reward for random agent: 24.77 +/- 13.42\n",
      "Episode length: 163.81 +/- 9.21 timesteps\n",
      "\n",
      "EVChargingEnv: site == caltech, action_type == continuous, project_action == False, using real traces == True\n",
      "Time for imports and initializing gyms: 13.28 s\n",
      "Run time: 118.50 s\n",
      "Run time / episode: 1.18 s\n",
      "Run time / 1000 timesteps: 7.23 s\n",
      "Reward for random agent: -14.28 +/- 18.36\n",
      "Episode length: 163.84 +/- 9.11 timesteps\n",
      "\n",
      "EVChargingEnv: site == caltech, action_type == continuous, project_action == False, using real traces == False\n",
      "Time for imports and initializing gyms: 0.18 s\n",
      "Run time: 155.46 s\n",
      "Run time / episode: 1.55 s\n",
      "Run time / 1000 timesteps: 9.51 s\n",
      "Reward for random agent: -16.27 +/- 17.65\n",
      "Episode length: 163.48 +/- 9.52 timesteps\n",
      "\n",
      "EVChargingEnv: site == caltech, action_type == continuous, project_action == True, using real traces == True\n",
      "Time for imports and initializing gyms: 13.50 s\n",
      "Run time: 191.21 s\n",
      "Run time / episode: 1.91 s\n",
      "Run time / 1000 timesteps: 11.67 s\n",
      "Reward for random agent: 25.24 +/- 14.23\n",
      "Episode length: 163.84 +/- 9.11 timesteps\n",
      "\n",
      "EVChargingEnv: site == caltech, action_type == continuous, project_action == True, using real traces == False\n",
      "Time for imports and initializing gyms: 0.37 s\n",
      "Run time: 219.81 s\n",
      "Run time / episode: 2.20 s\n",
      "Run time / 1000 timesteps: 13.43 s\n",
      "Reward for random agent: 24.37 +/- 13.49\n",
      "Episode length: 163.72 +/- 9.45 timesteps\n",
      "\n"
     ]
    }
   ],
   "source": [
    "import time\n",
    "import numpy as np\n",
    "np.random.seed(42)\n",
    "\n",
    "from sustaingym.envs.evcharging import GMMsTraceGenerator, EVChargingEnv, RealTraceGenerator\n",
    "NUM_RUNS = 100\n",
    "\n",
    "run_time_per_1000 = {}\n",
    "avg_eps_length = {}\n",
    "\n",
    "for site in ['caltech']: #, 'jpl']:\n",
    "    for action_type in ['discrete', 'continuous']:\n",
    "        for project_action in [False, True]:\n",
    "            for real in [True, False]:\n",
    "                start = time.time()\n",
    "\n",
    "                if real:\n",
    "                    gen = RealTraceGenerator(site=site, date_period=('2019-05-01', '2019-08-31'))\n",
    "                else:\n",
    "                    gen = GMMsTraceGenerator(site=site, date_period=('2019-05-01', '2019-08-31'), n_components=50)\n",
    "\n",
    "                env = EVChargingEnv(gen, action_type=action_type, project_action=project_action)\n",
    "\n",
    "                setup_time = time.time() - start\n",
    "                print(f\"EVChargingEnv: site == {site}, action_type == {action_type}, project_action == {project_action}, using real traces == {real}\")\n",
    "                print(f\"Time for imports and initializing gyms: {setup_time:.2f} s\")\n",
    "\n",
    "                all_rewards = []\n",
    "                episode_length = []\n",
    "\n",
    "                run_time_start = time.time()\n",
    "                for _ in range(NUM_RUNS):\n",
    "                    observation = env.reset()\n",
    "                    done, rewards, episode_timesteps = False, 0., 0.\n",
    "\n",
    "                    while not done:\n",
    "                        action = env.action_space.sample()  # random action\n",
    "                        observation, reward, done, info = env.step(action)\n",
    "\n",
    "                        rewards += reward\n",
    "                        episode_timesteps += 1\n",
    "\n",
    "                    all_rewards.append(rewards)\n",
    "                    episode_length.append(episode_timesteps)\n",
    "                run_time = time.time() - run_time_start\n",
    "\n",
    "                all_rewards = np.array(all_rewards)\n",
    "                episode_length = np.array(episode_length)\n",
    "\n",
    "                run_time_per_1000[(site, action_type, project_action, real)] = run_time * 1000 / np.sum(episode_length)\n",
    "                avg_eps_length[(site, action_type, project_action, real)] = np.mean(episode_length)\n",
    "\n",
    "                print(f\"Run time: {run_time:.2f} s\")\n",
    "                print(f\"Run time / episode: {run_time / NUM_RUNS:.2f} s\")\n",
    "                print(f\"Run time / 1000 timesteps: {run_time * 1000 / np.sum(episode_length):.2f} s\")\n",
    "                print(f\"Reward for random agent: {np.mean(all_rewards):.2f} +/- {np.std(all_rewards):.2f}\")\n",
    "                print(f\"Episode length: {np.mean(episode_length):.2f} +/- {np.std(episode_length):.2f} timesteps\\n\")\n",
    "\n",
    "                env.close()\n"
   ]
  },
  {
   "cell_type": "code",
   "execution_count": 3,
   "metadata": {},
   "outputs": [
    {
     "data": {
      "text/plain": [
       "site     action_type  project_action  real_traces\n",
       "caltech  discrete     False           True            7.250130\n",
       "                                      False           6.977204\n",
       "                      True            True           11.239038\n",
       "                                      False          13.922454\n",
       "         continuous   False           True            7.232652\n",
       "                                      False           9.509491\n",
       "                      True            True           11.670788\n",
       "                                      False          13.426140\n",
       "dtype: float64"
      ]
     },
     "metadata": {},
     "output_type": "display_data"
    },
    {
     "data": {
      "text/plain": [
       "site     action_type  project_action  real_traces\n",
       "caltech  discrete     False           True           163.84\n",
       "                                      False          164.06\n",
       "                      True            True           163.84\n",
       "                                      False          163.81\n",
       "         continuous   False           True           163.84\n",
       "                                      False          163.48\n",
       "                      True            True           163.84\n",
       "                                      False          163.72\n",
       "dtype: float64"
      ]
     },
     "metadata": {},
     "output_type": "display_data"
    }
   ],
   "source": [
    "import pandas as pd\n",
    "\n",
    "idx = pd.MultiIndex.from_tuples(run_time_per_1000.keys(), names=['site', 'action_type', 'project_action', 'real_traces'])\n",
    "\n",
    "run_times_per_1000 = pd.Series(run_time_per_1000.values(), index=idx)\n",
    "avg_eps_length = pd.Series(avg_eps_length.values(), index=idx)\n",
    "\n",
    "pd.DataFrame([run_times_per_1000, avg_eps_length])\n",
    "\n",
    "display(run_times_per_1000)\n",
    "display(avg_eps_length)"
   ]
  },
  {
   "cell_type": "code",
   "execution_count": 4,
   "metadata": {},
   "outputs": [],
   "source": [
    "df = pd.DataFrame([run_time_per_1000, avg_eps_length], index=['run_times_per_1000', 'avg_eps_length'])\n",
    "df\n",
    "df.to_csv('./logs/wall_time/times.csv', index=True)"
   ]
  },
  {
   "cell_type": "code",
   "execution_count": 16,
   "metadata": {},
   "outputs": [
    {
     "data": {
      "text/html": [
       "<div>\n",
       "<style scoped>\n",
       "    .dataframe tbody tr th:only-of-type {\n",
       "        vertical-align: middle;\n",
       "    }\n",
       "\n",
       "    .dataframe tbody tr th {\n",
       "        vertical-align: top;\n",
       "    }\n",
       "\n",
       "    .dataframe thead th {\n",
       "        text-align: right;\n",
       "    }\n",
       "</style>\n",
       "<table border=\"1\" class=\"dataframe\">\n",
       "  <thead>\n",
       "    <tr style=\"text-align: right;\">\n",
       "      <th></th>\n",
       "      <th>('caltech', 'discrete', False, True)</th>\n",
       "      <th>('caltech', 'discrete', False, False)</th>\n",
       "      <th>('caltech', 'discrete', True, True)</th>\n",
       "      <th>('caltech', 'discrete', True, False)</th>\n",
       "      <th>('caltech', 'continuous', False, True)</th>\n",
       "      <th>('caltech', 'continuous', False, False)</th>\n",
       "      <th>('caltech', 'continuous', True, True)</th>\n",
       "      <th>('caltech', 'continuous', True, False)</th>\n",
       "    </tr>\n",
       "  </thead>\n",
       "  <tbody>\n",
       "    <tr>\n",
       "      <th>run_times_per_1000</th>\n",
       "      <td>7.25013</td>\n",
       "      <td>6.977204</td>\n",
       "      <td>11.239038</td>\n",
       "      <td>13.922454</td>\n",
       "      <td>7.232652</td>\n",
       "      <td>9.509491</td>\n",
       "      <td>11.670788</td>\n",
       "      <td>13.42614</td>\n",
       "    </tr>\n",
       "    <tr>\n",
       "      <th>avg_eps_length</th>\n",
       "      <td>163.84000</td>\n",
       "      <td>164.060000</td>\n",
       "      <td>163.840000</td>\n",
       "      <td>163.810000</td>\n",
       "      <td>163.840000</td>\n",
       "      <td>163.480000</td>\n",
       "      <td>163.840000</td>\n",
       "      <td>163.72000</td>\n",
       "    </tr>\n",
       "  </tbody>\n",
       "</table>\n",
       "</div>"
      ],
      "text/plain": [
       "                    ('caltech', 'discrete', False, True)  \\\n",
       "run_times_per_1000                               7.25013   \n",
       "avg_eps_length                                 163.84000   \n",
       "\n",
       "                    ('caltech', 'discrete', False, False)  \\\n",
       "run_times_per_1000                               6.977204   \n",
       "avg_eps_length                                 164.060000   \n",
       "\n",
       "                    ('caltech', 'discrete', True, True)  \\\n",
       "run_times_per_1000                            11.239038   \n",
       "avg_eps_length                               163.840000   \n",
       "\n",
       "                    ('caltech', 'discrete', True, False)  \\\n",
       "run_times_per_1000                             13.922454   \n",
       "avg_eps_length                                163.810000   \n",
       "\n",
       "                    ('caltech', 'continuous', False, True)  \\\n",
       "run_times_per_1000                                7.232652   \n",
       "avg_eps_length                                  163.840000   \n",
       "\n",
       "                    ('caltech', 'continuous', False, False)  \\\n",
       "run_times_per_1000                                 9.509491   \n",
       "avg_eps_length                                   163.480000   \n",
       "\n",
       "                    ('caltech', 'continuous', True, True)  \\\n",
       "run_times_per_1000                              11.670788   \n",
       "avg_eps_length                                 163.840000   \n",
       "\n",
       "                    ('caltech', 'continuous', True, False)  \n",
       "run_times_per_1000                                13.42614  \n",
       "avg_eps_length                                   163.72000  "
      ]
     },
     "execution_count": 16,
     "metadata": {},
     "output_type": "execute_result"
    }
   ],
   "source": [
    "pd.read_csv('./logs/wall_time/times.csv', index_col=0)"
   ]
  },
  {
   "cell_type": "code",
   "execution_count": 5,
   "metadata": {},
   "outputs": [
    {
     "data": {
      "text/plain": [
       "11.670788138872012"
      ]
     },
     "execution_count": 5,
     "metadata": {},
     "output_type": "execute_result"
    }
   ],
   "source": [
    "df[('caltech', 'continuous', True, True)].loc['run_times_per_1000']"
   ]
  },
  {
   "cell_type": "code",
   "execution_count": 6,
   "metadata": {},
   "outputs": [],
   "source": [
    "import matplotlib.pyplot as plt\n",
    "import seaborn as sns\n",
    "sns.set_style(\"darkgrid\", {\"grid.color\": \".6\", \"grid.linestyle\": \":\"})\n"
   ]
  },
  {
   "cell_type": "code",
   "execution_count": 15,
   "metadata": {},
   "outputs": [
    {
     "data": {
      "image/png": "[encoded data removed]",
      "text/plain": [
       "<Figure size 432x288 with 1 Axes>"
      ]
     },
     "metadata": {},
     "output_type": "display_data"
    }
   ],
   "source": [
    "labels = [\n",
    "    'RT w/ AP', 'RT w/o AP',\n",
    "    'GS w/ AP', 'GS w/o AP',\n",
    "]\n",
    "\n",
    "run_times_cont = [\n",
    "    df[('caltech', 'continuous', True, True)].loc['run_times_per_1000'],\n",
    "    df[('caltech', 'continuous', False, True)].loc['run_times_per_1000'],\n",
    "    df[('caltech', 'continuous', True, False)].loc['run_times_per_1000'],\n",
    "    df[('caltech', 'continuous', False, False)].loc['run_times_per_1000'],\n",
    "\n",
    "]\n",
    "run_times_disc = [\n",
    "    df[('caltech', 'discrete', True, True)].loc['run_times_per_1000'],\n",
    "    df[('caltech', 'discrete', False, True)].loc['run_times_per_1000'],\n",
    "    df[('caltech', 'discrete', True, False)].loc['run_times_per_1000'],\n",
    "    df[('caltech', 'discrete', False, False)].loc['run_times_per_1000'],\n",
    "]\n",
    "\n",
    "x = np.arange(4)  # the label locations\n",
    "width = 0.35  # the width of the bars\n",
    "\n",
    "fig, ax = plt.subplots()\n",
    "rects1 = ax.bar(x - width/2, run_times_cont, width, label='continuous actions')\n",
    "rects2 = ax.bar(x + width/2, run_times_disc, width, label='discrete actions')\n",
    "\n",
    "# Add some text for labels, title and custom x-axis tick labels, etc.\n",
    "ax.set_ylabel('Time (s)')\n",
    "ax.set_title('Wall Time / 1,000 Timesteps: Caltech 05/01/2019 - 08/31/2019')\n",
    "ax.set_xticks(x, labels)\n",
    "ax.legend(bbox_to_anchor=[1, 0.5])\n",
    "\n",
    "ax.annotate('RT: real trace', xy=[-0.25, 14])\n",
    "ax.annotate('GS: GMM samples', xy=[-0.25, 13])\n",
    "ax.annotate('AP: action projection', xy=[-0.25, 12])\n",
    "\n",
    "# ax.bar_label(rects1, padding=3)\n",
    "# ax.bar_label(rects2, padding=3)\n",
    "\n",
    "fig.tight_layout()\n",
    "\n",
    "plt.show()"
   ]
  },
  {
   "cell_type": "code",
   "execution_count": null,
   "metadata": {},
   "outputs": [],
   "source": []
  }
 ],
 "metadata": {
  "kernelspec": {
   "display_name": "Python 3.9.13 ('sustaingym')",
   "language": "python",
   "name": "python3"
  },
  "language_info": {
   "codemirror_mode": {
    "name": "ipython",
    "version": 3
   },
   "file_extension": ".py",
   "mimetype": "text/x-python",
   "name": "python",
   "nbconvert_exporter": "python",
   "pygments_lexer": "ipython3",
   "version": "3.9.13"
  },
  "orig_nbformat": 4,
  "vscode": {
   "interpreter": {
    "hash": "c910351b0c3a4aade2cf03b555240fe9951314ae7b50b4f56bc279231ceafe8d"
   }
  }
 },
 "nbformat": 4,
 "nbformat_minor": 2
}
