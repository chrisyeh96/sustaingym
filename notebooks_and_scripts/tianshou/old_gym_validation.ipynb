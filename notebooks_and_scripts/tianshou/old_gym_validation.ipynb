{
 "cells": [
  {
   "cell_type": "code",
   "execution_count": 1,
   "metadata": {},
   "outputs": [
    {
     "name": "stdout",
     "output_type": "stream",
     "text": [
      "/home/ubuntu/sustaingym\n"
     ]
    }
   ],
   "source": [
    "%load_ext autoreload\n",
    "%autoreload 2\n",
    "%matplotlib inline\n",
    "%cd ../.."
   ]
  },
  {
   "cell_type": "code",
   "execution_count": 2,
   "metadata": {},
   "outputs": [
    {
     "name": "stdout",
     "output_type": "stream",
     "text": [
      "vectorized shape:  (147,)\n",
      "dict_keys(['num_evs', 'avg_plugin_time', 'max_profit', 'reward_breakdown', 'evs', 'active_evs', 'moer', 'pilot_signals'])\n",
      "288\n",
      "dict_keys(['num_evs', 'avg_plugin_time', 'max_profit', 'reward_breakdown', 'evs', 'active_evs', 'moer', 'pilot_signals'])\n",
      "{'profit': 5.689446962941684, 'carbon_cost': 1.4659707465512641, 'excess_charge': 0.0}\n"
     ]
    }
   ],
   "source": [
    "from sustaingym.envs.evcharging import RealTraceGenerator\n",
    "from sustaingym.envs.evcharging.ev_charging_old import EVChargingEnv\n",
    "import numpy as np\n",
    "\n",
    "test_ranges = (\n",
    "    ('2019-05-01', '2019-08-31'),\n",
    "    ('2019-09-01', '2019-12-31'),\n",
    "    ('2020-02-01', '2020-05-31'),\n",
    "    ('2021-05-01', '2021-08-31'),\n",
    ")\n",
    "\n",
    "env = EVChargingEnv(RealTraceGenerator('caltech', test_ranges[0]))\n",
    "\n",
    "done = False\n",
    "obs, episode_info = env.reset(seed=100, return_info=True)\n",
    "steps = 0\n",
    "while not done:\n",
    "    action = np.ones((54,))\n",
    "    obs, reward, done, info = env.step(action, return_info=True)\n",
    "    if steps==100:\n",
    "        print(info.keys())\n",
    "    steps += 1\n",
    "\n",
    "print(steps)\n",
    "print(info.keys())\n",
    "print(info['reward_breakdown'])"
   ]
  },
  {
   "cell_type": "code",
   "execution_count": null,
   "metadata": {},
   "outputs": [],
   "source": []
  }
 ],
 "metadata": {
  "kernelspec": {
   "display_name": "sustaingymnasium",
   "language": "python",
   "name": "python3"
  },
  "language_info": {
   "codemirror_mode": {
    "name": "ipython",
    "version": 3
   },
   "file_extension": ".py",
   "mimetype": "text/x-python",
   "name": "python",
   "nbconvert_exporter": "python",
   "pygments_lexer": "ipython3",
   "version": "3.9.16"
  },
  "orig_nbformat": 4,
  "vscode": {
   "interpreter": {
    "hash": "6ab2ea4418bedbee9b365d738d8cc70266502c8c268c2757070eda279d9f6b4d"
   }
  }
 },
 "nbformat": 4,
 "nbformat_minor": 2
}
