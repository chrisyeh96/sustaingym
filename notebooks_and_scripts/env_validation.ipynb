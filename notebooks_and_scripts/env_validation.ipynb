{
 "cells": [
  {
   "cell_type": "code",
   "execution_count": 1,
   "metadata": {},
   "outputs": [
    {
     "name": "stdout",
     "output_type": "stream",
     "text": [
      "/home/ubuntu/sustaingym\n"
     ]
    }
   ],
   "source": [
    "%load_ext autoreload\n",
    "%autoreload 2\n",
    "%matplotlib inline\n",
    "%cd .."
   ]
  },
  {
   "cell_type": "markdown",
   "metadata": {},
   "source": [
    "# Scripts for generating events and running environment"
   ]
  },
  {
   "cell_type": "code",
   "execution_count": 2,
   "metadata": {},
   "outputs": [],
   "source": [
    "from datetime import datetime, timedelta\n",
    "import os\n",
    "import pytz\n",
    "\n",
    "import matplotlib.pyplot as plt\n",
    "import numpy as np\n",
    "import pandas as pd\n",
    "import seaborn as sns\n",
    "sns.set_style(\"darkgrid\")\n",
    "\n",
    "from sustaingym.data.load_moer import load_monthly_moer\n",
    "from sustaingym.envs.evcharging import EVChargingEnv, RealTraceGenerator, GMMsTraceGenerator\n",
    "from sustaingym.algorithms.evcharging.base_algorithm import GreedyAlgorithm, RandomAlgorithm, RLAlgorithm, MPC\n",
    "\n",
    "\n",
    "test_ranges = (\n",
    "    ('2019-05-01', '2019-08-31'),\n",
    "    ('2019-09-01', '2019-12-31'),\n",
    "    ('2020-02-01', '2020-05-31'),\n",
    "    ('2021-05-01', '2021-08-31'),\n",
    ")\n"
   ]
  },
  {
   "cell_type": "markdown",
   "metadata": {},
   "source": [
    "## Real trace generator"
   ]
  },
  {
   "cell_type": "code",
   "execution_count": 3,
   "metadata": {},
   "outputs": [
    {
     "name": "stdout",
     "output_type": "stream",
     "text": [
      "testing:  caltech ('2019-05-01', '2019-08-31')\n",
      "RealTracesGenerator from the Caltech site from 2019-05-01 to 2019-08-31. Current day 2019-08-31. \n",
      "testing:  caltech ('2019-09-01', '2019-12-31')\n",
      "RealTracesGenerator from the Caltech site from 2019-09-01 to 2019-12-31. Current day 2019-09-01. \n",
      "testing:  caltech ('2020-02-01', '2020-05-31')\n",
      "RealTracesGenerator from the Caltech site from 2020-02-01 to 2020-05-31. Current day 2020-02-02. \n",
      "testing:  caltech ('2021-05-01', '2021-08-31')\n",
      "RealTracesGenerator from the Caltech site from 2021-05-01 to 2021-08-31. Current day 2021-08-31. \n",
      "testing:  jpl ('2019-05-01', '2019-08-31')\n",
      "RealTracesGenerator from the Jpl site from 2019-05-01 to 2019-08-31. Current day 2019-08-31. \n",
      "testing:  jpl ('2019-09-01', '2019-12-31')\n",
      "RealTracesGenerator from the Jpl site from 2019-09-01 to 2019-12-31. Current day 2019-09-01. \n",
      "testing:  jpl ('2020-02-01', '2020-05-31')\n",
      "RealTracesGenerator from the Jpl site from 2020-02-01 to 2020-05-31. Current day 2020-02-02. \n",
      "testing:  jpl ('2021-05-01', '2021-08-31')\n",
      "RealTracesGenerator from the Jpl site from 2021-05-01 to 2021-08-31. Current day 2021-08-31. \n"
     ]
    }
   ],
   "source": [
    "for site in ['caltech', 'jpl']:\n",
    "    for test_range in test_ranges:\n",
    "        print('testing: ', site, test_range)\n",
    "        rtg = RealTraceGenerator(site, test_range)\n",
    "        for _ in range(123):  # 4 months -> 123 days maximum\n",
    "            _, _, num_plug_events = rtg.get_event_queue()\n",
    "        print(rtg)"
   ]
  },
  {
   "cell_type": "markdown",
   "metadata": {},
   "source": [
    "## GMMs trace generator"
   ]
  },
  {
   "cell_type": "code",
   "execution_count": 4,
   "metadata": {},
   "outputs": [
    {
     "name": "stdout",
     "output_type": "stream",
     "text": [
      "testing:  caltech ('2019-05-01', '2019-08-31')\n",
      "GMMsTracesGenerator from the Caltech site from 2019-05-01 to 2019-08-31. Sampler is GMM with 30 components. \n",
      "testing:  caltech ('2019-09-01', '2019-12-31')\n",
      "GMMsTracesGenerator from the Caltech site from 2019-09-01 to 2019-12-31. Sampler is GMM with 30 components. \n",
      "testing:  caltech ('2020-02-01', '2020-05-31')\n",
      "GMMsTracesGenerator from the Caltech site from 2020-02-01 to 2020-05-31. Sampler is GMM with 30 components. \n",
      "testing:  caltech ('2021-05-01', '2021-08-31')\n",
      "GMMsTracesGenerator from the Caltech site from 2021-05-01 to 2021-08-31. Sampler is GMM with 30 components. \n",
      "testing:  jpl ('2019-05-01', '2019-08-31')\n",
      "GMMsTracesGenerator from the Jpl site from 2019-05-01 to 2019-08-31. Sampler is GMM with 30 components. \n",
      "testing:  jpl ('2019-09-01', '2019-12-31')\n",
      "GMMsTracesGenerator from the Jpl site from 2019-09-01 to 2019-12-31. Sampler is GMM with 30 components. \n",
      "testing:  jpl ('2020-02-01', '2020-05-31')\n",
      "GMMsTracesGenerator from the Jpl site from 2020-02-01 to 2020-05-31. Sampler is GMM with 30 components. \n",
      "testing:  jpl ('2021-05-01', '2021-08-31')\n",
      "GMMsTracesGenerator from the Jpl site from 2021-05-01 to 2021-08-31. Sampler is GMM with 30 components. \n"
     ]
    }
   ],
   "source": [
    "for site in ['caltech', 'jpl']:\n",
    "    for test_range in test_ranges:\n",
    "        print('testing: ', site, test_range)\n",
    "        gmmg = GMMsTraceGenerator(site, test_range)\n",
    "        for _ in range(123):  # 4 months -> 123 days maximum\n",
    "            _, _, num_plug_events = gmmg.get_event_queue()\n",
    "        print(gmmg)"
   ]
  },
  {
   "cell_type": "markdown",
   "metadata": {},
   "source": [
    "## Rewards from policies"
   ]
  },
  {
   "cell_type": "code",
   "execution_count": 5,
   "metadata": {},
   "outputs": [
    {
     "name": "stdout",
     "output_type": "stream",
     "text": [
      "random rewards:  [-9.20538625756031, -16.095760394232656, -40.353458203385635, -32.150978309804614, -19.847337928997227]\n",
      "reward components: {'profit': 39.14599951563122, 'carbon_cost': 144.0161539449463, 'excess_charge': 12.782766664665491}\n",
      "full rewards:  [-88.93214742348485, -76.00004425021787, -64.92499589865847, -41.43152301273302, -80.06867687006691]\n",
      "reward components: {'profit': 37.86346411370879, 'carbon_cost': 316.83008619075076, 'excess_charge': 72.39076537812032}\n",
      "none rewards:  [0.0, 0.0, 0.0, 0.0, 0.0]\n",
      "reward components: {'profit': 0.0, 'carbon_cost': 0.0, 'excess_charge': 0.0}\n",
      "selective_full rewards:  [10.726320747729439, 2.7434102707532584, 1.3634530237333227, 1.9140559962278771, 10.532486064969884]\n",
      "reward components: {'profit': 44.10525285538047, 'carbon_cost': 16.648518143200974, 'excess_charge': 0.1770086087657736}\n"
     ]
    }
   ],
   "source": [
    "policies = ['random', 'full', 'none', 'selective_full']\n",
    "\n",
    "for policy in policies:\n",
    "    rewards = []\n",
    "    reward_comps = {'profit': 0, 'carbon_cost': 0, 'excess_charge': 0}\n",
    "    gmmg = GMMsTraceGenerator('caltech', test_ranges[0])\n",
    "    env = EVChargingEnv(gmmg, action_type='discrete', moer_forecast_steps=36)\n",
    "\n",
    "    num_episodes = 5\n",
    "    for _ in range(num_episodes):\n",
    "        obs = env.reset()\n",
    "        done = False\n",
    "        tot_reward = 0\n",
    "        while not done:\n",
    "            if policy == 'random':\n",
    "                action = np.random.randint(0, 5, size=(54,))\n",
    "            elif policy == 'full':\n",
    "                action = np.full((54,), 4)\n",
    "            elif policy == 'none':\n",
    "                action = np.zeros((54,))\n",
    "            else:\n",
    "                action = np.where(obs['demands'] > 0, 4, 0)\n",
    "            obs, reward, done, info = env.step(action)\n",
    "\n",
    "            tot_reward += reward\n",
    "            for reward_comp in info['reward']:\n",
    "                reward_comps[reward_comp] += info['reward'][reward_comp]\n",
    "        rewards.append(tot_reward)\n",
    "    print(f'{policy} rewards: ', rewards)  # rewards per num_episodes\n",
    "    print('reward components:', reward_comps)  # total reward contribution over num_episodes\n"
   ]
  },
  {
   "cell_type": "markdown",
   "metadata": {},
   "source": [
    "## Check seed setting is done correctly"
   ]
  },
  {
   "cell_type": "code",
   "execution_count": 3,
   "metadata": {},
   "outputs": [
    {
     "name": "stdout",
     "output_type": "stream",
     "text": [
      "RealTraceGenerator\n",
      "sequential False, random_seed None\n",
      "[29, 10, 36, 26, 23, 27, 31]\n",
      "[34, 32, 35, 34, 28, 28, 4]\n",
      "[31, 31, 9, 4, 1, 6, 30]\n",
      "sequential False, random_seed 11\n",
      "[32, 6, 20, 33, 23, 33, 30]\n",
      "[32, 6, 20, 33, 23, 33, 30]\n",
      "[32, 6, 20, 33, 23, 33, 30]\n",
      "sequential True, random_seed None\n",
      "[5, 11, 31, 30, 35, 36, 10]\n",
      "[5, 11, 31, 30, 35, 36, 10]\n",
      "[5, 11, 31, 30, 35, 36, 10]\n",
      "sequential True, random_seed 11\n",
      "[5, 11, 31, 30, 35, 36, 10]\n",
      "[5, 11, 31, 30, 35, 36, 10]\n",
      "[5, 11, 31, 30, 35, 36, 10]\n",
      "GMMsTraceGenerator\n",
      "random_seed None\n",
      "[36, 9, 6, 29, 7, 30, 38]\n",
      "[30, 31, 31, 35, 4, 11, 33]\n",
      "[7, 33, 1, 8, 6, 31, 7]\n",
      "random_seed 11\n",
      "[35, 10, 39, 38, 30, 19, 9]\n",
      "[35, 10, 39, 38, 30, 19, 9]\n",
      "[35, 10, 39, 38, 30, 19, 9]\n"
     ]
    }
   ],
   "source": [
    "print('RealTraceGenerator')\n",
    "for sequential in [False, True]:\n",
    "    for random_seed in [None, 11]:\n",
    "        print(f'sequential {sequential}, random_seed {random_seed}')\n",
    "        for _ in range(3):\n",
    "            gen = RealTraceGenerator('caltech', test_ranges[1], sequential=sequential, random_seed=random_seed)\n",
    "\n",
    "            num_events = []\n",
    "            for _ in range(7):\n",
    "                _, _, num_event = gen.get_event_queue()\n",
    "                num_events.append(num_event)\n",
    "            print(num_events)\n",
    "\n",
    "print('GMMsTraceGenerator')\n",
    "for random_seed in [None, 11]:\n",
    "    print(f'random_seed {random_seed}')\n",
    "    for _ in range(3):\n",
    "        gen = GMMsTraceGenerator('caltech', test_ranges[1], random_seed=random_seed)\n",
    "        num_events = []\n",
    "        for _ in range(7):\n",
    "            _, _, num_event = gen.get_event_queue()\n",
    "            num_events.append(num_event)\n",
    "        print(num_events)"
   ]
  },
  {
   "cell_type": "markdown",
   "metadata": {},
   "source": [
    "## Timestep Greedy and MPC"
   ]
  },
  {
   "cell_type": "markdown",
   "metadata": {},
   "source": [
    "### Discrete Case"
   ]
  },
  {
   "cell_type": "code",
   "execution_count": 3,
   "metadata": {},
   "outputs": [
    {
     "name": "stdout",
     "output_type": "stream",
     "text": [
      "Simulating days of charging\n"
     ]
    },
    {
     "name": "stderr",
     "output_type": "stream",
     "text": [
      "100%|██████████| 7/7 [01:09<00:00,  9.86s/it]\n"
     ]
    },
    {
     "name": "stdout",
     "output_type": "stream",
     "text": [
      "greedy average reward:  9.103818438610483\n",
      "greedy rewards:  [14.608341284506709, 11.582776506811785, 9.76263303053472, 9.84730337240914, 13.405210615787231, 2.36242955768457, 2.1580347025392252]\n",
      "greedy reward breakdown:  {'profit': 73.44116032093493, 'carbon_cost': 9.714153917328483, 'excess_charge': 0.0002773333333333338}\n",
      "Simulating days of charging\n"
     ]
    },
    {
     "name": "stderr",
     "output_type": "stream",
     "text": [
      "100%|██████████| 7/7 [00:30<00:00,  4.38s/it]\n"
     ]
    },
    {
     "name": "stdout",
     "output_type": "stream",
     "text": [
      "mpc1 average reward:  9.065079344029224\n",
      "mpc1 rewards:  [14.155571434432602, 11.589002950875702, 9.953536333828946, 9.83566177896273, 13.401318649880784, 2.36242955768457, 2.1580347025392252]\n",
      "mpc1 reward breakdown:  {'profit': 73.01204143156116, 'carbon_cost': 9.556486023356896, 'excess_charge': 0.0}\n",
      "Simulating days of charging\n"
     ]
    },
    {
     "name": "stderr",
     "output_type": "stream",
     "text": [
      "100%|██████████| 7/7 [00:32<00:00,  4.69s/it]\n"
     ]
    },
    {
     "name": "stdout",
     "output_type": "stream",
     "text": [
      "mpc2 average reward:  9.112057654380648\n",
      "mpc2 rewards:  [14.265461912306872, 11.660394708162537, 10.06011564951503, 9.855896534412208, 13.409964171632746, 2.374535902095917, 2.1580347025392252]\n",
      "mpc2 reward breakdown:  {'profit': 73.0421195583392, 'carbon_cost': 9.257715977675007, 'excess_charge': 0.0}\n",
      "Simulating days of charging\n"
     ]
    },
    {
     "name": "stderr",
     "output_type": "stream",
     "text": [
      "100%|██████████| 7/7 [00:39<00:00,  5.69s/it]\n"
     ]
    },
    {
     "name": "stdout",
     "output_type": "stream",
     "text": [
      "mpc6 average reward:  9.126605184897844\n",
      "mpc6 rewards:  [14.331925323820421, 11.674602743427544, 10.092089126169672, 9.833578033262635, 13.425810982445912, 2.373028102297423, 2.1552019828613016]\n",
      "mpc6 reward breakdown:  {'profit': 72.81922910877137, 'carbon_cost': 8.932854147820182, 'excess_charge': 0.0001386666666666669}\n",
      "Simulating days of charging\n"
     ]
    },
    {
     "name": "stderr",
     "output_type": "stream",
     "text": [
      "100%|██████████| 7/7 [00:50<00:00,  7.20s/it]\n"
     ]
    },
    {
     "name": "stdout",
     "output_type": "stream",
     "text": [
      "mpc12 average reward:  9.066689075020056\n",
      "mpc12 rewards:  [14.268435569049782, 11.68326724123394, 9.884189091147373, 9.698283316292457, 13.41624729033393, 2.381177799531442, 2.1352232175514714]\n",
      "mpc12 reward breakdown:  {'profit': 71.83706533648571, 'carbon_cost': 8.37010314467914, 'excess_charge': 0.0001386666666666669}\n",
      "Simulating days of charging\n"
     ]
    },
    {
     "name": "stderr",
     "output_type": "stream",
     "text": [
      "100%|██████████| 7/7 [01:29<00:00, 12.76s/it]"
     ]
    },
    {
     "name": "stdout",
     "output_type": "stream",
     "text": [
      "mpc36 average reward:  8.755236023859949\n",
      "mpc36 rewards:  [14.206162908331459, 11.24889253578141, 8.719296893071467, 9.53886951557487, 13.33367517033448, 2.263419242305014, 1.976335901620949]\n",
      "mpc36 reward breakdown:  {'profit': 68.33055741571344, 'carbon_cost': 7.0423799153607725, 'excess_charge': 0.0015253333333333351}\n"
     ]
    },
    {
     "name": "stderr",
     "output_type": "stream",
     "text": [
      "\n"
     ]
    }
   ],
   "source": [
    "ga = GreedyAlgorithm(project_action=True)\n",
    "mpc1 = MPC(lookahead=1)\n",
    "mpc2 = MPC(lookahead=2)\n",
    "mpc6 = MPC(lookahead=6)\n",
    "mpc12 = MPC(lookahead=12)\n",
    "mpc36 = MPC(lookahead=36)\n",
    "\n",
    "lbls = ['greedy', 'mpc1', 'mpc2', 'mpc6', 'mpc12', 'mpc36']\n",
    "algs = [ga, mpc1, mpc2, mpc6, mpc12, mpc36]\n",
    "\n",
    "for alg, lbl in zip(algs, lbls):\n",
    "    gen = RealTraceGenerator('caltech', ('2019-06-03', '2019-06-09'), sequential=True)\n",
    "    env = EVChargingEnv(gen)\n",
    "    rewards, breakdown = alg.run(7, env)\n",
    "    \n",
    "    print(f'{lbl} average reward: ', np.mean(rewards))\n",
    "    print(f'{lbl} rewards: ', rewards)\n",
    "    print(f'{lbl} reward breakdown: ', breakdown)"
   ]
  },
  {
   "cell_type": "markdown",
   "metadata": {},
   "source": [
    "### Continuous Case"
   ]
  },
  {
   "cell_type": "code",
   "execution_count": 6,
   "metadata": {},
   "outputs": [
    {
     "name": "stdout",
     "output_type": "stream",
     "text": [
      "Simulating days of charging\n"
     ]
    },
    {
     "name": "stderr",
     "output_type": "stream",
     "text": [
      "100%|██████████| 7/7 [01:08<00:00,  9.84s/it]\n"
     ]
    },
    {
     "name": "stdout",
     "output_type": "stream",
     "text": [
      "greedy average reward:  9.15312305135341\n",
      "greedy rewards:  [14.73946295170452, 11.580331177092566, 9.988362172844129, 9.843150197362618, 13.403252969331234, 2.3592671885995906, 2.1580347025392252]\n",
      "greedy reward breakdown:  {'profit': 73.72686496579581, 'carbon_cost': 9.653668939655637, 'excess_charge': 0.0013346666666666687}\n",
      "Simulating days of charging\n"
     ]
    },
    {
     "name": "stderr",
     "output_type": "stream",
     "text": [
      "100%|██████████| 7/7 [00:30<00:00,  4.41s/it]\n"
     ]
    },
    {
     "name": "stdout",
     "output_type": "stream",
     "text": [
      "mpc1 average reward:  9.074372292724918\n",
      "mpc1 rewards:  [14.221004058892053, 11.582590121781422, 9.961209517105905, 9.83231499383925, 13.406185466316995, 2.3592671885995906, 2.1580347025392252]\n",
      "mpc1 reward breakdown:  {'profit': 73.10548875144511, 'carbon_cost': 9.584744035704347, 'excess_charge': 0.0001386666666666669}\n",
      "Simulating days of charging\n"
     ]
    },
    {
     "name": "stderr",
     "output_type": "stream",
     "text": [
      "100%|██████████| 7/7 [00:33<00:00,  4.77s/it]\n"
     ]
    },
    {
     "name": "stdout",
     "output_type": "stream",
     "text": [
      "mpc2 average reward:  9.12740123800207\n",
      "mpc2 rewards:  [14.350058662909944, 11.659027931997544, 10.080098816426752, 9.855320178536175, 13.414714665426203, 2.3745537081786465, 2.1580347025392252]\n",
      "mpc2 reward breakdown:  {'profit': 73.15941866466163, 'carbon_cost': 9.26733266531415, 'excess_charge': 0.0002773333333333338}\n",
      "Simulating days of charging\n"
     ]
    },
    {
     "name": "stderr",
     "output_type": "stream",
     "text": [
      "100%|██████████| 7/7 [00:39<00:00,  5.68s/it]\n"
     ]
    },
    {
     "name": "stdout",
     "output_type": "stream",
     "text": [
      "mpc6 average reward:  9.132565649341212\n",
      "mpc6 rewards:  [14.375190524270714, 11.671187575681968, 10.098768997422443, 9.828358337244667, 13.427159174181057, 2.3716885473568032, 2.1556063892308193]\n",
      "mpc6 reward breakdown:  {'profit': 72.89555446728872, 'carbon_cost': 8.96667846007515, 'excess_charge': 0.0009164618255215675}\n",
      "Simulating days of charging\n"
     ]
    },
    {
     "name": "stderr",
     "output_type": "stream",
     "text": [
      "100%|██████████| 7/7 [00:49<00:00,  7.02s/it]\n"
     ]
    },
    {
     "name": "stdout",
     "output_type": "stream",
     "text": [
      "mpc12 average reward:  9.079287577546324\n",
      "mpc12 rewards:  [14.33771424234256, 11.671406267863418, 9.918192930069637, 9.690321309337019, 13.421648793684708, 2.379744160659251, 2.1359853388676804]\n",
      "mpc12 reward breakdown:  {'profit': 71.97790507862565, 'carbon_cost': 8.420916129664683, 'excess_charge': 0.001975906137184119}\n",
      "Simulating days of charging\n"
     ]
    },
    {
     "name": "stderr",
     "output_type": "stream",
     "text": [
      "100%|██████████| 7/7 [01:28<00:00, 12.64s/it]"
     ]
    },
    {
     "name": "stdout",
     "output_type": "stream",
     "text": [
      "mpc36 average reward:  8.792959617789156\n",
      "mpc36 rewards:  [14.386969259443795, 11.296497433271572, 8.763924318459628, 9.530409927916946, 13.332347607533718, 2.263419242305014, 1.9771495355934363]\n",
      "mpc36 reward breakdown:  {'profit': 68.60606645319396, 'carbon_cost': 7.050200858590292, 'excess_charge': 0.005148270079856753}\n"
     ]
    },
    {
     "name": "stderr",
     "output_type": "stream",
     "text": [
      "\n"
     ]
    }
   ],
   "source": [
    "for alg, lbl in zip(algs, lbls):\n",
    "    gen = RealTraceGenerator('caltech', ('2019-06-03', '2019-06-09'), sequential=True)\n",
    "    env = EVChargingEnv(gen, action_type='continuous')\n",
    "    rewards, breakdown = alg.run(7, env)\n",
    "\n",
    "    print(f'{lbl} average reward: ', np.mean(rewards))\n",
    "    print(f'{lbl} rewards: ', rewards)\n",
    "    print(f'{lbl} reward breakdown: ', breakdown)"
   ]
  },
  {
   "cell_type": "code",
   "execution_count": null,
   "metadata": {},
   "outputs": [],
   "source": []
  }
 ],
 "metadata": {
  "kernelspec": {
   "display_name": "Python 3.9.13 ('sustaingym')",
   "language": "python",
   "name": "python3"
  },
  "language_info": {
   "codemirror_mode": {
    "name": "ipython",
    "version": 3
   },
   "file_extension": ".py",
   "mimetype": "text/x-python",
   "name": "python",
   "nbconvert_exporter": "python",
   "pygments_lexer": "ipython3",
   "version": "3.9.13"
  },
  "orig_nbformat": 4,
  "vscode": {
   "interpreter": {
    "hash": "c910351b0c3a4aade2cf03b555240fe9951314ae7b50b4f56bc279231ceafe8d"
   }
  }
 },
 "nbformat": 4,
 "nbformat_minor": 2
}
