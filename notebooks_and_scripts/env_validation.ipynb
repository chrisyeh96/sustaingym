{
 "cells": [
  {
   "cell_type": "code",
   "execution_count": 1,
   "metadata": {},
   "outputs": [
    {
     "name": "stdout",
     "output_type": "stream",
     "text": [
      "/home/ubuntu/sustaingym\n"
     ]
    }
   ],
   "source": [
    "%load_ext autoreload\n",
    "%autoreload 2\n",
    "%matplotlib inline\n",
    "%cd .."
   ]
  },
  {
   "cell_type": "code",
   "execution_count": 2,
   "metadata": {},
   "outputs": [],
   "source": [
    "from datetime import datetime, timedelta\n",
    "import os\n",
    "import pytz\n",
    "\n",
    "import matplotlib.pyplot as plt\n",
    "import numpy as np\n",
    "import pandas as pd\n",
    "import seaborn as sns\n",
    "sns.set_style(\"darkgrid\")\n",
    "\n",
    "from sustaingym.data.load_moer import load_monthly_moer\n",
    "from sustaingym.envs.evcharging import EVChargingEnv, RealTraceGenerator, GMMsTraceGenerator\n",
    "\n",
    "test_ranges = (\n",
    "    ('2019-05-01', '2019-08-31'),\n",
    "    ('2019-09-01', '2019-12-31'),\n",
    "    ('2020-02-01', '2020-05-31'),\n",
    "    ('2021-05-01', '2021-08-31'),\n",
    ")\n"
   ]
  },
  {
   "cell_type": "code",
   "execution_count": 3,
   "metadata": {},
   "outputs": [
    {
     "name": "stdout",
     "output_type": "stream",
     "text": [
      "testing:  caltech ('2019-05-01', '2019-08-31')\n",
      "RealTracesGenerator from the Caltech site from 2019-05-01 to 2019-08-31. Current day 2019-08-31. \n",
      "testing:  caltech ('2019-09-01', '2019-12-31')\n",
      "RealTracesGenerator from the Caltech site from 2019-09-01 to 2019-12-31. Current day 2019-09-01. \n",
      "testing:  caltech ('2020-02-01', '2020-05-31')\n",
      "RealTracesGenerator from the Caltech site from 2020-02-01 to 2020-05-31. Current day 2020-02-02. \n",
      "testing:  caltech ('2021-05-01', '2021-08-31')\n",
      "RealTracesGenerator from the Caltech site from 2021-05-01 to 2021-08-31. Current day 2021-08-31. \n",
      "testing:  jpl ('2019-05-01', '2019-08-31')\n",
      "RealTracesGenerator from the Jpl site from 2019-05-01 to 2019-08-31. Current day 2019-08-31. \n",
      "testing:  jpl ('2019-09-01', '2019-12-31')\n",
      "RealTracesGenerator from the Jpl site from 2019-09-01 to 2019-12-31. Current day 2019-09-01. \n",
      "testing:  jpl ('2020-02-01', '2020-05-31')\n",
      "RealTracesGenerator from the Jpl site from 2020-02-01 to 2020-05-31. Current day 2020-02-02. \n",
      "testing:  jpl ('2021-05-01', '2021-08-31')\n",
      "RealTracesGenerator from the Jpl site from 2021-05-01 to 2021-08-31. Current day 2021-08-31. \n"
     ]
    }
   ],
   "source": [
    "for site in ['caltech', 'jpl']:\n",
    "    for test_range in test_ranges:\n",
    "        print('testing: ', site, test_range)\n",
    "        rtg = RealTraceGenerator(site, test_range)\n",
    "        for _ in range(123):  # 4 months -> 123 days maximum\n",
    "            _, _, num_plug_events = rtg.get_event_queue()\n",
    "        print(rtg)"
   ]
  },
  {
   "cell_type": "code",
   "execution_count": 4,
   "metadata": {},
   "outputs": [
    {
     "name": "stdout",
     "output_type": "stream",
     "text": [
      "testing:  caltech ('2019-05-01', '2019-08-31')\n",
      "GMMsTracesGenerator from the Caltech site from 2019-05-01 to 2019-08-31. Sampler is GMM with 30 components. \n",
      "testing:  caltech ('2019-09-01', '2019-12-31')\n",
      "GMMsTracesGenerator from the Caltech site from 2019-09-01 to 2019-12-31. Sampler is GMM with 30 components. \n",
      "testing:  caltech ('2020-02-01', '2020-05-31')\n",
      "GMMsTracesGenerator from the Caltech site from 2020-02-01 to 2020-05-31. Sampler is GMM with 30 components. \n",
      "testing:  caltech ('2021-05-01', '2021-08-31')\n",
      "GMMsTracesGenerator from the Caltech site from 2021-05-01 to 2021-08-31. Sampler is GMM with 30 components. \n",
      "testing:  jpl ('2019-05-01', '2019-08-31')\n",
      "GMMsTracesGenerator from the Jpl site from 2019-05-01 to 2019-08-31. Sampler is GMM with 30 components. \n",
      "testing:  jpl ('2019-09-01', '2019-12-31')\n",
      "GMMsTracesGenerator from the Jpl site from 2019-09-01 to 2019-12-31. Sampler is GMM with 30 components. \n",
      "testing:  jpl ('2020-02-01', '2020-05-31')\n",
      "GMMsTracesGenerator from the Jpl site from 2020-02-01 to 2020-05-31. Sampler is GMM with 30 components. \n",
      "testing:  jpl ('2021-05-01', '2021-08-31')\n",
      "GMMsTracesGenerator from the Jpl site from 2021-05-01 to 2021-08-31. Sampler is GMM with 30 components. \n"
     ]
    }
   ],
   "source": [
    "for site in ['caltech', 'jpl']:\n",
    "    for test_range in test_ranges:\n",
    "        print('testing: ', site, test_range)\n",
    "        gmmg = GMMsTraceGenerator(site, test_range)\n",
    "        for _ in range(123):  # 4 months -> 123 days maximum\n",
    "            _, _, num_plug_events = gmmg.get_event_queue()\n",
    "        print(gmmg)"
   ]
  },
  {
   "cell_type": "code",
   "execution_count": 7,
   "metadata": {},
   "outputs": [
    {
     "name": "stdout",
     "output_type": "stream",
     "text": [
      "random rewards:  [-26.590653218003784, -38.724288299785925, -29.1946885059909, -35.9904245498965, -31.98297732157129]\n",
      "reward components: {'profit': 38.96677711866924, 'carbon_cost': 188.59297958338186, 'excess_charge': 12.856829430535756}\n",
      "full rewards:  [-75.68754910433454, -39.87636953372638, -73.27066242402769, -79.29685627104139, -100.05988131829521]\n",
      "reward components: {'profit': 53.26093311151147, 'carbon_cost': 349.0614863848176, 'excess_charge': 72.39076537812032}\n",
      "none rewards:  [0.0, 0.0, 0.0, 0.0, 0.0]\n",
      "reward components: {'profit': 0.0, 'carbon_cost': 0.0, 'excess_charge': 0.0}\n",
      "selective_full rewards:  [2.610077476627624, 9.296185401652526, 9.922011246681684, 1.979429121667754, 9.377341447474285]\n",
      "reward components: {'profit': 58.08277878444963, 'carbon_cost': 24.536101094035722, 'excess_charge': 0.3616329963101486}\n"
     ]
    }
   ],
   "source": [
    "policies = ['random', 'full', 'none', 'selective_full']\n",
    "\n",
    "for policy in policies:\n",
    "    rewards = []\n",
    "    reward_comps = {'profit': 0, 'carbon_cost': 0, 'excess_charge': 0}\n",
    "    gmmg = GMMsTraceGenerator('caltech', test_ranges[0])\n",
    "    env = EVChargingEnv(gmmg, moer_forecast_steps=36)\n",
    "\n",
    "    num_episodes = 5\n",
    "    for _ in range(num_episodes):\n",
    "        obs = env.reset()\n",
    "        done = False\n",
    "        tot_reward = 0\n",
    "        while not done:\n",
    "            if policy == 'random':\n",
    "                action = np.random.randint(0, 5, size=(54,))\n",
    "            elif policy == 'full':\n",
    "                action = np.full((54,), 4)\n",
    "            elif policy == 'none':\n",
    "                action = np.zeros((54,))\n",
    "            else:\n",
    "                action = np.where(obs['demands'] > 0, 4, 0)\n",
    "            obs, reward, done, info = env.step(action)\n",
    "\n",
    "            tot_reward += reward\n",
    "            for reward_comp in info['reward']:\n",
    "                reward_comps[reward_comp] += info['reward'][reward_comp]\n",
    "        rewards.append(tot_reward)\n",
    "    print(f'{policy} rewards: ', rewards)  # rewards per num_episodes\n",
    "    print('reward components:', reward_comps)  # total reward contribution over num_episodes\n"
   ]
  },
  {
   "cell_type": "code",
   "execution_count": 4,
   "metadata": {},
   "outputs": [
    {
     "name": "stdout",
     "output_type": "stream",
     "text": [
      "[77, 77, 87, 92, 96, 99, 99, 102, 103, 105, 106, 106, 107, 108, 112, 114, 114, 116, 118, 119, 121, 124, 129, 133, 140, 145, 153, 157, 171, 176, 180, 197, 202, 202, 208, 214, 227]\n",
      "[178, 92, 204, 164, 207, 223, 199, 196, 212, 139, 217, 143, 215, 227, 139, 181, 160, 198, 244, 200, 205, 171, 222, 209, 215, 230, 192, 220, 206, 189, 195, 214, 224, 221, 220, 236, 247]\n",
      "[0.     0.     0.     0.     0.     0.     0.     0.     0.     0.\n",
      " 0.     0.     0.     0.     0.     0.     0.     0.     0.     0.\n",
      " 0.     0.     0.     0.     0.     0.     0.     0.     0.     0.\n",
      " 0.     0.     0.2184 0.     0.     0.     0.     0.     0.     0.\n",
      " 0.     0.     0.     0.     0.     0.     0.     0.08   0.     0.\n",
      " 0.     0.     0.     0.    ]\n"
     ]
    }
   ],
   "source": [
    "date_period = ('2019-06-03', '2019-06-07')\n",
    "rtg = RealTraceGenerator('caltech', date_period, sequential=True)\n",
    "env = EVChargingEnv(rtg)\n",
    "env.reset()\n",
    "\n",
    "arrivals = []\n",
    "departures = []\n",
    "for ev in env.evs:\n",
    "    arrivals.append(ev.arrival)\n",
    "    departures.append(ev.departure)\n",
    "print(arrivals)\n",
    "print(departures)\n",
    "\n",
    "done = False\n",
    "while not done:\n",
    "    action = np.random.randint(0, 5, 54)\n",
    "    obs, reward, done, info = env.step(action)\n",
    "\n",
    "    timestep = obs['timestep'] * 288\n",
    "\n",
    "    if np.round(obs['timestep'] * 288)[0] == 77:\n",
    "        print(obs['demands'])"
   ]
  },
  {
   "cell_type": "code",
   "execution_count": 3,
   "metadata": {},
   "outputs": [
    {
     "name": "stdout",
     "output_type": "stream",
     "text": [
      "RealTraceGenerator\n",
      "sequential False, random_seed None\n",
      "[29, 10, 36, 26, 23, 27, 31]\n",
      "[34, 32, 35, 34, 28, 28, 4]\n",
      "[31, 31, 9, 4, 1, 6, 30]\n",
      "sequential False, random_seed 11\n",
      "[32, 6, 20, 33, 23, 33, 30]\n",
      "[32, 6, 20, 33, 23, 33, 30]\n",
      "[32, 6, 20, 33, 23, 33, 30]\n",
      "sequential True, random_seed None\n",
      "[5, 11, 31, 30, 35, 36, 10]\n",
      "[5, 11, 31, 30, 35, 36, 10]\n",
      "[5, 11, 31, 30, 35, 36, 10]\n",
      "sequential True, random_seed 11\n",
      "[5, 11, 31, 30, 35, 36, 10]\n",
      "[5, 11, 31, 30, 35, 36, 10]\n",
      "[5, 11, 31, 30, 35, 36, 10]\n",
      "GMMsTraceGenerator\n",
      "random_seed None\n",
      "[36, 9, 6, 29, 7, 30, 38]\n",
      "[30, 31, 31, 35, 4, 11, 33]\n",
      "[7, 33, 1, 8, 6, 31, 7]\n",
      "random_seed 11\n",
      "[35, 10, 39, 38, 30, 19, 9]\n",
      "[35, 10, 39, 38, 30, 19, 9]\n",
      "[35, 10, 39, 38, 30, 19, 9]\n"
     ]
    }
   ],
   "source": [
    "print('RealTraceGenerator')\n",
    "for sequential in [False, True]:\n",
    "    for random_seed in [None, 11]:\n",
    "        print(f'sequential {sequential}, random_seed {random_seed}')\n",
    "        for _ in range(3):\n",
    "            gen = RealTraceGenerator('caltech', test_ranges[1], sequential=sequential, random_seed=random_seed)\n",
    "\n",
    "            num_events = []\n",
    "            for _ in range(7):\n",
    "                _, _, num_event = gen.get_event_queue()\n",
    "                num_events.append(num_event)\n",
    "            print(num_events)\n",
    "\n",
    "print('GMMsTraceGenerator')\n",
    "for random_seed in [None, 11]:\n",
    "    print(f'random_seed {random_seed}')\n",
    "    for _ in range(3):\n",
    "        gen = GMMsTraceGenerator('caltech', test_ranges[1], random_seed=random_seed)\n",
    "        num_events = []\n",
    "        for _ in range(7):\n",
    "            _, _, num_event = gen.get_event_queue()\n",
    "            num_events.append(num_event)\n",
    "        print(num_events)"
   ]
  },
  {
   "cell_type": "code",
   "execution_count": null,
   "metadata": {},
   "outputs": [],
   "source": []
  }
 ],
 "metadata": {
  "kernelspec": {
   "display_name": "Python 3.9.13 ('sustaingym')",
   "language": "python",
   "name": "python3"
  },
  "language_info": {
   "codemirror_mode": {
    "name": "ipython",
    "version": 3
   },
   "file_extension": ".py",
   "mimetype": "text/x-python",
   "name": "python",
   "nbconvert_exporter": "python",
   "pygments_lexer": "ipython3",
   "version": "3.9.13"
  },
  "orig_nbformat": 4,
  "vscode": {
   "interpreter": {
    "hash": "c910351b0c3a4aade2cf03b555240fe9951314ae7b50b4f56bc279231ceafe8d"
   }
  }
 },
 "nbformat": 4,
 "nbformat_minor": 2
}
