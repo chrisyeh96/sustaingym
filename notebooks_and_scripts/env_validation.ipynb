{
 "cells": [
  {
   "cell_type": "code",
   "execution_count": null,
   "metadata": {},
   "outputs": [],
   "source": []
  },
  {
   "cell_type": "code",
   "execution_count": 1,
   "metadata": {},
   "outputs": [
    {
     "name": "stdout",
     "output_type": "stream",
     "text": [
      "/home/ubuntu/sustaingym\n"
     ]
    }
   ],
   "source": [
    "%load_ext autoreload\n",
    "%autoreload 2\n",
    "%matplotlib inline\n",
    "%cd .."
   ]
  },
  {
   "cell_type": "markdown",
   "metadata": {},
   "source": [
    "# Scripts for generating events and running environment"
   ]
  },
  {
   "cell_type": "code",
   "execution_count": 2,
   "metadata": {},
   "outputs": [],
   "source": [
    "from datetime import datetime, timedelta\n",
    "import os\n",
    "import pytz\n",
    "\n",
    "import matplotlib.pyplot as plt\n",
    "import numpy as np\n",
    "import pandas as pd\n",
    "import seaborn as sns\n",
    "sns.set_style(\"darkgrid\")\n",
    "\n",
    "from sustaingym.data.load_moer import load_monthly_moer\n",
    "from sustaingym.envs.evcharging import EVChargingEnv, RealTraceGenerator, GMMsTraceGenerator, DiscreteActionWrapper\n",
    "from sustaingym.algorithms.evcharging.baselines import GreedyAlgorithm, MPC, RandomAlgorithm, RLAlgorithm\n",
    "\n",
    "\n",
    "test_ranges = (\n",
    "    ('2019-05-01', '2019-08-31'),\n",
    "    ('2019-09-01', '2019-12-31'),\n",
    "    ('2020-02-01', '2020-05-31'),\n",
    "    ('2021-05-01', '2021-08-31'),\n",
    ")\n"
   ]
  },
  {
   "cell_type": "markdown",
   "metadata": {},
   "source": [
    "## Real trace generator + GMMs trace generator"
   ]
  },
  {
   "cell_type": "code",
   "execution_count": 7,
   "metadata": {},
   "outputs": [
    {
     "name": "stdout",
     "output_type": "stream",
     "text": [
      "testing:  caltech ('2019-05-01', '2019-08-31')\n",
      "Real trace generator for Caltech garage (2019-05-01 to 2019-08-31)\n",
      "Sequential = True, Use unclaimed = False\n",
      "Current day: 2019-08-31\n",
      "testing:  caltech ('2019-09-01', '2019-12-31')\n",
      "Real trace generator for Caltech garage (2019-09-01 to 2019-12-31)\n",
      "Sequential = True, Use unclaimed = False\n",
      "Current day: 2019-09-01\n",
      "testing:  caltech ('2020-02-01', '2020-05-31')\n",
      "Real trace generator for Caltech garage (2020-02-01 to 2020-05-31)\n",
      "Sequential = True, Use unclaimed = False\n",
      "Current day: 2020-02-02\n",
      "testing:  caltech ('2021-05-01', '2021-08-31')\n",
      "Real trace generator for Caltech garage (2021-05-01 to 2021-08-31)\n",
      "Sequential = True, Use unclaimed = False\n",
      "Current day: 2021-08-31\n",
      "testing:  jpl ('2019-05-01', '2019-08-31')\n",
      "Real trace generator for JPL garage (2019-05-01 to 2019-08-31)\n",
      "Sequential = True, Use unclaimed = False\n",
      "Current day: 2019-08-31\n",
      "testing:  jpl ('2019-09-01', '2019-12-31')\n",
      "Real trace generator for JPL garage (2019-09-01 to 2019-12-31)\n",
      "Sequential = True, Use unclaimed = False\n",
      "Current day: 2019-09-01\n",
      "testing:  jpl ('2020-02-01', '2020-05-31')\n",
      "Real trace generator for JPL garage (2020-02-01 to 2020-05-31)\n",
      "Sequential = True, Use unclaimed = False\n",
      "Current day: 2020-02-02\n",
      "testing:  jpl ('2021-05-01', '2021-08-31')\n",
      "Real trace generator for JPL garage (2021-05-01 to 2021-08-31)\n",
      "Sequential = True, Use unclaimed = False\n",
      "Current day: 2021-08-31\n",
      "testing:  caltech ('2019-05-01', '2019-08-31')\n",
      "30-component GMM-based trace generator for Caltech garage (2019-05-01 to 2019-08-31)\n",
      "\n",
      "testing:  caltech ('2019-09-01', '2019-12-31')\n",
      "30-component GMM-based trace generator for Caltech garage (2019-09-01 to 2019-12-31)\n",
      "\n",
      "testing:  caltech ('2020-02-01', '2020-05-31')\n",
      "30-component GMM-based trace generator for Caltech garage (2020-02-01 to 2020-05-31)\n",
      "\n",
      "testing:  caltech ('2021-05-01', '2021-08-31')\n",
      "30-component GMM-based trace generator for Caltech garage (2021-05-01 to 2021-08-31)\n",
      "\n",
      "testing:  jpl ('2019-05-01', '2019-08-31')\n",
      "30-component GMM-based trace generator for JPL garage (2019-05-01 to 2019-08-31)\n",
      "\n",
      "testing:  jpl ('2019-09-01', '2019-12-31')\n",
      "30-component GMM-based trace generator for JPL garage (2019-09-01 to 2019-12-31)\n",
      "\n",
      "testing:  jpl ('2020-02-01', '2020-05-31')\n",
      "30-component GMM-based trace generator for JPL garage (2020-02-01 to 2020-05-31)\n",
      "\n",
      "testing:  jpl ('2021-05-01', '2021-08-31')\n",
      "30-component GMM-based trace generator for JPL garage (2021-05-01 to 2021-08-31)\n",
      "\n"
     ]
    }
   ],
   "source": [
    "# Check able to generate on all days\n",
    "for site in ['caltech', 'jpl']:\n",
    "    for test_range in test_ranges:\n",
    "        print('testing: ', site, test_range)\n",
    "        rtg = RealTraceGenerator(site, test_range)\n",
    "        for _ in range(123):  # 4 months -> 123 days maximum\n",
    "            _, _, num_plug_events = rtg.get_event_queue()\n",
    "        print(rtg)\n",
    "\n",
    "\n",
    "for site in ['caltech', 'jpl']:\n",
    "    for test_range in test_ranges:\n",
    "        print('testing: ', site, test_range)\n",
    "        gmmg = GMMsTraceGenerator(site, test_range)\n",
    "        for _ in range(123):  # 4 months -> 123 days maximum\n",
    "            _, _, num_plug_events = gmmg.get_event_queue()\n",
    "        print(gmmg)"
   ]
  },
  {
   "cell_type": "markdown",
   "metadata": {},
   "source": [
    "# Checking the Environment makes sense\n",
    "- sanity check on rewards for policies\n",
    "- seed setting\n",
    "- printing, __repr__, step, reset, render, close\n",
    "- discrete action wrapper"
   ]
  },
  {
   "cell_type": "markdown",
   "metadata": {},
   "source": [
    "# Basic\n",
    "Run selective full charge on environment"
   ]
  },
  {
   "cell_type": "code",
   "execution_count": 3,
   "metadata": {},
   "outputs": [
    {
     "name": "stdout",
     "output_type": "stream",
     "text": [
      "--- Print environment ---\n",
      "EVChargingGym (action projection = True, moer forecast steps = 36) using 30-component GMM-based trace generator for Caltech garage (2019-05-01 to 2019-08-31)\n",
      "\n",
      "Render is not implemented as expected\n",
      "--- Number of steps taken ---\n",
      "288\n",
      "--- Print keys for info ---\n",
      "dict_keys(['num_evs', 'avg_plugin_time', 'max_profit', 'reward_breakdown', 'evs', 'active_evs', 'moer', 'pilot_signals'])\n",
      "num_evs:  8\n",
      "avg_plugin_time:  16.25\n",
      "max_profit:  1.937169194116585\n",
      "reward_breakdown:  {'profit': 1.9349932725049772, 'carbon_cost': 0.4211193554271963, 'excess_charge': 0.0}\n",
      "moer:  [[0.25093102 0.25882171 0.26365876 ... 0.23125312 0.22159009 0.23158045]\n",
      " [0.27693341 0.26471076 0.26441379 ... 0.22159009 0.23158045 0.22436101]\n",
      " [0.27693341 0.27053079 0.26710011 ... 0.23158045 0.22436101 0.22028979]\n",
      " ...\n",
      " [0.44068568 0.46343725 0.42587781 ... 0.22532771 0.22532077 0.22603387]\n",
      " [0.39955963 0.41700278 0.40441051 ... 0.22532077 0.22603387 0.22367995]\n",
      " [0.38244118 0.38845881 0.37314782 ... 0.22603387 0.22367995 0.22650368]]\n",
      "active_evs:  []\n",
      "pilot_signals:       CA-308  CA-508  CA-303  CA-513  CA-310  CA-506  CA-316  CA-500  CA-318  \\\n",
      "0       0.0     0.0     0.0     0.0     0.0     0.0     0.0     0.0     0.0   \n",
      "1       0.0     0.0     0.0     0.0     0.0     0.0     0.0     0.0     0.0   \n",
      "2       0.0     0.0     0.0     0.0     0.0     0.0     0.0     0.0     0.0   \n",
      "3       0.0     0.0     0.0     0.0     0.0     0.0     0.0     0.0     0.0   \n",
      "4       0.0     0.0     0.0     0.0     0.0     0.0     0.0     0.0     0.0   \n",
      "..      ...     ...     ...     ...     ...     ...     ...     ...     ...   \n",
      "284     0.0     0.0     0.0     0.0     0.0     0.0     0.0     0.0     0.0   \n",
      "285     0.0     0.0     0.0     0.0     0.0     0.0     0.0     0.0     0.0   \n",
      "286     0.0     0.0     0.0     0.0     0.0     0.0     0.0     0.0     0.0   \n",
      "287     0.0     0.0     0.0     0.0     0.0     0.0     0.0     0.0     0.0   \n",
      "288     0.0     0.0     0.0     0.0     0.0     0.0     0.0     0.0     0.0   \n",
      "\n",
      "     CA-498  ...  CA-306  CA-510  CA-315  CA-501  CA-319  CA-497  CA-312  \\\n",
      "0       0.0  ...     0.0     0.0     0.0     0.0     0.0     0.0     0.0   \n",
      "1       0.0  ...     0.0     0.0     0.0     0.0     0.0     0.0     0.0   \n",
      "2       0.0  ...     0.0     0.0     0.0     0.0     0.0     0.0     0.0   \n",
      "3       0.0  ...     0.0     0.0     0.0     0.0     0.0     0.0     0.0   \n",
      "4       0.0  ...     0.0     0.0     0.0     0.0     0.0     0.0     0.0   \n",
      "..      ...  ...     ...     ...     ...     ...     ...     ...     ...   \n",
      "284     0.0  ...     0.0     0.0     0.0     0.0     0.0     0.0     0.0   \n",
      "285     0.0  ...     0.0     0.0     0.0     0.0     0.0     0.0     0.0   \n",
      "286     0.0  ...     0.0     0.0     0.0     0.0     0.0     0.0     0.0   \n",
      "287     0.0  ...     0.0     0.0     0.0     0.0     0.0     0.0     0.0   \n",
      "288     0.0  ...     0.0     0.0     0.0     0.0     0.0     0.0     0.0   \n",
      "\n",
      "     CA-504  CA-314  CA-502  \n",
      "0       0.0     0.0     0.0  \n",
      "1       0.0     0.0     0.0  \n",
      "2       0.0     0.0     0.0  \n",
      "3       0.0     0.0     0.0  \n",
      "4       0.0     0.0     0.0  \n",
      "..      ...     ...     ...  \n",
      "284     0.0     0.0     0.0  \n",
      "285     0.0     0.0     0.0  \n",
      "286     0.0     0.0     0.0  \n",
      "287     0.0     0.0     0.0  \n",
      "288     0.0     0.0     0.0  \n",
      "\n",
      "[289 rows x 54 columns]\n"
     ]
    }
   ],
   "source": [
    "env = EVChargingEnv(GMMsTraceGenerator('caltech', test_ranges[0]))\n",
    "print('--- Print environment ---')\n",
    "print(repr(env))\n",
    "done = False\n",
    "\n",
    "obs = env.reset(seed=100)\n",
    "steps = 0\n",
    "while not done:\n",
    "    action = np.where(obs['demands'] > 0, 1, 0)\n",
    "    obs, reward, done, info = env.step(action, return_info=True)\n",
    "    steps += 1\n",
    "\n",
    "try:\n",
    "    env.render()\n",
    "except NotImplementedError:\n",
    "    print(\"Render is not implemented as expected\")\n",
    "env.close()\n",
    "\n",
    "print(\"--- Number of steps taken ---\")\n",
    "print(steps)\n",
    "\n",
    "print(\"--- Print keys for info ---\")\n",
    "print(info.keys())\n",
    "# print('evs: ', info['evs'])\n",
    "print('num_evs: ', info['num_evs'])\n",
    "print('avg_plugin_time: ', info['avg_plugin_time'])\n",
    "print('max_profit: ', info['max_profit'])\n",
    "print('reward_breakdown: ', info['reward_breakdown'])\n",
    "print('moer: ', info['moer'])\n",
    "print('active_evs: ', info['active_evs'])\n",
    "print('pilot_signals: ', info['pilot_signals'])\n"
   ]
  },
  {
   "cell_type": "markdown",
   "metadata": {},
   "source": [
    "## Rewards from policies"
   ]
  },
  {
   "cell_type": "code",
   "execution_count": 5,
   "metadata": {},
   "outputs": [
    {
     "name": "stdout",
     "output_type": "stream",
     "text": [
      "random True\n",
      "Outside:  12.008392211344626 Inside:  12.008392211344628\n",
      "Best possible:  18.190599999999996\n",
      "reward components: {'profit': 13.996691254310287, 'carbon_cost': 1.9882990429656593, 'excess_charge': 0.0}\n",
      "random False\n",
      "Outside:  8.285198410819875 Inside:  8.285198410819902\n",
      "Best possible:  18.190599999999996\n",
      "reward components: {'profit': 14.215788311091455, 'carbon_cost': 2.0186516889044586, 'excess_charge': 3.911938211367094}\n",
      "full True\n",
      "Outside:  15.010683752125395 Inside:  15.010683752125392\n",
      "Best possible:  18.190599999999996\n",
      "reward components: {'profit': 17.43604502439515, 'carbon_cost': 2.425309272269757, 'excess_charge': 5.2e-05}\n",
      "full False\n",
      "Outside:  1.1938053557307131 Inside:  1.1938053557307402\n",
      "Best possible:  18.190599999999996\n",
      "reward components: {'profit': 18.19033245209323, 'carbon_cost': 2.5183740207386727, 'excess_charge': 14.478153075623817}\n",
      "selective_full True\n",
      "Outside:  15.010683752125395 Inside:  15.010683752125392\n",
      "Best possible:  18.190599999999996\n",
      "reward components: {'profit': 17.43604502439515, 'carbon_cost': 2.425309272269757, 'excess_charge': 5.2e-05}\n",
      "selective_full False\n",
      "Outside:  15.559702047979144 Inside:  15.55970204797912\n",
      "Best possible:  18.190599999999996\n",
      "reward components: {'profit': 18.18966576597968, 'carbon_cost': 2.5182669010525127, 'excess_charge': 0.11169681694804633}\n"
     ]
    }
   ],
   "source": [
    "policies = ['random', 'full', 'selective_full']\n",
    "env1 = EVChargingEnv(RealTraceGenerator('caltech', test_ranges[0]))\n",
    "env2 = EVChargingEnv(RealTraceGenerator('caltech', test_ranges[0]), project_action_in_env=False)\n",
    "\n",
    "np.random.seed(42)\n",
    "random_action = np.random.randint(0, 5, size=(54,)).astype(float) / 4\n",
    "\n",
    "for policy in policies:\n",
    "    for env in [env1, env2]:\n",
    "        num_episodes = 1\n",
    "        rewards = []\n",
    "        reward_comps = {'profit': 0, 'carbon_cost': 0, 'excess_charge': 0}\n",
    "        for _ in range(num_episodes):\n",
    "            obs, info = env.reset(seed=43, return_info=True)\n",
    "            done = False\n",
    "            tot_reward = 0\n",
    "            timestep = 0\n",
    "            while not done:\n",
    "                timestep += 1\n",
    "                if policy == 'random':\n",
    "                    action = random_action\n",
    "                elif policy == 'full':\n",
    "                    action = np.full((54,), 1)\n",
    "                elif policy == 'none':\n",
    "                    action = np.zeros((54,))\n",
    "                else:\n",
    "                    action = np.where(obs['demands'] > 0, 1, 0)\n",
    "                obs, reward, done, info = env.step(action)\n",
    "\n",
    "                tot_reward += reward\n",
    "                # for reward_comp in info['reward']:\n",
    "                #     reward_comps[reward_comp] += info['reward'][reward_comp]\n",
    "            rewards.append(tot_reward)\n",
    "        print(f'{policy} {env.project_action_in_env}')\n",
    "        \n",
    "        rd = info['reward_breakdown']\n",
    "        print(\"Outside: \", tot_reward, \"Inside: \", rd['profit'] - rd['carbon_cost'] - rd['excess_charge'])\n",
    "        print(\"Best possible: \", info['max_profit'])\n",
    "        print('reward components:', info['reward_breakdown'])  # total reward contribution over num_episodes\n"
   ]
  },
  {
   "cell_type": "markdown",
   "metadata": {},
   "source": [
    "## Check seed setting is done correctly"
   ]
  },
  {
   "cell_type": "code",
   "execution_count": 3,
   "metadata": {},
   "outputs": [
    {
     "name": "stdout",
     "output_type": "stream",
     "text": [
      "---  Real trace generator for Caltech garage (2019-09-01 to 2019-12-31)\n",
      "Sequential = False, Use unclaimed = False\n",
      "Current day: 2019-12-21\n",
      "seed is None\n",
      "['11/12', '10/02', '12/25', '12/03', '10/30', '11/07', '10/13']\n",
      "['12/07', '09/13', '09/29', '10/26', '12/16', '11/22', '11/21']\n",
      "['11/02', '09/25', '09/21', '09/22', '12/15', '09/17', '12/25']\n",
      "seed is 11\n",
      "['09/17', '09/16', '12/07', '10/31', '11/11', '11/13', '11/26']\n",
      "['09/17', '09/16', '12/07', '10/31', '11/11', '11/13', '11/26']\n",
      "['09/17', '09/16', '12/07', '10/31', '11/11', '11/13', '11/26']\n",
      "---  Real trace generator for Caltech garage (2019-09-01 to 2019-12-31)\n",
      "Sequential = True, Use unclaimed = False\n",
      "Current day: 2019-08-31\n",
      "seed is None\n",
      "['09/01', '09/02', '09/03', '09/04', '09/05', '09/06', '09/07']\n",
      "['09/08', '09/09', '09/10', '09/11', '09/12', '09/13', '09/14']\n",
      "['09/15', '09/16', '09/17', '09/18', '09/19', '09/20', '09/21']\n",
      "seed is 11\n",
      "['09/13', '09/14', '09/15', '09/16', '09/17', '09/18', '09/19']\n",
      "['09/13', '09/14', '09/15', '09/16', '09/17', '09/18', '09/19']\n",
      "['09/13', '09/14', '09/15', '09/16', '09/17', '09/18', '09/19']\n",
      "---  30-component GMM-based trace generator for Caltech garage (2019-09-01 to 2019-12-31)\n",
      "\n",
      "seed is None\n",
      "['11/26', '09/02', '10/31', '09/16', '10/22', '12/08', '12/31']\n",
      "['09/09', '09/16', '12/12', '12/20', '10/04', '10/24', '09/03']\n",
      "['10/11', '11/10', '10/15', '11/03', '10/17', '09/22', '12/13']\n",
      "seed is 11\n",
      "['09/17', '12/14', '12/18', '12/17', '09/17', '12/06', '11/24']\n",
      "['09/17', '12/14', '12/18', '12/17', '09/17', '12/06', '11/24']\n",
      "['09/17', '12/14', '12/18', '12/17', '09/17', '12/06', '11/24']\n"
     ]
    }
   ],
   "source": [
    "generators = []\n",
    "for sequential in [False, True]:\n",
    "    gen = RealTraceGenerator('caltech', test_ranges[1], sequential=sequential)\n",
    "    generators.append(gen)\n",
    "\n",
    "gen = GMMsTraceGenerator('caltech', test_ranges[1])\n",
    "generators.append(gen)\n",
    "\n",
    "for gen in generators:\n",
    "    print('--- ', gen)\n",
    "    for seed in [None, 11]:\n",
    "        print(f'seed is {seed}')\n",
    "        for _ in range(3):\n",
    "            gen.set_seed(seed)\n",
    "            days = []\n",
    "            for _ in range(7):\n",
    "                _, _, num_event = gen.get_event_queue()\n",
    "                days.append(gen.day.strftime(\"%m/%d\"))\n",
    "            print(days)"
   ]
  },
  {
   "cell_type": "markdown",
   "metadata": {},
   "source": [
    "## Discrete Action Wrapper"
   ]
  },
  {
   "cell_type": "code",
   "execution_count": 3,
   "metadata": {},
   "outputs": [
    {
     "name": "stdout",
     "output_type": "stream",
     "text": [
      "{'profit': 3.817058642384007, 'carbon_cost': 1.0716441228393614, 'excess_charge': 0.0}\n"
     ]
    }
   ],
   "source": [
    "env = DiscreteActionWrapper(EVChargingEnv(RealTraceGenerator('caltech', test_ranges[0])))\n",
    "\n",
    "action = np.random.randint(0, 5, size=(54,))\n",
    "\n",
    "done = False\n",
    "obs = env.reset(seed=100)\n",
    "steps = 0\n",
    "while not done:\n",
    "    obs, reward, done, info = env.step(action, return_info=True)\n",
    "    steps += 1\n",
    "\n",
    "print(info['reward_breakdown'])"
   ]
  },
  {
   "cell_type": "markdown",
   "metadata": {},
   "source": [
    "## Timestep Greedy and MPC"
   ]
  },
  {
   "cell_type": "markdown",
   "metadata": {},
   "source": [
    "## Algorithms"
   ]
  },
  {
   "cell_type": "code",
   "execution_count": 4,
   "metadata": {},
   "outputs": [
    {
     "name": "stdout",
     "output_type": "stream",
     "text": [
      "Seeds:  [0, 1, 2, 3, 4]\n"
     ]
    },
    {
     "name": "stderr",
     "output_type": "stream",
     "text": [
      "100%|██████████| 5/5 [00:23<00:00,  4.71s/it]\n"
     ]
    },
    {
     "name": "stdout",
     "output_type": "stream",
     "text": [
      "random, discrete\n",
      "      reward     profit  carbon_cost  excess_charge  max_profit\n",
      "0   0.816383   0.910663     0.094281   0.000000e+00     1.59700\n",
      "1   8.695362  10.693143     1.996671   1.109333e-03    14.45262\n",
      "2  10.456098  12.512791     2.055566   1.126667e-03    14.66722\n",
      "3  11.605387  13.540485     1.935063   3.466667e-05    18.29822\n",
      "4   8.272361   9.808107     1.535746   2.463215e-19    12.16664\n",
      "Seeds:  [0, 1, 2, 3, 4]\n"
     ]
    },
    {
     "name": "stderr",
     "output_type": "stream",
     "text": [
      "100%|██████████| 5/5 [00:38<00:00,  7.70s/it]\n"
     ]
    },
    {
     "name": "stdout",
     "output_type": "stream",
     "text": [
      "random, continuous\n",
      "      reward     profit  carbon_cost  excess_charge  max_profit\n",
      "0   0.909810   1.020915     0.111105       0.000000     1.59700\n",
      "1   8.700876  10.641045     1.940013       0.000156    14.45262\n",
      "2  10.074108  12.083357     2.009249       0.000000    14.66722\n",
      "3  11.325176  13.224640     1.899429       0.000035    18.29822\n",
      "4   8.303291   9.819902     1.516611       0.000000    12.16664\n",
      "MPC only supports continuous action space\n",
      "Seeds:  [0, 1, 2, 3, 4]\n"
     ]
    },
    {
     "name": "stderr",
     "output_type": "stream",
     "text": [
      "100%|██████████| 5/5 [01:01<00:00, 12.25s/it]\n"
     ]
    },
    {
     "name": "stdout",
     "output_type": "stream",
     "text": [
      "mpc, continuous\n",
      "      reward     profit  carbon_cost  excess_charge  max_profit\n",
      "0  12.948385  15.304723     2.356338       0.000000    17.00234\n",
      "1  11.023213  13.476350     2.453120       0.000017    14.45262\n",
      "2  12.066083  14.280520     2.214438       0.000000    14.66722\n",
      "3  14.925283  17.336723     2.411440       0.000000    18.29822\n",
      "4  10.107409  11.983145     1.875701       0.000035    12.16664\n",
      "Seeds:  [0, 1, 2, 3, 4]\n"
     ]
    },
    {
     "name": "stderr",
     "output_type": "stream",
     "text": [
      "100%|██████████| 5/5 [00:22<00:00,  4.47s/it]\n"
     ]
    },
    {
     "name": "stdout",
     "output_type": "stream",
     "text": [
      "greedy, discrete\n",
      "      reward     profit  carbon_cost  excess_charge  max_profit\n",
      "0  13.054946  15.537122     2.481864       0.000312    17.00234\n",
      "1  11.003670  13.522248     2.518544       0.000035    14.45262\n",
      "2  12.053717  14.447530     2.393812       0.000000    14.66722\n",
      "3  15.023689  17.536750     2.512888       0.000173    18.29822\n",
      "4  10.182529  12.093955     1.911218       0.000208    12.16664\n",
      "Seeds:  [0, 1, 2, 3, 4]\n"
     ]
    },
    {
     "name": "stderr",
     "output_type": "stream",
     "text": [
      "100%|██████████| 5/5 [00:31<00:00,  6.23s/it]"
     ]
    },
    {
     "name": "stdout",
     "output_type": "stream",
     "text": [
      "greedy, continuous\n",
      "      reward     profit  carbon_cost  excess_charge  max_profit\n",
      "0  13.054946  15.537122     2.481864       0.000312    17.00234\n",
      "1  11.003670  13.522248     2.518544       0.000035    14.45262\n",
      "2  12.053717  14.447530     2.393812       0.000000    14.66722\n",
      "3  15.023689  17.536750     2.512888       0.000173    18.29822\n",
      "4  10.182529  12.093955     1.911218       0.000208    12.16664\n"
     ]
    },
    {
     "name": "stderr",
     "output_type": "stream",
     "text": [
      "\n"
     ]
    }
   ],
   "source": [
    "env_discrete = DiscreteActionWrapper(EVChargingEnv(RealTraceGenerator('caltech', test_ranges[2])))\n",
    "env_continuous = EVChargingEnv(RealTraceGenerator('caltech', test_ranges[2]))\n",
    "\n",
    "algorithms = {\n",
    "    'random': RandomAlgorithm,\n",
    "    'mpc': MPC,\n",
    "    'greedy': GreedyAlgorithm,\n",
    "}\n",
    "\n",
    "for k in algorithms:\n",
    "    for action_type, env in zip(['discrete', 'continuous'], [env_discrete, env_continuous]):\n",
    "        try:\n",
    "            algorithm = algorithms[k](env)\n",
    "\n",
    "            reward_breakdown = algorithm.run(seeds=5)\n",
    "            print(f'{k}, {action_type}')\n",
    "            print(reward_breakdown)\n",
    "        except AssertionError as e:\n",
    "            print(e)"
   ]
  },
  {
   "cell_type": "code",
   "execution_count": 4,
   "metadata": {},
   "outputs": [
    {
     "name": "stderr",
     "output_type": "stream",
     "text": [
      "100%|██████████| 123/123 [08:28<00:00,  4.13s/it]\n"
     ]
    },
    {
     "name": "stdout",
     "output_type": "stream",
     "text": [
      "mpc1 average reward:  7.410445745394435\n",
      "mpc1 rewards:  [17.611852001760465, 11.448670037614956, 7.985192220906874, 2.532929820790012, 4.176859627738011, 12.365029189409828, 14.17219046398295, 11.264549520767648, 10.411906492757872, 10.561962344299584, 3.5108945420441184, 3.02229013132516, 16.97669532028571, 11.332930287640055, 11.220862345782631, 12.074439985514118, 14.354725924204056, 3.3824462410599696, 4.525322426872741, 15.721941822425856, 15.589723767711682, 10.710548717430974, 9.325908827321927, 10.041486342215087, 1.5577960668462778, 1.8944209934543916, 3.3740567292451296, 11.393019469259556, 12.041897462487684, 11.9524210946233, 10.337496287665852, 2.156338751693035, 2.552634520257798, 14.155571434432602, 11.589002950875702, 9.953536333828946, 9.83566177896273, 13.401318649880784, 2.36242955768457, 2.1580347025392252, 7.87894504608418, 5.462143927027356, 10.69286232039029, 9.457893157074517, 14.594033671808278, 6.082983311262314, 1.8734046584165327, 8.50700680444646, 10.003163349047925, 10.851522310653229, 8.725454116427338, 9.917149934718976, 1.343703122989105, 1.829697959072978, 9.995367610520127, 8.192418827770545, 10.95294800087726, 11.403205408760115, 6.440158255374936, 0.5747992967532297, 1.6323270599531972, 8.238594002885248, 9.937367555311434, 9.745140262434441, 2.3370670436002565, 1.797287830898468, 0.6255910336758913, 2.4083418740444102, 10.703772558457532, 6.9454655591226535, 7.1792399034461925, 7.211274141742036, 6.696371134662698, 1.1920501692532282, 1.8959031062197982, 10.194014679167271, 7.711418698732558, 9.23847256544656, 11.581846980799364, 7.433400691519463, 1.701703851263849, 0.8538113501703698, 5.8969828952583745, 5.834168193295418, 9.020531580195717, 8.110452254724335, 6.721787466643914, 1.758121641367113, 1.8667147151975803, 7.245835727744459, 7.3374606801818025, 8.494554329910292, 6.540533338807549, 8.08780192200478, 2.0025919113983237, 1.3006417725397912, 8.043792329969426, 4.940534321543914, 8.241154316216074, 11.435506994342019, 7.241741817899911, 4.1690458430180275, 1.4872159873969106, 10.239449863914501, 8.119955903260747, 10.54230733470501, 6.957526327153749, 7.451110873611787, 0.7584492328472476, 2.529202705272981, 9.398445993272297, 10.155519108121073, 10.360166147808476, 8.071453052543607, 5.929931055969101, 2.5253647896686746, 1.408271218107076, 6.4348609103937315, 9.031385568395093, 11.310933260508353, 8.32264714079475, 6.244069507776925, 2.8402883218521517]\n",
      "mpc1 reward breakdown:  {'profit': 1211.639088487926, 'carbon_cost': 300.1542477612958, 'excess_charge': 1.4042950776217404e-05}\n"
     ]
    },
    {
     "name": "stderr",
     "output_type": "stream",
     "text": [
      "100%|██████████| 122/122 [08:55<00:00,  4.39s/it]\n"
     ]
    },
    {
     "name": "stdout",
     "output_type": "stream",
     "text": [
      "mpc1 average reward:  6.952235601416942\n",
      "mpc1 rewards:  [0.7894010243878143, 2.7265030346381063, 6.61610753573998, 7.665468052922636, 7.827165146129333, 8.04432969120473, 2.4744573238958645, 2.1771152052274836, 14.649042464637708, 8.249903579071134, 9.671667994354133, 9.602741274276582, 7.353805117861956, 3.41740651046765, 1.6172736654832343, 8.487804753640399, 4.590118507453238, 9.050134211639602, 11.550236588056169, 10.4133473417773, 0.9334230032940265, 2.1036614809385576, 13.10871392252195, 7.857973669218443, 8.451251392104956, 10.033600059684902, 10.814211443851745, 0.994100578605656, 2.9008364458881544, 11.40326896461515, 13.395796456187824, 8.952760804200834, 10.893795709596636, 12.534941293593596, 1.7724280456082808, 0.13559649001477792, 11.35602597874921, 11.543417384982018, 9.721650580925044, 10.39003925690486, 8.689221439687659, 3.9857267224679385, 1.2794089121843815, 12.089453484347226, 8.882090228700484, 8.234318249701051, 10.246700925662692, 11.009921924959864, 2.0914770207976128, 1.7423546029407722, 8.443541105128824, 11.521055772479347, 8.618610146783062, 11.403574204499812, 8.541751137285551, 3.2141512292367795, 3.2471790419423905, 13.167605615934267, 14.820275287037411, 8.576273213403573, 8.331043184164498, 11.30197510183126, 1.2393794516232464, 3.0298048574286716, 7.786603039320266, 9.243531444299888, 9.358106589807093, 10.113015820037822, 13.861350001528255, 1.1838879042472623, 5.035393882761551, 12.096217755361401, 17.128892557796824, 8.207349231319519, 8.258045551849046, 8.701862865048325, 2.4833548137185155, 2.4222865030990697, 10.609056942232673, 7.606577108987461, 8.964254613784082, 10.088026356273234, 11.386004907805495, 0.19671708967179516, 1.5503185836686457, 10.483659309910474, 10.230389261419365, 3.6470596225869922, 0.8690951264096367, 1.7350358103536867, 1.0426384052618174, 2.7725564868819492, 11.015234824619425, 8.036233188800738, 8.810603049380376, 8.18355670652443, 7.953316612769808, 1.0575381476812618, 1.522475129974531, 9.527886717842323, 11.509409205166962, 10.978655624525945, 11.163986965272436, 12.170182087200164, 1.5910227967443296, 3.151871344552821, 12.228908315934845, 9.866001884259513, 8.963346366350558, 10.703694499130588, 6.083556594454569, 0.7703832053035432, 3.824246670429604, 2.2860544285911453, 2.7097248387360118, 0.0, 0.46108039029643916, 1.6773796759701511, 0.7866521515096522, 1.0662771985197672, 1.2274263800006533, 1.8063359423019623]\n",
      "mpc1 reward breakdown:  {'profit': 1144.847169857531, 'carbon_cost': 296.6744044572329, 'excess_charge': 2.2027266374528532e-05}\n"
     ]
    },
    {
     "name": "stderr",
     "output_type": "stream",
     "text": [
      "100%|██████████| 121/121 [10:19<00:00,  5.12s/it]\n"
     ]
    },
    {
     "name": "stdout",
     "output_type": "stream",
     "text": [
      "mpc1 average reward:  2.821764269448531\n",
      "mpc1 rewards:  [1.3757655969519373, 2.086546778261297, 10.834143115049326, 11.91075207819866, 14.769309264478313, 10.029833901492848, 12.626465400960143, 2.6132799119339456, 2.7587939386981812, 9.377536626967977, 15.019545302161271, 14.548587543858376, 13.859865476552129, 9.19117512339146, 0.9168226381166227, 1.1510554994240527, 2.5307532702451403, 11.742599686403407, 12.59595948015232, 13.23194005225372, 9.558470626451426, 2.416420534214556, 0.6151990165220479, 8.061383205815305, 9.915439857378988, 10.205381702630099, 10.269805130171445, 9.177516784053216, 3.5513181464955026, 1.123250317702272, 12.53160660073345, 9.485939410681167, 10.169572519874404, 8.61470239587391, 9.972882381651944, 0.9242112779725825, 2.3185855177898036, 9.78961632219427, 6.694243029731545, 8.075630302642615, 4.087244066165285, 2.492654596589272, 0.22001049603635514, 2.25196400913677, 0.861356092089856, 1.4008683880887889, 0.8246101985667648, 0.6996959315997833, 0.0, 0.0, 1.3075780736590055, 0.2503661065781023, 0.0, 0.0, 0.0, 0.21199065704135042, 0.0, 0.7080712450771491, 0.0, 0.1891739659997596, 0.0, 0.0, 0.0, 0.0, 0.1449090720834296, 0.0, 0.0, 0.0, 0.0, 0.3059781332780382, 0.924218371467357, 1.129934729422457, 0.0, 0.2378180327225876, 0.0, 0.0, 0.0, 0.7160241023913968, 0.0, 0.0, 0.21324725475246553, 0.0, 0.23735526665503318, 0.0, 0.18112012343544928, 0.7806445211277795, 0.0, 0.0, 0.0, 0.0, 0.0, 0.0, 0.0, 0.02455804862722827, 0.0, 0.0, 0.0, 0.0, 0.0, 1.0107013206402593, 0.0, 0.0, 0.4326400000000026, 0.0, 0.0, 1.412724471652171, 0.5740857708561911, 0.0, 0.2378180327225876, 0.2378180327225876, 0.0, 0.0, 0.0, 0.0, 0.0, 0.010564528000000198, 0.45033302892227306, 0.0, 0.023494169033034848, 0.0, 0.0]\n",
      "mpc1 reward breakdown:  {'profit': 431.4576619154414, 'carbon_cost': 90.02416328492127, 'excess_charge': 2.2027266374527546e-05}\n"
     ]
    },
    {
     "name": "stderr",
     "output_type": "stream",
     "text": [
      "100%|██████████| 123/123 [08:42<00:00,  4.25s/it]"
     ]
    },
    {
     "name": "stdout",
     "output_type": "stream",
     "text": [
      "mpc1 average reward:  2.186709295304183\n",
      "mpc1 rewards:  [0.3868741283088463, 0.0, 0.8689697471416109, 3.038588669577814, 2.006021629877654, 1.0813692481363455, 2.786496148885035, 0.4659200000000028, 0.7715734650263332, 1.5080532804422504, 1.639709133606255, 2.8475444091252267, 1.1349194981710715, 2.6781508091157114, 1.0686253237180243, 1.4537429034369589, 1.0146109999317325, 1.8156312243966373, 3.0949829409447496, 1.2548008896697063, 2.0326211361193827, 0.7847458266260414, 0.6742085823639093, 3.4808683581918896, 3.4719871857525386, 1.7973451532230305, 1.2614973425257958, 1.8116667685353471, 0.7589198109571695, 0.4171613755729792, 0.3388366579104569, 1.3448581583718273, 3.426047060715975, 1.7840879438824027, 1.2856618718039485, 1.5035033597699154, 1.9585412392174784, 1.1670225591484862, 0.8035723083879619, 2.423774150243565, 1.8999790326937698, 2.783678967776185, 0.9634725203668606, 0.4734068489513869, 2.649339976113318, 2.177681065276564, 1.3960537734980385, 1.863511198908633, 2.675797768619324, 2.096283917468726, 0.2954519870939049, 1.5514314916191185, 2.248288252579825, 3.457794245793947, 1.9824224873259613, 1.3923156431273995, 0.39281814637083984, 0.7572251459460885, 2.9561320335840806, 1.2382039842500387, 3.038665772272682, 2.735774502891169, 1.3583586472118303, 1.0580023312924212, 0.3737170591411334, 0.0, 3.5471259648998195, 3.3901008080904598, 2.299214282280819, 1.6042162301877825, 0.3830580105297842, 1.1830933751538035, 3.9948405222706245, 3.7047295490023373, 3.29240233686847, 4.377554324383514, 3.7781769207663016, 2.0168294183514446, 1.049920055860645, 2.5716251542428705, 4.071514207138023, 1.1763064596405142, 3.8035456581813905, 1.6453375903924103, 1.0771310979065878, 0.7057098601957914, 1.5070596559519467, 2.621057040646356, 2.4523075990806356, 2.084123282195448, 2.772907364849783, 1.560238484803544, 0.4964943628696573, 3.620182584076305, 4.412230177141703, 3.1733645255791174, 3.1487578476345073, 4.150679659125933, 0.5335072887159127, 1.0842639899762274, 2.9428580823860306, 3.2595593734579564, 4.108003478618347, 5.266156167691781, 4.342703826145515, 0.6154814086851426, 0.6328266792400797, 4.093076630266168, 5.563951052068176, 8.030019171730594, 5.430020605318943, 3.0654263504250365, 0.6397209150318308, 0.4972010779556906, 4.036001137081942, 5.3134445321431345, 3.901972513387503, 2.003889395166925, 4.337317580241167, 0.8194373589882371, 1.291538283129804, 5.804836097494374, 2.4208778177643637]\n",
      "mpc1 reward breakdown:  {'profit': 380.01687340177216, 'carbon_cost': 111.05163007938383, 'excess_charge': 0.0}\n"
     ]
    },
    {
     "name": "stderr",
     "output_type": "stream",
     "text": [
      "\n"
     ]
    }
   ],
   "source": [
    "import pdb\n",
    "\n",
    "ga = GreedyAlgorithm(project_action=True)\n",
    "mpc1 = MPC(lookahead=1)\n",
    "mpc2 = MPC(lookahead=2)\n",
    "mpc6 = MPC(lookahead=6)\n",
    "mpc12 = MPC(lookahead=12)\n",
    "mpc36 = MPC(lookahead=36)\n",
    "\n",
    "lbls = ['mpc1']\n",
    "algs = [mpc1]\n",
    "# lbls = ['greedy', 'mpc1', 'mpc2', 'mpc6', 'mpc12', 'mpc36']\n",
    "# algs = [ga, mpc1, mpc2, mpc6, mpc12, mpc36]\n",
    "\n",
    "DEFAULT_DATE_RANGES = (\n",
    "    ('2019-05-01', '2019-08-31'),\n",
    "    ('2019-09-01', '2019-12-31'),\n",
    "    ('2020-02-01', '2020-05-31'),\n",
    "    ('2021-05-01', '2021-08-31'),\n",
    ")\n",
    "\n",
    "# bug fix: commit 18be9933cbf14e19e17332c9a870f480471eea86\n",
    "# 2019-08-14: StationOccupiedError: Station CA-303 is occupied with ev 2_39_139_28_2019-08-15 07:07:28.618042.\n",
    "# 2019-10-25: StationOccupiedError: Station CA-317 is occupied with ev 2_39_91_437_2019-10-26 07:36:37.638121. -> change mask: mask = (self.day.day == max_depart.dt.day) instead of mask = (df['arrival'].dt.day == max_depart.dt.day)\n",
    "# 2020-03-15: StationOccupiedError: Station CA-303 is occupied with ev 2_39_139_28_2020-03-16 07:51:17.415039.\n",
    "\n",
    "DATE_FORMAT = '%Y-%m-%d'\n",
    "def num_days_in_period(xs) -> int:\n",
    "    \"\"\"Returns the number of days in period.\"\"\"\n",
    "    dts = tuple(datetime.strptime(x, DATE_FORMAT) for x in xs)\n",
    "    td = dts[1] - dts[0]\n",
    "    return td.days + 1\n",
    "\n",
    "for alg, lbl in zip(algs, lbls):\n",
    "    for season in DEFAULT_DATE_RANGES:\n",
    "        gen = RealTraceGenerator('caltech', season, sequential=True)\n",
    "        env = EVChargingEnv(gen)\n",
    "        rewards, breakdown = alg.run(num_days_in_period(season), env)\n",
    "\n",
    "        print(f'{lbl} average reward: ', np.mean(rewards))\n",
    "        print(f'{lbl} rewards: ', rewards)\n",
    "        print(f'{lbl} reward breakdown: ', breakdown)"
   ]
  },
  {
   "cell_type": "code",
   "execution_count": null,
   "metadata": {},
   "outputs": [],
   "source": []
  }
 ],
 "metadata": {
  "kernelspec": {
   "display_name": "Python 3.9.13 ('sustaingym')",
   "language": "python",
   "name": "python3"
  },
  "language_info": {
   "codemirror_mode": {
    "name": "ipython",
    "version": 3
   },
   "file_extension": ".py",
   "mimetype": "text/x-python",
   "name": "python",
   "nbconvert_exporter": "python",
   "pygments_lexer": "ipython3",
   "version": "3.9.13"
  },
  "orig_nbformat": 4,
  "vscode": {
   "interpreter": {
    "hash": "c910351b0c3a4aade2cf03b555240fe9951314ae7b50b4f56bc279231ceafe8d"
   }
  }
 },
 "nbformat": 4,
 "nbformat_minor": 2
}
