{
 "cells": [
  {
   "cell_type": "code",
   "execution_count": 1,
   "metadata": {},
   "outputs": [
    {
     "name": "stdout",
     "output_type": "stream",
     "text": [
      "/home/ubuntu/sustaingym\n"
     ]
    }
   ],
   "source": [
    "%load_ext autoreload\n",
    "%autoreload 2\n",
    "%matplotlib inline\n",
    "%cd .."
   ]
  },
  {
   "cell_type": "code",
   "execution_count": 2,
   "metadata": {},
   "outputs": [],
   "source": [
    "from datetime import datetime, timedelta\n",
    "import os\n",
    "import pytz\n",
    "\n",
    "import matplotlib.pyplot as plt\n",
    "import numpy as np\n",
    "import pandas as pd\n",
    "import seaborn as sns\n",
    "sns.set_style(\"darkgrid\")\n",
    "\n",
    "from sustaingym.data.load_moer import load_monthly_moer\n",
    "from sustaingym.envs.evcharging import EVChargingEnv, RealTraceGenerator, GMMsTraceGenerator, DiscreteActionWrapper\n",
    "from sustaingym.algorithms.evcharging.baselines import GreedyAlgorithm, MPC, RandomAlgorithm, RLAlgorithm, OfflineOptimal\n",
    "\n",
    "\n",
    "test_ranges = (\n",
    "    ('2019-05-01', '2019-08-31'),\n",
    "    ('2019-09-01', '2019-12-31'),\n",
    "    ('2020-02-01', '2020-05-31'),\n",
    "    ('2021-05-01', '2021-08-31'),\n",
    ")\n"
   ]
  },
  {
   "cell_type": "code",
   "execution_count": null,
   "metadata": {},
   "outputs": [],
   "source": [
    "def plot_(site: SiteStr, period: DefaultPeriodStr) -> None:\n",
    "    \"\"\"Plot violin plots for baselines.\"\"\"\n",
    "    algs = ['greedy', 'random_continuous', 'random_discrete', 'offline_optimal']\n",
    "    for window in [1, 3, 6, 12, 24]:\n",
    "        algs.append(f'mpc_{window}')\n",
    "\n",
    "    records = []\n",
    "    for alg in algs:\n",
    "        df = read_baseline(site, period, alg)\n",
    "        reward = list(np.array(df.reward))\n",
    "        for r in reward:\n",
    "            records.append((alg, r))\n",
    "\n",
    "    fig, ax = plt.subplots(figsize=(6, 4), tight_layout=True)\n",
    "    df = pd.DataFrame.from_records(records, columns=['alg', 'reward'])\n",
    "    sns.violinplot(data=df, x='alg', y='reward', ax=ax)\n",
    "    ax.set(xlabel='Algorithm', ylabel=\"Reward ($)\")\n",
    "    ax.set_xticklabels(algs, rotation=30)\n",
    "    fig.savefig(f'plots/violins_{site}_{period}.png', dpi=300, pad_inches=0)"
   ]
  }
 ],
 "metadata": {
  "kernelspec": {
   "display_name": "Python 3.9.13 ('sustaingym')",
   "language": "python",
   "name": "python3"
  },
  "language_info": {
   "codemirror_mode": {
    "name": "ipython",
    "version": 3
   },
   "file_extension": ".py",
   "mimetype": "text/x-python",
   "name": "python",
   "nbconvert_exporter": "python",
   "pygments_lexer": "ipython3",
   "version": "3.9.13"
  },
  "orig_nbformat": 4,
  "vscode": {
   "interpreter": {
    "hash": "c910351b0c3a4aade2cf03b555240fe9951314ae7b50b4f56bc279231ceafe8d"
   }
  }
 },
 "nbformat": 4,
 "nbformat_minor": 2
}
