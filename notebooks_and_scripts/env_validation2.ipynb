{
 "cells": [
  {
   "cell_type": "code",
   "execution_count": 7,
   "metadata": {},
   "outputs": [
    {
     "name": "stdout",
     "output_type": "stream",
     "text": [
      "5\n"
     ]
    }
   ],
   "source": [
    "# %load_ext autoreload\n",
    "# %autoreload 2\n",
    "# %matplotlib inline\n",
    "# %cd ..\n",
    "\n",
    "from sustaingym.envs.evcharging import EVChargingEnv, GMMsTraceGenerator\n",
    "\n",
    "# Create events generator which samples events from a GMM trained on Caltech\n",
    "# data. The 'jpl' site is also supported, along with the periods\n",
    "# 'Fall 2019', 'Spring 2020' , and 'Summer 2021'.\n",
    "gmmg = GMMsTraceGenerator('caltech', 'Summer 2019')\n",
    "\n",
    "# Create environment\n",
    "env = EVChargingEnv(gmmg, project_action_in_env=False)\n",
    "\n",
    "obs, _ = env.reset(seed=123)\n",
    "terminated = False\n",
    "while not terminated:\n",
    "    action = env.action_space.sample()\n",
    "    obs, reward, terminated, truncated, info = env.step(action)"
   ]
  },
  {
   "cell_type": "code",
   "execution_count": null,
   "metadata": {},
   "outputs": [],
   "source": []
  }
 ],
 "metadata": {
  "kernelspec": {
   "display_name": "rllib",
   "language": "python",
   "name": "python3"
  },
  "language_info": {
   "codemirror_mode": {
    "name": "ipython",
    "version": 3
   },
   "file_extension": ".py",
   "mimetype": "text/x-python",
   "name": "python",
   "nbconvert_exporter": "python",
   "pygments_lexer": "ipython3",
   "version": "3.9.16"
  },
  "orig_nbformat": 4
 },
 "nbformat": 4,
 "nbformat_minor": 2
}
